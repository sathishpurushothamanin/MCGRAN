{
  "cells": [
    {
      "cell_type": "markdown",
      "source": [
        "<H1><center>Neural Architecture Search using MCGRAN</center></H1>"
      ],
      "metadata": {
        "id": "9JrMWRR58WDZ"
      }
    },
    {
      "cell_type": "markdown",
      "source": [
        "# Multi-conditional GRAN"
      ],
      "metadata": {
        "id": "R8Brb9S19Nfv"
      }
    },
    {
      "cell_type": "markdown",
      "source": [
        "We model the conditional graph generation as an affine transformation based on given contraints.\n",
        "We use $ \\textrm{MLP}_{scale} $ and $ \\textrm{MLP}_{shift} $ to geometrically transform the feature space of bernoulli mixture components.\n",
        "Our intention with this transformation is to separate the various constraints(classes or categories) of graphs into distinct real space.\n",
        "\n",
        "\\begin{align}\n",
        "\t\\alpha_{1},..., \\alpha_{K} = \\textrm{Softmax}(\\sum_{i \\in \\boldsymbol{b}_{t},1 \\leq j \\leq i} \\textrm{MLP}_{\\alpha} (h_{i}^{R} - h_{j}^{R}) \\otimes \\textrm{MLP}_{scale}(c_{i}) + \\textrm{MLP}_{shift}(c_{i}))\n",
        "\\end{align}\n",
        "\n",
        "\\begin{align}\n",
        "\t\\theta_{1,i,j},..., \\theta_{K,i,j} = \\textrm{Sigmoid}(\\textrm{MLP}_{\\theta} (h_{i}^{R} - h_{j}^{R})  \\otimes \\textrm{MLP}_{scale}(c_{i}) + \\textrm{MLP}_{shift}(c_{i}))\n",
        "\\end{align}\n",
        "\n",
        "In equations, $ M $ denote the number of constraints enforced on each node $ i $, $ c_{i} \\in \\mathbb{R}^{M} $ represents the constraints vector associated with each node $ i $, $ \\textrm{MLP}_{scale} \\in  \\mathbb{R}^{K \\times H}$ is a RELU-based hidden layer capturing features for scaling factor, and $ \\textrm{MLP}_{shift} \\in  \\mathbb{R}^{K \\times H} $ is a RELU-based hidden layer capturing features for shift factor. $ K $ denote the number of mixture components and $ H $ denote the hidden dimension size."
      ],
      "metadata": {
        "id": "UtAUMszI-KMl"
      }
    },
    {
      "cell_type": "markdown",
      "source": [
        "# Graph-based Auto-regressive Affine Transformations"
      ],
      "metadata": {
        "id": "AlTfISfM_yn5"
      }
    },
    {
      "cell_type": "markdown",
      "source": [
        "Using the structure of the graph, that is, the adjacency matrix $ A $ for each graph $G = (V,E)$. We create node level features using 1D convolutions. We use a block of three 1D convolutional hidden layers stacked together to capture features for each vertices $ v $, where $ \\textrm{CNN}(A): \\mathbb{R}^{|V| \\times |V|} \\rightarrow \\mathbb{R}^{|V| \\times H}$, where adjacency matrix denoted as $ A \\in \\mathbb{R}^{|V| \\times |V|} $. Each channel of convolution captures the information specific to a node.\n",
        "\n",
        "Then, we apply auto-regressive affine transformation to create node labels.  In graph-based auto-regressive affine transformations, for each node label prediction, we use three information.  First information comes from the node features which we captured using the CNN. Let us denote node features for a node $v\\in V$ as $q_v\\in\\mathbb{R}^{H}$ with $H$ being the feature dimension.\n",
        "\n",
        "Second information comes from the nodes features of the other connected nodes. This acts as neighbor constraints to predict the current node label. For a node $v\\in V$ of a graph $G = (V,E)$ its set of neighboring features is given as\n",
        "\\[\n",
        "Neigh(v) = \\{ q_s ~|~ (s,v) \\in E \\}\n",
        "\\]\n",
        "We could also define $NAgg(v): \\mathbb{R}^{|Neigh(v)| \\times H} \\rightarrow \\mathbb{R}^{H}$\n",
        "\n",
        "\\begin{align}\n",
        "\tNAgg(v) = \\sum\\limits_{q\\in\\{ q_s ~|~ (s,v) \\in E \\}}\n",
        "\\end{align}\n",
        "\n",
        "For each node $ v $, we apply affine transformation based on node neighbors with one scaling factor $ \\textrm{MLP}_{scale}(NAgg(v)) $ and one shift factor $ \\textrm{MLP}_{shift}(NAgg(v)) $. \n",
        "\n",
        "Third information comes from the graph level constraint. We apply geometric transformation based on graph constraints with one scaling factor  $ \\textrm{MLP}_{scale}(c_{v}) $ and one shift factor $ \\textrm{MLP}_{shift}(c_{v}) $.\n",
        "\n",
        "The $ c_{v} \\in \\mathbb{R}^{M} $ represents the constraints vector associated with each node $ v $, the $ M $ denote the number of constraints enforced on each node $ v $, the $ \\textrm{MLP}_{scale} \\in  \\mathbb{R}^{H}$ is a RELU-based hidden layer capturing features for scaling factor, and the $ \\textrm{MLP}_{shift} \\in  \\mathbb{R}^{ H} $ is a RELU-based hidden layer capturing features for shift factor. The $ H $ denote the hidden dimension size.\n",
        "\n",
        "%From a social network perspective, each person (node) uses the information he or she knows, then collects information from his or her friends, and finally collects information other sources (books or internet) to make a decision.\n",
        "%The same process is applied here.\n",
        "\n",
        "We can combine all three information to predict for each node $ v $ the label as shown in equation~\\ref{eq:mcgran_node_label_equation}.\n",
        "\n",
        "\\begin{align}\n",
        "\tv = \\textrm{Softmax}(\\textrm{CNN}(v) \\otimes \\textrm{MLP}_{scale}(NAgg(v)) \\otimes \\textrm{MLP}_{scale}(c_{v})   + \\textrm{MLP}_{shift}(NAgg(v)) + \\textrm{MLP}_{shift}(c_{v}))\n",
        "\\end{align}"
      ],
      "metadata": {
        "id": "fh8FJykCAA1C"
      }
    },
    {
      "cell_type": "code",
      "execution_count": 10,
      "metadata": {
        "colab": {
          "base_uri": "https://localhost:8080/"
        },
        "id": "xhRxOd1qivxo",
        "outputId": "2f0d12ad-8377-4d9a-dc13-d552f0d3c3a3"
      },
      "outputs": [
        {
          "output_type": "stream",
          "name": "stdout",
          "text": [
            "Mounted at /content/drive\n"
          ]
        }
      ],
      "source": [
        "from google.colab import drive\n",
        "drive.mount('/content/drive', force_remount=True)"
      ]
    },
    {
      "cell_type": "code",
      "source": [
        "!pip install torch==1.11.0+cu113 torchvision==0.12.0+cu113 torchaudio==0.11.0 --extra-index-url https://download.pytorch.org/whl/cu113"
      ],
      "metadata": {
        "id": "HPIwYuQBBGf4",
        "colab": {
          "base_uri": "https://localhost:8080/"
        },
        "outputId": "d779db73-5803-4fe1-f354-9e201247ad81"
      },
      "execution_count": 11,
      "outputs": [
        {
          "output_type": "stream",
          "name": "stdout",
          "text": [
            "Looking in indexes: https://pypi.org/simple, https://us-python.pkg.dev/colab-wheels/public/simple/, https://download.pytorch.org/whl/cu113\n",
            "Collecting torch==1.11.0+cu113\n",
            "  Downloading https://download.pytorch.org/whl/cu113/torch-1.11.0%2Bcu113-cp38-cp38-linux_x86_64.whl (1637.0 MB)\n",
            "\u001b[2K     \u001b[91m━━━━━━━━━━━━━━━━━━━━━━━━━━━━━━━━━━━━━━━\u001b[0m\u001b[91m╸\u001b[0m \u001b[32m1.6/1.6 GB\u001b[0m \u001b[31m109.6 MB/s\u001b[0m eta \u001b[36m0:00:01\u001b[0mtcmalloc: large alloc 1636999168 bytes == 0x2e16000 @  0x7f7f2783b680 0x7f7f2785c824 0x5b3128 0x5bbc90 0x5f714c 0x64d800 0x527022 0x504866 0x56bbe1 0x569d8a 0x5f60c3 0x56bbe1 0x569d8a 0x5f60c3 0x56bbe1 0x569d8a 0x5f60c3 0x56bbe1 0x569d8a 0x5f60c3 0x56bbe1 0x569d8a 0x5f60c3 0x56bbe1 0x5f5ee6 0x56bbe1 0x569d8a 0x5f60c3 0x56cc92 0x569d8a 0x5f60c3\n",
            "\u001b[2K     \u001b[91m━━━━━━━━━━━━━━━━━━━━━━━━━━━━━━━━━━━━━━━\u001b[0m\u001b[91m╸\u001b[0m \u001b[32m1.6/1.6 GB\u001b[0m \u001b[31m129.3 MB/s\u001b[0m eta \u001b[36m0:00:01\u001b[0mtcmalloc: large alloc 2046255104 bytes == 0x64740000 @  0x7f7f2783b680 0x7f7f2785bda2 0x5f714c 0x64d800 0x527022 0x504866 0x56bbe1 0x569d8a 0x5f60c3 0x56bbe1 0x569d8a 0x5f60c3 0x56bbe1 0x569d8a 0x5f60c3 0x56bbe1 0x569d8a 0x5f60c3 0x56bbe1 0x569d8a 0x5f60c3 0x56bbe1 0x5f5ee6 0x56bbe1 0x569d8a 0x5f60c3 0x56cc92 0x569d8a 0x5f60c3 0x56bbe1 0x569d8a\n",
            "tcmalloc: large alloc 1636999168 bytes == 0x2e16000 @  0x7f7f2783b680 0x7f7f2785c824 0x5f97c1 0x5f8ecc 0x504866 0x56bbe1 0x569d8a 0x5f60c3 0x56bbe1 0x569d8a 0x5f60c3 0x50b32c 0x5f6b7b 0x66731d 0x5f6706 0x571143 0x50b22e 0x570b82 0x569d8a 0x50b3a0 0x570b82 0x569d8a 0x50b3a0 0x56cc92 0x501044 0x56be83 0x501044 0x56be83 0x501044 0x56be83 0x5f5ee6\n",
            "\u001b[2K     \u001b[90m━━━━━━━━━━━━━━━━━━━━━━━━━━━━━━━━━━━━━━━━\u001b[0m \u001b[32m1.6/1.6 GB\u001b[0m \u001b[31m801.1 kB/s\u001b[0m eta \u001b[36m0:00:00\u001b[0m\n",
            "\u001b[?25hCollecting torchvision==0.12.0+cu113\n",
            "  Downloading https://download.pytorch.org/whl/cu113/torchvision-0.12.0%2Bcu113-cp38-cp38-linux_x86_64.whl (22.3 MB)\n",
            "\u001b[2K     \u001b[90m━━━━━━━━━━━━━━━━━━━━━━━━━━━━━━━━━━━━━━━━\u001b[0m \u001b[32m22.3/22.3 MB\u001b[0m \u001b[31m68.0 MB/s\u001b[0m eta \u001b[36m0:00:00\u001b[0m\n",
            "\u001b[?25hCollecting torchaudio==0.11.0\n",
            "  Downloading https://download.pytorch.org/whl/cu113/torchaudio-0.11.0%2Bcu113-cp38-cp38-linux_x86_64.whl (2.9 MB)\n",
            "\u001b[2K     \u001b[90m━━━━━━━━━━━━━━━━━━━━━━━━━━━━━━━━━━━━━━━━\u001b[0m \u001b[32m2.9/2.9 MB\u001b[0m \u001b[31m80.2 MB/s\u001b[0m eta \u001b[36m0:00:00\u001b[0m\n",
            "\u001b[?25hRequirement already satisfied: typing-extensions in /usr/local/lib/python3.8/dist-packages (from torch==1.11.0+cu113) (4.4.0)\n",
            "Requirement already satisfied: requests in /usr/local/lib/python3.8/dist-packages (from torchvision==0.12.0+cu113) (2.25.1)\n",
            "Requirement already satisfied: numpy in /usr/local/lib/python3.8/dist-packages (from torchvision==0.12.0+cu113) (1.21.6)\n",
            "Requirement already satisfied: pillow!=8.3.*,>=5.3.0 in /usr/local/lib/python3.8/dist-packages (from torchvision==0.12.0+cu113) (7.1.2)\n",
            "Requirement already satisfied: idna<3,>=2.5 in /usr/local/lib/python3.8/dist-packages (from requests->torchvision==0.12.0+cu113) (2.10)\n",
            "Requirement already satisfied: certifi>=2017.4.17 in /usr/local/lib/python3.8/dist-packages (from requests->torchvision==0.12.0+cu113) (2022.12.7)\n",
            "Requirement already satisfied: urllib3<1.27,>=1.21.1 in /usr/local/lib/python3.8/dist-packages (from requests->torchvision==0.12.0+cu113) (1.24.3)\n",
            "Requirement already satisfied: chardet<5,>=3.0.2 in /usr/local/lib/python3.8/dist-packages (from requests->torchvision==0.12.0+cu113) (4.0.0)\n",
            "Installing collected packages: torch, torchvision, torchaudio\n",
            "  Attempting uninstall: torch\n",
            "    Found existing installation: torch 1.13.1+cu116\n",
            "    Uninstalling torch-1.13.1+cu116:\n",
            "      Successfully uninstalled torch-1.13.1+cu116\n",
            "  Attempting uninstall: torchvision\n",
            "    Found existing installation: torchvision 0.14.1+cu116\n",
            "    Uninstalling torchvision-0.14.1+cu116:\n",
            "      Successfully uninstalled torchvision-0.14.1+cu116\n",
            "  Attempting uninstall: torchaudio\n",
            "    Found existing installation: torchaudio 0.13.1+cu116\n",
            "    Uninstalling torchaudio-0.13.1+cu116:\n",
            "      Successfully uninstalled torchaudio-0.13.1+cu116\n",
            "\u001b[31mERROR: pip's dependency resolver does not currently take into account all the packages that are installed. This behaviour is the source of the following dependency conflicts.\n",
            "torchtext 0.14.1 requires torch==1.13.1, but you have torch 1.11.0+cu113 which is incompatible.\u001b[0m\u001b[31m\n",
            "\u001b[0mSuccessfully installed torch-1.11.0+cu113 torchaudio-0.11.0+cu113 torchvision-0.12.0+cu113\n"
          ]
        }
      ]
    },
    {
      "cell_type": "code",
      "source": [
        "!pip install tensorboardX"
      ],
      "metadata": {
        "id": "6dn1buYZHWGw",
        "colab": {
          "base_uri": "https://localhost:8080/"
        },
        "outputId": "93eff6eb-5541-40c9-d7c8-5e38a3824fc5"
      },
      "execution_count": 12,
      "outputs": [
        {
          "output_type": "stream",
          "name": "stdout",
          "text": [
            "Looking in indexes: https://pypi.org/simple, https://us-python.pkg.dev/colab-wheels/public/simple/\n",
            "Collecting tensorboardX\n",
            "  Downloading tensorboardX-2.5.1-py2.py3-none-any.whl (125 kB)\n",
            "\u001b[2K     \u001b[90m━━━━━━━━━━━━━━━━━━━━━━━━━━━━━━━━━━━━━━━\u001b[0m \u001b[32m125.4/125.4 KB\u001b[0m \u001b[31m6.3 MB/s\u001b[0m eta \u001b[36m0:00:00\u001b[0m\n",
            "\u001b[?25hRequirement already satisfied: protobuf<=3.20.1,>=3.8.0 in /usr/local/lib/python3.8/dist-packages (from tensorboardX) (3.19.6)\n",
            "Requirement already satisfied: numpy in /usr/local/lib/python3.8/dist-packages (from tensorboardX) (1.21.6)\n",
            "Installing collected packages: tensorboardX\n",
            "Successfully installed tensorboardX-2.5.1\n"
          ]
        }
      ]
    },
    {
      "cell_type": "code",
      "execution_count": 13,
      "metadata": {
        "id": "w9MZa_zMF4o3",
        "colab": {
          "base_uri": "https://localhost:8080/"
        },
        "outputId": "5501844b-3702-44d4-8013-01d68ac5de3a"
      },
      "outputs": [
        {
          "output_type": "stream",
          "name": "stdout",
          "text": [
            "  % Total    % Received % Xferd  Average Speed   Time    Time     Time  Current\n",
            "                                 Dload  Upload   Total   Spent    Left  Speed\n",
            "100  498M  100  498M    0     0  42.4M      0  0:00:11  0:00:11 --:--:-- 41.3M\n"
          ]
        }
      ],
      "source": [
        "!curl -O https://storage.googleapis.com/nasbench/nasbench_only108.tfrecord"
      ]
    },
    {
      "cell_type": "code",
      "execution_count": 14,
      "metadata": {
        "id": "6b80AUMxHaLc",
        "colab": {
          "base_uri": "https://localhost:8080/"
        },
        "outputId": "f88282bd-294e-4daf-a3e2-33c0df7246d7"
      },
      "outputs": [
        {
          "output_type": "stream",
          "name": "stdout",
          "text": [
            "\u001b[01m\u001b[Kdrive/MyDrive/Research-NAS/MCGRAN/utils/orca/orca.cpp:\u001b[m\u001b[K In function ‘\u001b[01m\u001b[Kint writeResults(int, const char*)\u001b[m\u001b[K’:\n",
            "\u001b[01m\u001b[Kdrive/MyDrive/Research-NAS/MCGRAN/utils/orca/orca.cpp:1341:13:\u001b[m\u001b[K \u001b[01;35m\u001b[Kwarning: \u001b[m\u001b[Kcontrol reaches end of non-void function [\u001b[01;35m\u001b[K-Wreturn-type\u001b[m\u001b[K]\n",
            " 1341 |     fstream \u001b[01;35m\u001b[Kfout\u001b[m\u001b[K;\n",
            "      |             \u001b[01;35m\u001b[K^~~~\u001b[m\u001b[K\n",
            "\u001b[01m\u001b[Kdrive/MyDrive/Research-NAS/MCGRAN/utils/orca/orca.cpp:\u001b[m\u001b[K In function ‘\u001b[01m\u001b[Kint writeEdgeResults(int, const char*)\u001b[m\u001b[K’:\n",
            "\u001b[01m\u001b[Kdrive/MyDrive/Research-NAS/MCGRAN/utils/orca/orca.cpp:1374:13:\u001b[m\u001b[K \u001b[01;35m\u001b[Kwarning: \u001b[m\u001b[Kcontrol reaches end of non-void function [\u001b[01;35m\u001b[K-Wreturn-type\u001b[m\u001b[K]\n",
            " 1374 |     fstream \u001b[01;35m\u001b[Kfout\u001b[m\u001b[K;\n",
            "      |             \u001b[01;35m\u001b[K^~~~\u001b[m\u001b[K\n"
          ]
        }
      ],
      "source": [
        "!g++ -O2 -std=c++11 -o drive/MyDrive/Research-NAS/MCGRAN/utils/orca/orca drive/MyDrive/Research-NAS/MCGRAN/utils/orca/orca.cpp"
      ]
    },
    {
      "cell_type": "code",
      "source": [],
      "metadata": {
        "id": "i4RW8Zz8COrZ"
      },
      "execution_count": 14,
      "outputs": []
    },
    {
      "cell_type": "markdown",
      "source": [
        "## Configuration Settings"
      ],
      "metadata": {
        "id": "_TZqIwxeCR0S"
      }
    },
    {
      "cell_type": "markdown",
      "source": [
        "All the configurable settings for working the GRAN model are specified in the yaml files located in the config folder.  There are five sections of parameters in the configuration files:\n",
        "\n",
        "1.   General experimental parameters\n",
        "2.   Dataset parameters\n",
        "3.   Model parameters\n",
        "4.   Training parameters\n",
        "5.   Test parameters"
      ],
      "metadata": {
        "id": "njK-vrjtCbbi"
      }
    },
    {
      "cell_type": "markdown",
      "source": [
        "### General experimental parameters"
      ],
      "metadata": {
        "id": "iNQDSbHvEOVV"
      }
    },
    {
      "cell_type": "markdown",
      "source": [
        "Name of the experiment\n",
        "> **exp_name**: *MCGRAN*\n",
        "\n",
        "The experiment directory folder name if not already present.  This folder will contain the training and evaluation metrics.\n",
        "\n",
        "> **exp_dir**: *exp/MCGRAN/* \n",
        "\n",
        "Name of the runner class name from gran_runner_*.py file\n",
        "> **runner**: *GranRunner_Evaluation*\n",
        "\n",
        "Distributed training of the model in multiple machines. Always set to false.  We did not test with true.\n",
        "> **use_horovod**: *false*\n",
        "\n",
        "GRU related settings. Always set to true. we did not test with false.\n",
        "> **use_gpu**: *true*      \n",
        "\n",
        "Cuda device id\n",
        "> **device**: *cuda:0*  \n",
        "\n",
        "Number of GPUs\n",
        "> **gpus**: [0]\n",
        "\n",
        "Random seed for reproducing the experiments\n",
        "> seed: 78123456"
      ],
      "metadata": {
        "id": "ygg4c_c3ESS9"
      }
    },
    {
      "cell_type": "code",
      "source": [
        "#!python drive/MyDrive/Research-NAS/MCGRAN/run_exp.py -c drive/MyDrive/Research-NAS/MCGRAN/config/mcgran.yaml -t"
      ],
      "metadata": {
        "id": "slxomCDMHHYw"
      },
      "execution_count": 15,
      "outputs": []
    },
    {
      "cell_type": "code",
      "source": [
        "!pip install scipy==1.6.2"
      ],
      "metadata": {
        "id": "9dGIIAcTBnKI",
        "colab": {
          "base_uri": "https://localhost:8080/"
        },
        "outputId": "d0f9384e-113f-4227-c898-6f4cdad6fde4"
      },
      "execution_count": 16,
      "outputs": [
        {
          "output_type": "stream",
          "name": "stdout",
          "text": [
            "Looking in indexes: https://pypi.org/simple, https://us-python.pkg.dev/colab-wheels/public/simple/\n",
            "Collecting scipy==1.6.2\n",
            "  Downloading scipy-1.6.2-cp38-cp38-manylinux1_x86_64.whl (27.2 MB)\n",
            "\u001b[2K     \u001b[90m━━━━━━━━━━━━━━━━━━━━━━━━━━━━━━━━━━━━━━━━\u001b[0m \u001b[32m27.2/27.2 MB\u001b[0m \u001b[31m21.2 MB/s\u001b[0m eta \u001b[36m0:00:00\u001b[0m\n",
            "\u001b[?25hRequirement already satisfied: numpy<1.23.0,>=1.16.5 in /usr/local/lib/python3.8/dist-packages (from scipy==1.6.2) (1.21.6)\n",
            "Installing collected packages: scipy\n",
            "  Attempting uninstall: scipy\n",
            "    Found existing installation: scipy 1.7.3\n",
            "    Uninstalling scipy-1.7.3:\n",
            "      Successfully uninstalled scipy-1.7.3\n",
            "Successfully installed scipy-1.6.2\n"
          ]
        }
      ]
    },
    {
      "cell_type": "code",
      "source": [
        "!pip install networkx==2.6.3"
      ],
      "metadata": {
        "id": "4AB1ME_qCY_O",
        "colab": {
          "base_uri": "https://localhost:8080/"
        },
        "outputId": "dfde824d-1542-4be5-f57b-da4770146b54"
      },
      "execution_count": 17,
      "outputs": [
        {
          "output_type": "stream",
          "name": "stdout",
          "text": [
            "Looking in indexes: https://pypi.org/simple, https://us-python.pkg.dev/colab-wheels/public/simple/\n",
            "Collecting networkx==2.6.3\n",
            "  Downloading networkx-2.6.3-py3-none-any.whl (1.9 MB)\n",
            "\u001b[2K     \u001b[90m━━━━━━━━━━━━━━━━━━━━━━━━━━━━━━━━━━━━━━━━\u001b[0m \u001b[32m1.9/1.9 MB\u001b[0m \u001b[31m34.0 MB/s\u001b[0m eta \u001b[36m0:00:00\u001b[0m\n",
            "\u001b[?25hInstalling collected packages: networkx\n",
            "  Attempting uninstall: networkx\n",
            "    Found existing installation: networkx 3.0\n",
            "    Uninstalling networkx-3.0:\n",
            "      Successfully uninstalled networkx-3.0\n",
            "Successfully installed networkx-2.6.3\n"
          ]
        }
      ]
    },
    {
      "cell_type": "code",
      "source": [
        "#!python drive/MyDrive/Research-NAS/MCGRAN/run_exp.py -c drive/MyDrive/Research-NAS/MCGRAN/config/mcgran.yaml -t"
      ],
      "metadata": {
        "id": "F1Svmje86bXd"
      },
      "execution_count": 18,
      "outputs": []
    },
    {
      "cell_type": "code",
      "source": [
        "#!python drive/MyDrive/Research-NAS/MCGRAN/run_exp.py -c drive/MyDrive/Research-NAS/MCGRAN/config/mcgran.yaml -e"
      ],
      "metadata": {
        "id": "t-DDi_G0Unyn"
      },
      "execution_count": 19,
      "outputs": []
    },
    {
      "cell_type": "code",
      "source": [
        "#%reload_ext tensorboard"
      ],
      "metadata": {
        "id": "358pOC156qnF"
      },
      "execution_count": 20,
      "outputs": []
    },
    {
      "cell_type": "code",
      "source": [
        "#%tensorboard --logdir 'drive/MyDrive/GRAN/exp/GRAN_EVALUATION'"
      ],
      "metadata": {
        "id": "yzgRql3X6rTk"
      },
      "execution_count": 21,
      "outputs": []
    },
    {
      "cell_type": "markdown",
      "source": [
        "# Evaluation"
      ],
      "metadata": {
        "id": "sPnRNrYOCG6Z"
      }
    },
    {
      "cell_type": "code",
      "source": [
        "import os\n",
        "import pickle\n",
        "import numpy as np\n",
        "\n",
        "base_path = \"drive/MyDrive/Research-NAS/MCGRAN/exp/notebook_results\"\n",
        "experiment_folder_list = os.listdir(base_path)\n"
      ],
      "metadata": {
        "id": "sjH0z6ScwxKM"
      },
      "execution_count": 22,
      "outputs": []
    },
    {
      "cell_type": "markdown",
      "source": [
        "We created 8 model with different random seeds and collected the data for the below evaluation metrics.\n",
        "\n",
        "*   Self-loops\n",
        "*   Isolated Nodes\n",
        "*   Validity of generated graphs that satisfy constraints of Neural Network\n",
        "*   Maximum Mean Discrepancy(MMD) of number of nodes, node degree, node clustering, and graph spectrum\n",
        "*   Test Accuracy of generated neural networks\n",
        "*   Uniqueness of generated neural networks\n",
        "*   Novelty of generated neural networks\n",
        "*   Visual analysis of general neural network"
      ],
      "metadata": {
        "id": "IC6io0__vgaE"
      }
    },
    {
      "cell_type": "markdown",
      "source": [
        "## Self-loops\n",
        "\n",
        "A self-loop check determines if the node connects to itself. For neural architecture, we don't expect the layers to connect to themselves. We will count the graphs which have self-loops."
      ],
      "metadata": {
        "id": "ei6_IlqewZ2X"
      }
    },
    {
      "cell_type": "code",
      "source": [
        "structure_evaluation_metrics_list = list()\n",
        "for folder_name in experiment_folder_list:\n",
        "    folder_name = os.path.join(base_path, folder_name)\n",
        "    file_name = os.path.join(folder_name, 'structure_evaluation_metrics.p')\n",
        "    if os.path.exists(file_name):\n",
        "        structure_evaluation_metrics = pickle.load(open(file_name, 'rb'))\n",
        "        structure_evaluation_metrics_list.append(structure_evaluation_metrics)"
      ],
      "metadata": {
        "id": "3qWwcZIXw0_U"
      },
      "execution_count": 23,
      "outputs": []
    },
    {
      "cell_type": "code",
      "source": [
        "self_loops_list = list()\n",
        "for metrics in structure_evaluation_metrics_list:\n",
        "    self_loops_list.append(metrics['self_loops'])\n",
        "self_loops_list = np.array(self_loops_list)\n",
        "print(\"Maximum number of graphs with self-loops \", np.max(self_loops_list))\n",
        "print(\"Minimum number of graphs with self-loops \", np.min(self_loops_list))\n",
        "print(\"Average number of graphs with self-loops \", np.mean(self_loops_list))\n",
        "print(\"Standard deviation of graphs with self-loops \", np.std(self_loops_list))"
      ],
      "metadata": {
        "id": "R3Zfv_ycw9X4",
        "colab": {
          "base_uri": "https://localhost:8080/"
        },
        "outputId": "cc9d7c47-699b-4739-840a-88f3708768b9"
      },
      "execution_count": 24,
      "outputs": [
        {
          "output_type": "stream",
          "name": "stdout",
          "text": [
            "Maximum number of graphs with self-loops  0\n",
            "Minimum number of graphs with self-loops  0\n",
            "Average number of graphs with self-loops  0.0\n",
            "Standard deviation of graphs with self-loops  0.0\n"
          ]
        }
      ]
    },
    {
      "cell_type": "markdown",
      "source": [
        "###Isolated Nodes\n",
        "\n",
        "Isolated nodes check will identify nodes not connected to any other in the graph. In a neural network, we expect the layers to form connections with another layer. We will count the graphs with isolated nodes."
      ],
      "metadata": {
        "id": "FdQmGz5cwiIN"
      }
    },
    {
      "cell_type": "code",
      "source": [
        "isolated_nodes_list = list()\n",
        "for metrics in structure_evaluation_metrics_list:\n",
        "    isolated_nodes_list.append(metrics['isolated_nodes'])\n",
        "isolated_nodes_list = np.array(isolated_nodes_list)\n",
        "print(\"Maximum number of graphs with isolated nodes \", np.max(isolated_nodes_list))\n",
        "print(\"Minimum number of graphs with isolated nodes \", np.min(isolated_nodes_list))\n",
        "print(\"Average number of graphs with isolated nodes \", np.mean(isolated_nodes_list))\n",
        "print(\"Standard deviation of graphs with isolated nodes \", np.std(isolated_nodes_list))"
      ],
      "metadata": {
        "id": "WVpdi14sxYJS",
        "colab": {
          "base_uri": "https://localhost:8080/"
        },
        "outputId": "e93d32ff-3793-4333-e6f6-d553869b1fab"
      },
      "execution_count": 25,
      "outputs": [
        {
          "output_type": "stream",
          "name": "stdout",
          "text": [
            "Maximum number of graphs with isolated nodes  0\n",
            "Minimum number of graphs with isolated nodes  0\n",
            "Average number of graphs with isolated nodes  0.0\n",
            "Standard deviation of graphs with isolated nodes  0.0\n"
          ]
        }
      ]
    },
    {
      "cell_type": "markdown",
      "source": [
        "###Validity\n",
        "\n",
        "Validity measures the number of validly generated graphs. Specifically, it has to satisfy the constraints of Directed Acyclic Graph and Neural Networks.\n",
        "\n",
        "*   Only the input node is at the start.\n",
        "*   Only the output node is at the end.\n",
        "*   Except for the output node, there should not be any node without a successor.\n",
        "*   Except for the input node, there should not be any node without a predecessor.\n",
        "\n",
        "\n",
        "\n",
        "\n",
        "\n",
        "\n",
        "\n"
      ],
      "metadata": {
        "id": "rSyTE9oVxgHa"
      }
    },
    {
      "cell_type": "code",
      "source": [
        "invalid_nn_list = list()\n",
        "for metrics in structure_evaluation_metrics_list:\n",
        "    invalid_nn_list.append(metrics['invalid_nn'])\n",
        "invalid_nn_list = np.array(invalid_nn_list)\n",
        "print(\"Maximum number of invalid graphs generated \", np.max(invalid_nn_list))\n",
        "print(\"Minimum number of invalid graphs generated \", np.min(invalid_nn_list))\n",
        "print(\"Average number of invalid graphs generated \", np.mean(invalid_nn_list))\n",
        "print(\"Standard deviation of invalid graphs generated \", np.std(invalid_nn_list))"
      ],
      "metadata": {
        "id": "ybZ39INoyPVE",
        "colab": {
          "base_uri": "https://localhost:8080/"
        },
        "outputId": "d06fa382-3a9f-4afc-d2cf-b8241bc86ed6"
      },
      "execution_count": 26,
      "outputs": [
        {
          "output_type": "stream",
          "name": "stdout",
          "text": [
            "Maximum number of invalid graphs generated  22\n",
            "Minimum number of invalid graphs generated  6\n",
            "Average number of invalid graphs generated  15.0\n",
            "Standard deviation of invalid graphs generated  6.196773353931867\n"
          ]
        }
      ]
    },
    {
      "cell_type": "code",
      "source": [
        "%matplotlib inline\n",
        "import matplotlib.pyplot as plt\n",
        "\n",
        "plt.figure(figsize=(15,10))\n",
        "plt.boxplot([invalid_nn_list],\n",
        "           labels=['Invalid graphs'])"
      ],
      "metadata": {
        "id": "j-MHba9JGTrc",
        "colab": {
          "base_uri": "https://localhost:8080/",
          "height": 731
        },
        "outputId": "d3398ba3-848b-4366-924d-6ed6b77889f2"
      },
      "execution_count": 27,
      "outputs": [
        {
          "output_type": "execute_result",
          "data": {
            "text/plain": [
              "{'whiskers': [<matplotlib.lines.Line2D at 0x7f84db9f6fd0>,\n",
              "  <matplotlib.lines.Line2D at 0x7f84dba07370>],\n",
              " 'caps': [<matplotlib.lines.Line2D at 0x7f84dba076d0>,\n",
              "  <matplotlib.lines.Line2D at 0x7f84dba07a30>],\n",
              " 'boxes': [<matplotlib.lines.Line2D at 0x7f84db9f6c70>],\n",
              " 'medians': [<matplotlib.lines.Line2D at 0x7f84dba07d90>],\n",
              " 'fliers': [<matplotlib.lines.Line2D at 0x7f84dba0f0d0>],\n",
              " 'means': []}"
            ]
          },
          "metadata": {},
          "execution_count": 27
        },
        {
          "output_type": "display_data",
          "data": {
            "text/plain": [
              "<Figure size 1080x720 with 1 Axes>"
            ],
            "image/png": "[encoded data removed]"
          },
          "metadata": {
            "needs_background": "light"
          }
        }
      ]
    },
    {
      "cell_type": "markdown",
      "source": [
        "###Maximum Mean Discrepancy\n",
        "\n",
        "Maximum Mean Discrepancy(MMD) compares two probability distributions and reports how far they are apart. We evaluate the following metrics only on valid graphs in order to eliminate the discrepancy caused by invalid graphs.\n",
        "\n",
        "\\begin{equation}\n",
        "    \\operatorname{MMD}^{2}(p \\| q) =\\mathbb{E}_{x, y \\sim p}[k(x, y)] + \\mathbb{E}_{x, y \\sim q}[k(x, y)] - 2 \\mathbb{E}_{x \\sim p, y \\sim q}[k(x, y)]\n",
        "\\end{equation}\n"
      ],
      "metadata": {
        "id": "lDgp8ufeyUdz"
      }
    },
    {
      "cell_type": "code",
      "source": [
        "MMD_num_of_nodes_list = list()\n",
        "for metrics in structure_evaluation_metrics_list:\n",
        "    MMD_num_of_nodes_list.append(metrics['dev']['num_nodes'])\n",
        "MMD_num_of_nodes_list = np.array(MMD_num_of_nodes_list)\n",
        "print(\"Maximum MMD distance between number of nodes in the validation and generated set \", np.max(MMD_num_of_nodes_list))\n",
        "print(\"Minimum MMD distance between number of nodes in the validation and generated set \", np.min(MMD_num_of_nodes_list))\n",
        "print(\"Average MMD distance between number of nodes in the validation and generated set \", np.mean(MMD_num_of_nodes_list))\n",
        "print(\"Standard deviation of MMD distance between number of nodes in the validation and generated set \", np.std(MMD_num_of_nodes_list))"
      ],
      "metadata": {
        "id": "_Mhk_OoEzC7P",
        "colab": {
          "base_uri": "https://localhost:8080/"
        },
        "outputId": "ba381ba5-64bf-48b7-f99d-db8c49800248"
      },
      "execution_count": 28,
      "outputs": [
        {
          "output_type": "stream",
          "name": "stdout",
          "text": [
            "Maximum MMD distance between number of nodes in the validation and generated set  0.0\n",
            "Minimum MMD distance between number of nodes in the validation and generated set  0.0\n",
            "Average MMD distance between number of nodes in the validation and generated set  0.0\n",
            "Standard deviation of MMD distance between number of nodes in the validation and generated set  0.0\n"
          ]
        }
      ]
    },
    {
      "cell_type": "code",
      "source": [
        "MMD_node_degree_list = list()\n",
        "for metrics in structure_evaluation_metrics_list:\n",
        "    MMD_node_degree_list.append(metrics['dev']['node_degree'])\n",
        "MMD_node_degree_list = np.array(MMD_node_degree_list)\n",
        "print(\"Maximum MMD distance between node degree in the validation and generated set \", np.max(MMD_node_degree_list))\n",
        "print(\"Minimum MMD distance between node degree in the validation and generated set \", np.min(MMD_node_degree_list))\n",
        "print(\"Average MMD distance between node degree in the validation and generated set \", np.mean(MMD_node_degree_list))\n",
        "print(\"Standard deviation of MMD distance between node degree in the validation and generated set \", np.std(MMD_node_degree_list))"
      ],
      "metadata": {
        "id": "6EDxMO3Zz4J3",
        "colab": {
          "base_uri": "https://localhost:8080/"
        },
        "outputId": "6b3dec07-e1f1-4a39-f03d-3ea5dccddebc"
      },
      "execution_count": 29,
      "outputs": [
        {
          "output_type": "stream",
          "name": "stdout",
          "text": [
            "Maximum MMD distance between node degree in the validation and generated set  0.011451229009241004\n",
            "Minimum MMD distance between node degree in the validation and generated set  -1.3680477957800363e-05\n",
            "Average MMD distance between node degree in the validation and generated set  0.0041471304059187645\n",
            "Standard deviation of MMD distance between node degree in the validation and generated set  0.00390293048838808\n"
          ]
        }
      ]
    },
    {
      "cell_type": "code",
      "source": [
        "MMD_node_clustering_list = list()\n",
        "for metrics in structure_evaluation_metrics_list:\n",
        "    MMD_node_clustering_list.append(metrics['dev']['node_clustering'])\n",
        "MMD_node_clustering_list = np.array(MMD_node_clustering_list)\n",
        "print(\"Maximum MMD distance between node clustering in the validation and generated set \", np.max(MMD_node_clustering_list))\n",
        "print(\"Minimum MMD distance between node clustering in the validation and generated set \", np.min(MMD_node_clustering_list))\n",
        "print(\"Average MMD distance between node clustering in the validation and generated set \", np.mean(MMD_node_clustering_list))\n",
        "print(\"Standard deviation of MMD distance between node clustering in the validation and generated set \", np.std(MMD_node_clustering_list))"
      ],
      "metadata": {
        "id": "g0RiLncZz-vu",
        "colab": {
          "base_uri": "https://localhost:8080/"
        },
        "outputId": "2602235c-b7fe-4d56-b53b-be8acf252214"
      },
      "execution_count": 30,
      "outputs": [
        {
          "output_type": "stream",
          "name": "stdout",
          "text": [
            "Maximum MMD distance between node clustering in the validation and generated set  0.0638851437915377\n",
            "Minimum MMD distance between node clustering in the validation and generated set  0.023828963371404333\n",
            "Average MMD distance between node clustering in the validation and generated set  0.03427743474095159\n",
            "Standard deviation of MMD distance between node clustering in the validation and generated set  0.01506229920578846\n"
          ]
        }
      ]
    },
    {
      "cell_type": "code",
      "source": [
        "MMD_graph_spectrum_list = list()\n",
        "for metrics in structure_evaluation_metrics_list:\n",
        "    MMD_graph_spectrum_list.append(metrics['dev']['graph_spectral'])\n",
        "MMD_graph_spectrum_list = np.array(MMD_graph_spectrum_list)\n",
        "print(\"Maximum MMD distance between graph laplacian in the validation and generated set \", np.max(MMD_graph_spectrum_list))\n",
        "print(\"Minimum MMD distance between graph laplacian in the validation and generated set \", np.min(MMD_graph_spectrum_list))\n",
        "print(\"Average MMD distance between graph laplacian in the validation and generated set \", np.mean(MMD_graph_spectrum_list))\n",
        "print(\"Standard deviation of MMD distance between graph laplacian in the validation and generated set \", np.std(MMD_graph_spectrum_list))"
      ],
      "metadata": {
        "id": "0xN8lXJK0IZX",
        "colab": {
          "base_uri": "https://localhost:8080/"
        },
        "outputId": "7e08aa18-d094-46fa-d5c3-ed5df90d76c7"
      },
      "execution_count": 31,
      "outputs": [
        {
          "output_type": "stream",
          "name": "stdout",
          "text": [
            "Maximum MMD distance between graph laplacian in the validation and generated set  0.008811470357078077\n",
            "Minimum MMD distance between graph laplacian in the validation and generated set  0.006392935136162237\n",
            "Average MMD distance between graph laplacian in the validation and generated set  0.008044510728962085\n",
            "Standard deviation of MMD distance between graph laplacian in the validation and generated set  0.0009320295463801902\n"
          ]
        }
      ]
    },
    {
      "cell_type": "markdown",
      "source": [
        "###Accuracy\n",
        "\n",
        "Let us review the the test accuracy of the valid graphs. In the following list, each value is the mean of the test accuracy of the generated graphs for the GRAN model generated with a random seed."
      ],
      "metadata": {
        "id": "hN9tI9oQ0N7G"
      }
    },
    {
      "cell_type": "code",
      "source": [
        "test_accuracy_list = list()\n",
        "for folder_name in experiment_folder_list:\n",
        "    folder_name = os.path.join(base_path, folder_name)\n",
        "    file_name = os.path.join(folder_name, 'generated_graph_test_accuracy_list.p')\n",
        "    if os.path.exists(file_name):\n",
        "        generated_graph_test_accuracy_list = pickle.load(open(file_name, 'rb'))\n",
        "        test_accuracy_list.append(sum(generated_graph_test_accuracy_list)/len(generated_graph_test_accuracy_list))\n",
        "test_accuracy_list = np.array(test_accuracy_list)\n",
        "print(\"Maximum test accuracy of valid graphs generated \", np.max(test_accuracy_list))\n",
        "print(\"Minimum test accuracy of valid graphs generated \", np.min(test_accuracy_list))\n",
        "print(\"Average test accuracy of valid graphs generated \", np.mean(test_accuracy_list))\n",
        "print(\"Standard deviation of the test accuracy of valid graphs generated \", np.std(test_accuracy_list))"
      ],
      "metadata": {
        "id": "MM3cz-9Q0UlS",
        "colab": {
          "base_uri": "https://localhost:8080/"
        },
        "outputId": "34529633-a055-445d-dbf1-45b096dabaf5"
      },
      "execution_count": 32,
      "outputs": [
        {
          "output_type": "stream",
          "name": "stdout",
          "text": [
            "Maximum test accuracy of valid graphs generated  0.9110020465321012\n",
            "Minimum test accuracy of valid graphs generated  0.9062711613278993\n",
            "Average test accuracy of valid graphs generated  0.9090195554065511\n",
            "Standard deviation of the test accuracy of valid graphs generated  0.002050063161167898\n"
          ]
        }
      ]
    },
    {
      "cell_type": "markdown",
      "source": [
        "###Uniqueness\n",
        "\n",
        "Uniqueness measures the unique share of the generated graphs. Simply put, we calculate the graph similarity. If the generated graphs are diverse among the generated graphs, then the generative model produces unique graphs.\n",
        "\n",
        "Graph edit distance measure tells us the minimum of edits in nodes and edges required in a graph to produce a corresponding isomorphic graph."
      ],
      "metadata": {
        "id": "4Tzqjb8P0dcp"
      }
    },
    {
      "cell_type": "code",
      "source": [
        "uniqueness_list = list()\n",
        "for metrics in structure_evaluation_metrics_list:\n",
        "    if 'uniqueness' in metrics.keys():\n",
        "        uniqueness_list.append(metrics['uniqueness'])\n",
        "\n",
        "graph_edit_distance_distribution = dict()\n",
        "for metric in uniqueness_list:\n",
        "    for key in metric.keys():\n",
        "        if key in graph_edit_distance_distribution.keys():\n",
        "            graph_edit_distance_distribution[key] += metric[key]\n",
        "        else:\n",
        "            graph_edit_distance_distribution[key] = metric[key]\n",
        "\n",
        "for key in graph_edit_distance_distribution.keys():\n",
        "    graph_edit_distance_distribution[key] = graph_edit_distance_distribution[key]/8 # 8 represent the number of evaluations\n",
        "\n",
        "for key in sorted(graph_edit_distance_distribution):\n",
        "    print(f\"{key}: {graph_edit_distance_distribution[key]}\")"
      ],
      "metadata": {
        "id": "TheqUuTP0ohG",
        "colab": {
          "base_uri": "https://localhost:8080/"
        },
        "outputId": "6c716a2e-2b21-4ccd-e2a7-3738b9024b88"
      },
      "execution_count": 33,
      "outputs": [
        {
          "output_type": "stream",
          "name": "stdout",
          "text": [
            "0: 0.6439393939393939\n",
            "1: 5.12121212121212\n",
            "2: 17.303030303030305\n",
            "3: 23.573232323232325\n",
            "4: 13.141414141414142\n",
            "5: 2.558080808080808\n",
            "6: 0.1590909090909091\n"
          ]
        }
      ]
    },
    {
      "cell_type": "markdown",
      "source": [
        "###Novelty\n",
        "\n",
        "We measure novelty as the valid number of generated graphs not available in the training dataset.\n",
        "\n",
        "As defined earlier, graph edit distance measure the number of changes required to make one graph isomorphic to another graph. The graph edit distance metric will measure the novelty as the number of changes in the generated graphs to create the same graph in the training set. Therefore, the more the graph edit distance, the more the novelty of the graph generation model."
      ],
      "metadata": {
        "id": "kr4V9LWJ030C"
      }
    },
    {
      "cell_type": "code",
      "source": [
        "novelty_list = list()\n",
        "for metrics in structure_evaluation_metrics_list:\n",
        "    if 'novelty' in metrics.keys():\n",
        "        novelty_list.append(metrics['novelty'])\n",
        "graph_edit_distance_distribution = dict()\n",
        "for metric in novelty_list:\n",
        "    for key in metric.keys():\n",
        "        if key in graph_edit_distance_distribution.keys():\n",
        "            graph_edit_distance_distribution[key] += metric[key]\n",
        "        else:\n",
        "            graph_edit_distance_distribution[key] = metric[key]\n",
        "for key in graph_edit_distance_distribution.keys():\n",
        "    graph_edit_distance_distribution[key] = graph_edit_distance_distribution[key]/8 # 8 represent the number of evaluations\n",
        "for key in sorted(graph_edit_distance_distribution):\n",
        "    print(f\"{key}: {graph_edit_distance_distribution[key]}\")"
      ],
      "metadata": {
        "id": "aGwpMexz0co5",
        "colab": {
          "base_uri": "https://localhost:8080/"
        },
        "outputId": "a1720dbd-889c-435b-d4c1-5bf59b2a71f6"
      },
      "execution_count": 34,
      "outputs": [
        {
          "output_type": "stream",
          "name": "stdout",
          "text": [
            "0: 0.7051562499999999\n",
            "1: 5.94421875\n",
            "2: 17.5275\n",
            "3: 23.92234375\n",
            "4: 12.24515625\n",
            "5: 2.04\n",
            "6: 0.1146875\n",
            "7: 0.0009375\n"
          ]
        }
      ]
    },
    {
      "cell_type": "markdown",
      "source": [
        "###Visual Analysis using PyDot\n",
        "\n",
        "We provide a simple interface to visualize the generated graphs."
      ],
      "metadata": {
        "id": "m4M87gui5lsU"
      }
    },
    {
      "cell_type": "code",
      "source": [
        "from IPython.display import SVG\n",
        "selected_experiment_folder_name = '9670'\n",
        "selected_experiment_folder_name = os.path.join(base_path, selected_experiment_folder_name)"
      ],
      "metadata": {
        "id": "-Y1SNDv-51Ok"
      },
      "execution_count": 35,
      "outputs": []
    },
    {
      "cell_type": "code",
      "source": [
        "selected_graph_name = \"invalid_architecture_99.svg\" # graphs are numbered from 0 to 99\n",
        "file_name = os.path.join(selected_experiment_folder_name, selected_graph_name)\n",
        "SVG(file_name)"
      ],
      "metadata": {
        "id": "6vfhxJ0D54qU",
        "colab": {
          "base_uri": "https://localhost:8080/",
          "height": 560
        },
        "outputId": "3a9e5040-34fe-401e-f14a-8ca249948d2f"
      },
      "execution_count": 36,
      "outputs": [
        {
          "output_type": "execute_result",
          "data": {
            "text/plain": [
              "<IPython.core.display.SVG object>"
            ],
            "image/svg+xml": "<svg xmlns=\"http://www.w3.org/2000/svg\" xmlns:xlink=\"http://www.w3.org/1999/xlink\" width=\"389pt\" height=\"404pt\" viewBox=\"0.00 0.00 389.00 404.00\">\n<g id=\"graph0\" class=\"graph\" transform=\"scale(1 1) rotate(0) translate(4 400)\">\n<title>G</title>\n<polygon fill=\"white\" stroke=\"transparent\" points=\"-4,4 -4,-400 385,-400 385,4 -4,4\"/>\n<!-- Layer 0 input -->\n<g id=\"node1\" class=\"node\">\n<title>Layer 0 input</title>\n<polygon fill=\"none\" stroke=\"black\" points=\"90,-396 0,-396 0,-360 90,-360 90,-396\"/>\n<text text-anchor=\"middle\" x=\"45\" y=\"-374.3\" font-family=\"Times,serif\" font-size=\"14.00\">Layer 0 input</text>\n</g>\n<!-- Layer 1 conv3x3&#45;bn&#45;relu -->\n<g id=\"node2\" class=\"node\">\n<title>Layer 1 conv3x3-bn-relu</title>\n<polygon fill=\"none\" stroke=\"black\" points=\"192,-324 40,-324 40,-288 192,-288 192,-324\"/>\n<text text-anchor=\"middle\" x=\"116\" y=\"-302.3\" font-family=\"Times,serif\" font-size=\"14.00\">Layer 1 conv3x3-bn-relu</text>\n</g>\n<!-- Layer 0 input&#45;&gt;Layer 1 conv3x3&#45;bn&#45;relu -->\n<g id=\"edge1\" class=\"edge\">\n<title>Layer 0 input-&gt;Layer 1 conv3x3-bn-relu</title>\n<path fill=\"none\" stroke=\"black\" d=\"M62.55,-359.7C71.23,-351.14 81.86,-340.66 91.35,-331.3\"/>\n<polygon fill=\"black\" stroke=\"black\" points=\"93.99,-333.62 98.65,-324.1 89.07,-328.63 93.99,-333.62\"/>\n</g>\n<!-- Layer 4 conv3x3&#45;bn&#45;relu -->\n<g id=\"node5\" class=\"node\">\n<title>Layer 4 conv3x3-bn-relu</title>\n<polygon fill=\"none\" stroke=\"black\" points=\"211,-180 59,-180 59,-144 211,-144 211,-180\"/>\n<text text-anchor=\"middle\" x=\"135\" y=\"-158.3\" font-family=\"Times,serif\" font-size=\"14.00\">Layer 4 conv3x3-bn-relu</text>\n</g>\n<!-- Layer 0 input&#45;&gt;Layer 4 conv3x3&#45;bn&#45;relu -->\n<g id=\"edge2\" class=\"edge\">\n<title>Layer 0 input-&gt;Layer 4 conv3x3-bn-relu</title>\n<path fill=\"none\" stroke=\"black\" d=\"M38.42,-359.7C27.62,-328.11 10.14,-260.29 40,-216 48.83,-202.9 62.04,-192.7 75.82,-184.9\"/>\n<polygon fill=\"black\" stroke=\"black\" points=\"77.69,-187.87 84.92,-180.12 74.44,-181.68 77.69,-187.87\"/>\n</g>\n<!-- Layer 2 conv1x1&#45;bn&#45;relu -->\n<g id=\"node3\" class=\"node\">\n<title>Layer 2 conv1x1-bn-relu</title>\n<polygon fill=\"none\" stroke=\"black\" points=\"211,-252 59,-252 59,-216 211,-216 211,-252\"/>\n<text text-anchor=\"middle\" x=\"135\" y=\"-230.3\" font-family=\"Times,serif\" font-size=\"14.00\">Layer 2 conv1x1-bn-relu</text>\n</g>\n<!-- Layer 1 conv3x3&#45;bn&#45;relu&#45;&gt;Layer 2 conv1x1&#45;bn&#45;relu -->\n<g id=\"edge3\" class=\"edge\">\n<title>Layer 1 conv3x3-bn-relu-&gt;Layer 2 conv1x1-bn-relu</title>\n<path fill=\"none\" stroke=\"black\" d=\"M120.7,-287.7C122.81,-279.9 125.36,-270.51 127.72,-261.83\"/>\n<polygon fill=\"black\" stroke=\"black\" points=\"131.12,-262.67 130.36,-252.1 124.36,-260.84 131.12,-262.67\"/>\n</g>\n<!-- Layer 3 conv3x3&#45;bn&#45;relu -->\n<g id=\"node4\" class=\"node\">\n<title>Layer 3 conv3x3-bn-relu</title>\n<polygon fill=\"none\" stroke=\"black\" points=\"381,-252 229,-252 229,-216 381,-216 381,-252\"/>\n<text text-anchor=\"middle\" x=\"305\" y=\"-230.3\" font-family=\"Times,serif\" font-size=\"14.00\">Layer 3 conv3x3-bn-relu</text>\n</g>\n<!-- Layer 1 conv3x3&#45;bn&#45;relu&#45;&gt;Layer 3 conv3x3&#45;bn&#45;relu -->\n<g id=\"edge4\" class=\"edge\">\n<title>Layer 1 conv3x3-bn-relu-&gt;Layer 3 conv3x3-bn-relu</title>\n<path fill=\"none\" stroke=\"black\" d=\"M162.23,-287.88C188.53,-278.14 221.64,-265.87 249.36,-255.61\"/>\n<polygon fill=\"black\" stroke=\"black\" points=\"250.75,-258.82 258.92,-252.07 248.32,-252.26 250.75,-258.82\"/>\n</g>\n<!-- Layer 1 conv3x3&#45;bn&#45;relu&#45;&gt;Layer 4 conv3x3&#45;bn&#45;relu -->\n<g id=\"edge5\" class=\"edge\">\n<title>Layer 1 conv3x3-bn-relu-&gt;Layer 4 conv3x3-bn-relu</title>\n<path fill=\"none\" stroke=\"black\" d=\"M83.95,-287.88C70.88,-279.05 57.18,-266.97 50,-252 43.08,-237.57 42.24,-229.99 50,-216 57.13,-203.15 68.81,-193.01 81.27,-185.19\"/>\n<polygon fill=\"black\" stroke=\"black\" points=\"83.08,-188.19 89.97,-180.14 79.56,-182.13 83.08,-188.19\"/>\n</g>\n<!-- Layer 2 conv1x1&#45;bn&#45;relu&#45;&gt;Layer 4 conv3x3&#45;bn&#45;relu -->\n<g id=\"edge6\" class=\"edge\">\n<title>Layer 2 conv1x1-bn-relu-&gt;Layer 4 conv3x3-bn-relu</title>\n<path fill=\"none\" stroke=\"black\" d=\"M135,-215.7C135,-207.98 135,-198.71 135,-190.11\"/>\n<polygon fill=\"black\" stroke=\"black\" points=\"138.5,-190.1 135,-180.1 131.5,-190.1 138.5,-190.1\"/>\n</g>\n<!-- Layer 3 conv3x3&#45;bn&#45;relu&#45;&gt;Layer 4 conv3x3&#45;bn&#45;relu -->\n<g id=\"edge7\" class=\"edge\">\n<title>Layer 3 conv3x3-bn-relu-&gt;Layer 4 conv3x3-bn-relu</title>\n<path fill=\"none\" stroke=\"black\" d=\"M263.41,-215.88C239.97,-206.22 210.5,-194.09 185.7,-183.88\"/>\n<polygon fill=\"black\" stroke=\"black\" points=\"187.03,-180.64 176.45,-180.07 184.37,-187.11 187.03,-180.64\"/>\n</g>\n<!-- Layer 5 conv1x1&#45;bn&#45;relu -->\n<g id=\"node6\" class=\"node\">\n<title>Layer 5 conv1x1-bn-relu</title>\n<polygon fill=\"none\" stroke=\"black\" points=\"277,-108 125,-108 125,-72 277,-72 277,-108\"/>\n<text text-anchor=\"middle\" x=\"201\" y=\"-86.3\" font-family=\"Times,serif\" font-size=\"14.00\">Layer 5 conv1x1-bn-relu</text>\n</g>\n<!-- Layer 3 conv3x3&#45;bn&#45;relu&#45;&gt;Layer 5 conv1x1&#45;bn&#45;relu -->\n<g id=\"edge8\" class=\"edge\">\n<title>Layer 3 conv3x3-bn-relu-&gt;Layer 5 conv1x1-bn-relu</title>\n<path fill=\"none\" stroke=\"black\" d=\"M292.46,-215.87C274.34,-191.14 240.73,-145.24 219.68,-116.51\"/>\n<polygon fill=\"black\" stroke=\"black\" points=\"222.32,-114.19 213.59,-108.19 216.67,-118.33 222.32,-114.19\"/>\n</g>\n<!-- Layer 6 output -->\n<g id=\"node7\" class=\"node\">\n<title>Layer 6 output</title>\n<polygon fill=\"none\" stroke=\"black\" points=\"301.5,-36 204.5,-36 204.5,0 301.5,0 301.5,-36\"/>\n<text text-anchor=\"middle\" x=\"253\" y=\"-14.3\" font-family=\"Times,serif\" font-size=\"14.00\">Layer 6 output</text>\n</g>\n<!-- Layer 3 conv3x3&#45;bn&#45;relu&#45;&gt;Layer 6 output -->\n<g id=\"edge9\" class=\"edge\">\n<title>Layer 3 conv3x3-bn-relu-&gt;Layer 6 output</title>\n<path fill=\"none\" stroke=\"black\" d=\"M305.4,-215.53C305.55,-185.36 303.51,-121.93 286,-72 282.68,-62.54 277.45,-52.99 272.12,-44.65\"/>\n<polygon fill=\"black\" stroke=\"black\" points=\"274.88,-42.49 266.39,-36.15 269.08,-46.4 274.88,-42.49\"/>\n</g>\n<!-- Layer 4 conv3x3&#45;bn&#45;relu&#45;&gt;Layer 5 conv1x1&#45;bn&#45;relu -->\n<g id=\"edge10\" class=\"edge\">\n<title>Layer 4 conv3x3-bn-relu-&gt;Layer 5 conv1x1-bn-relu</title>\n<path fill=\"none\" stroke=\"black\" d=\"M151.31,-143.7C159.31,-135.22 169.07,-124.86 177.82,-115.58\"/>\n<polygon fill=\"black\" stroke=\"black\" points=\"180.56,-117.78 184.87,-108.1 175.47,-112.98 180.56,-117.78\"/>\n</g>\n<!-- Layer 5 conv1x1&#45;bn&#45;relu&#45;&gt;Layer 6 output -->\n<g id=\"edge11\" class=\"edge\">\n<title>Layer 5 conv1x1-bn-relu-&gt;Layer 6 output</title>\n<path fill=\"none\" stroke=\"black\" d=\"M213.85,-71.7C220.03,-63.39 227.54,-53.28 234.32,-44.14\"/>\n<polygon fill=\"black\" stroke=\"black\" points=\"237.14,-46.22 240.29,-36.1 231.52,-42.04 237.14,-46.22\"/>\n</g>\n</g>\n</svg>"
          },
          "metadata": {},
          "execution_count": 36
        }
      ]
    },
    {
      "cell_type": "code",
      "source": [
        "selected_graph_name = \"valid_architecture_93.svg\" # graphs are numbered from 0 to 99\n",
        "file_name = os.path.join(selected_experiment_folder_name, selected_graph_name)\n",
        "SVG(file_name)"
      ],
      "metadata": {
        "id": "HXSxXZz86Axj",
        "colab": {
          "base_uri": "https://localhost:8080/",
          "height": 676
        },
        "outputId": "53e33ca5-2ae7-4ca6-9959-efd0ceffba5a"
      },
      "execution_count": 37,
      "outputs": [
        {
          "output_type": "execute_result",
          "data": {
            "text/plain": [
              "<IPython.core.display.SVG object>"
            ],
            "image/svg+xml": "<svg xmlns=\"http://www.w3.org/2000/svg\" xmlns:xlink=\"http://www.w3.org/1999/xlink\" width=\"921pt\" height=\"476pt\" viewBox=\"0.00 0.00 920.50 476.00\">\n<g id=\"graph0\" class=\"graph\" transform=\"scale(1 1) rotate(0) translate(4 472)\">\n<title>G</title>\n<polygon fill=\"white\" stroke=\"transparent\" points=\"-4,4 -4,-472 916.5,-472 916.5,4 -4,4\"/>\n<!-- Layer 0 input -->\n<g id=\"node1\" class=\"node\">\n<title>Layer 0 input</title>\n<polygon fill=\"none\" stroke=\"black\" points=\"277,-468 187,-468 187,-432 277,-432 277,-468\"/>\n<text text-anchor=\"middle\" x=\"232\" y=\"-446.3\" font-family=\"Times,serif\" font-size=\"14.00\">Layer 0 input</text>\n</g>\n<!-- Layer 1 conv3x3&#45;bn&#45;relu -->\n<g id=\"node2\" class=\"node\">\n<title>Layer 1 conv3x3-bn-relu</title>\n<polygon fill=\"none\" stroke=\"black\" points=\"256,-396 104,-396 104,-360 256,-360 256,-396\"/>\n<text text-anchor=\"middle\" x=\"180\" y=\"-374.3\" font-family=\"Times,serif\" font-size=\"14.00\">Layer 1 conv3x3-bn-relu</text>\n</g>\n<!-- Layer 0 input&#45;&gt;Layer 1 conv3x3&#45;bn&#45;relu -->\n<g id=\"edge1\" class=\"edge\">\n<title>Layer 0 input-&gt;Layer 1 conv3x3-bn-relu</title>\n<path fill=\"none\" stroke=\"black\" d=\"M219.15,-431.7C212.97,-423.39 205.46,-413.28 198.68,-404.14\"/>\n<polygon fill=\"black\" stroke=\"black\" points=\"201.48,-402.04 192.71,-396.1 195.86,-406.22 201.48,-402.04\"/>\n</g>\n<!-- Layer 6 output -->\n<g id=\"node7\" class=\"node\">\n<title>Layer 6 output</title>\n<polygon fill=\"none\" stroke=\"black\" points=\"294.5,-36 197.5,-36 197.5,0 294.5,0 294.5,-36\"/>\n<text text-anchor=\"middle\" x=\"246\" y=\"-14.3\" font-family=\"Times,serif\" font-size=\"14.00\">Layer 6 output</text>\n</g>\n<!-- Layer 0 input&#45;&gt;Layer 6 output -->\n<g id=\"edge2\" class=\"edge\">\n<title>Layer 0 input-&gt;Layer 6 output</title>\n<path fill=\"none\" stroke=\"black\" d=\"M244.93,-431.68C251.81,-421.7 259.89,-408.66 265,-396 280.14,-358.49 284,-347.45 284,-307 284,-307 284,-307 284,-161 284,-119.63 268.77,-73.72 257.59,-45.61\"/>\n<polygon fill=\"black\" stroke=\"black\" points=\"260.72,-44.02 253.69,-36.09 254.24,-46.67 260.72,-44.02\"/>\n</g>\n<!-- Layer 2 maxpool3x3 -->\n<g id=\"node3\" class=\"node\">\n<title>Layer 2 maxpool3x3</title>\n<polygon fill=\"none\" stroke=\"black\" points=\"217.5,-324 86.5,-324 86.5,-288 217.5,-288 217.5,-324\"/>\n<text text-anchor=\"middle\" x=\"152\" y=\"-302.3\" font-family=\"Times,serif\" font-size=\"14.00\">Layer 2 maxpool3x3</text>\n</g>\n<!-- Layer 1 conv3x3&#45;bn&#45;relu&#45;&gt;Layer 2 maxpool3x3 -->\n<g id=\"edge3\" class=\"edge\">\n<title>Layer 1 conv3x3-bn-relu-&gt;Layer 2 maxpool3x3</title>\n<path fill=\"none\" stroke=\"black\" d=\"M173.08,-359.7C169.93,-351.81 166.12,-342.3 162.62,-333.55\"/>\n<polygon fill=\"black\" stroke=\"black\" points=\"165.81,-332.09 158.84,-324.1 159.31,-334.69 165.81,-332.09\"/>\n</g>\n<!-- Layer 1 conv3x3&#45;bn&#45;relu&#45;&gt;Layer 6 output -->\n<g id=\"edge4\" class=\"edge\">\n<title>Layer 1 conv3x3-bn-relu-&gt;Layer 6 output</title>\n<path fill=\"none\" stroke=\"black\" d=\"M199.11,-359.54C208.53,-349.93 219.3,-337.27 226,-324 244.29,-287.82 246,-275.54 246,-235 246,-235 246,-235 246,-161 246,-121 246,-74.65 246,-46.08\"/>\n<polygon fill=\"black\" stroke=\"black\" points=\"249.5,-46.05 246,-36.05 242.5,-46.05 249.5,-46.05\"/>\n</g>\n<!-- Layer 3 maxpool3x3 -->\n<g id=\"node4\" class=\"node\">\n<title>Layer 3 maxpool3x3</title>\n<polygon fill=\"none\" stroke=\"black\" points=\"217.5,-252 86.5,-252 86.5,-216 217.5,-216 217.5,-252\"/>\n<text text-anchor=\"middle\" x=\"152\" y=\"-230.3\" font-family=\"Times,serif\" font-size=\"14.00\">Layer 3 maxpool3x3</text>\n</g>\n<!-- Layer 2 maxpool3x3&#45;&gt;Layer 3 maxpool3x3 -->\n<g id=\"edge5\" class=\"edge\">\n<title>Layer 2 maxpool3x3-&gt;Layer 3 maxpool3x3</title>\n<path fill=\"none\" stroke=\"black\" d=\"M152,-287.7C152,-279.98 152,-270.71 152,-262.11\"/>\n<polygon fill=\"black\" stroke=\"black\" points=\"155.5,-262.1 152,-252.1 148.5,-262.1 155.5,-262.1\"/>\n</g>\n<!-- Layer 4 conv3x3&#45;bn&#45;relu -->\n<g id=\"node5\" class=\"node\">\n<title>Layer 4 conv3x3-bn-relu</title>\n<polygon fill=\"none\" stroke=\"black\" points=\"152,-180 0,-180 0,-144 152,-144 152,-180\"/>\n<text text-anchor=\"middle\" x=\"76\" y=\"-158.3\" font-family=\"Times,serif\" font-size=\"14.00\">Layer 4 conv3x3-bn-relu</text>\n</g>\n<!-- Layer 3 maxpool3x3&#45;&gt;Layer 4 conv3x3&#45;bn&#45;relu -->\n<g id=\"edge6\" class=\"edge\">\n<title>Layer 3 maxpool3x3-&gt;Layer 4 conv3x3-bn-relu</title>\n<path fill=\"none\" stroke=\"black\" d=\"M133.21,-215.7C123.83,-207.05 112.32,-196.45 102.09,-187.03\"/>\n<polygon fill=\"black\" stroke=\"black\" points=\"104.3,-184.3 94.57,-180.1 99.55,-189.45 104.3,-184.3\"/>\n</g>\n<!-- Layer 5 conv3x3&#45;bn&#45;relu -->\n<g id=\"node6\" class=\"node\">\n<title>Layer 5 conv3x3-bn-relu</title>\n<polygon fill=\"none\" stroke=\"black\" points=\"218,-108 66,-108 66,-72 218,-72 218,-108\"/>\n<text text-anchor=\"middle\" x=\"142\" y=\"-86.3\" font-family=\"Times,serif\" font-size=\"14.00\">Layer 5 conv3x3-bn-relu</text>\n</g>\n<!-- Layer 3 maxpool3x3&#45;&gt;Layer 5 conv3x3&#45;bn&#45;relu -->\n<g id=\"edge7\" class=\"edge\">\n<title>Layer 3 maxpool3x3-&gt;Layer 5 conv3x3-bn-relu</title>\n<path fill=\"none\" stroke=\"black\" d=\"M156.49,-215.84C160.56,-197.84 165.31,-168.79 161,-144 159.48,-135.24 156.64,-126.01 153.61,-117.75\"/>\n<polygon fill=\"black\" stroke=\"black\" points=\"156.79,-116.29 149.89,-108.25 150.28,-118.84 156.79,-116.29\"/>\n</g>\n<!-- Layer 4 conv3x3&#45;bn&#45;relu&#45;&gt;Layer 5 conv3x3&#45;bn&#45;relu -->\n<g id=\"edge8\" class=\"edge\">\n<title>Layer 4 conv3x3-bn-relu-&gt;Layer 5 conv3x3-bn-relu</title>\n<path fill=\"none\" stroke=\"black\" d=\"M92.31,-143.7C100.31,-135.22 110.07,-124.86 118.82,-115.58\"/>\n<polygon fill=\"black\" stroke=\"black\" points=\"121.56,-117.78 125.87,-108.1 116.47,-112.98 121.56,-117.78\"/>\n</g>\n<!-- Layer 5 conv3x3&#45;bn&#45;relu&#45;&gt;Layer 6 output -->\n<g id=\"edge9\" class=\"edge\">\n<title>Layer 5 conv3x3-bn-relu-&gt;Layer 6 output</title>\n<path fill=\"none\" stroke=\"black\" d=\"M167.44,-71.88C180.79,-62.89 197.32,-51.76 211.78,-42.03\"/>\n<polygon fill=\"black\" stroke=\"black\" points=\"214.12,-44.68 220.46,-36.19 210.21,-38.87 214.12,-44.68\"/>\n</g>\n<!-- Trainable parameters 8294794 -->\n<g id=\"node8\" class=\"node\">\n<title>Trainable parameters 8294794</title>\n<polygon fill=\"none\" stroke=\"black\" points=\"478.5,-468 295.5,-468 295.5,-432 478.5,-432 478.5,-468\"/>\n<text text-anchor=\"middle\" x=\"387\" y=\"-446.3\" font-family=\"Times,serif\" font-size=\"14.00\">Trainable parameters 8294794</text>\n</g>\n<!-- Training time 2548.552001953125 -->\n<g id=\"node9\" class=\"node\">\n<title>Training time 2548.552001953125</title>\n<polygon fill=\"none\" stroke=\"black\" points=\"703.5,-468 496.5,-468 496.5,-432 703.5,-432 703.5,-468\"/>\n<text text-anchor=\"middle\" x=\"600\" y=\"-446.3\" font-family=\"Times,serif\" font-size=\"14.00\">Training time 2548.552001953125</text>\n</g>\n<!-- Accuracy 0.9289863705635071 -->\n<g id=\"node10\" class=\"node\">\n<title>Accuracy 0.9289863705635071</title>\n<polygon fill=\"none\" stroke=\"black\" points=\"912.5,-468 721.5,-468 721.5,-432 912.5,-432 912.5,-468\"/>\n<text text-anchor=\"middle\" x=\"817\" y=\"-446.3\" font-family=\"Times,serif\" font-size=\"14.00\">Accuracy 0.9289863705635071</text>\n</g>\n</g>\n</svg>"
          },
          "metadata": {},
          "execution_count": 37
        }
      ]
    }
  ],
  "metadata": {
    "colab": {
      "provenance": []
    },
    "kernelspec": {
      "display_name": "Python 3",
      "name": "python3"
    },
    "gpuClass": "standard"
  },
  "nbformat": 4,
  "nbformat_minor": 0
}