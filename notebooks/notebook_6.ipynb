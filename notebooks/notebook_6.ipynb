{
  "cells": [
    {
      "cell_type": "markdown",
      "source": [
        "<H1><center>Neural Architecture Search using MCGRAN</center></H1>"
      ],
      "metadata": {
        "id": "9JrMWRR58WDZ"
      }
    },
    {
      "cell_type": "markdown",
      "source": [
        "# Benchmark Tests"
      ],
      "metadata": {
        "id": "R8Brb9S19Nfv"
      }
    },
    {
      "cell_type": "markdown",
      "source": [
        "We compared the performance of MCGRAN against the Regularized Evolutionary Search and the Random Search methods.  We utilized the NAS-101 benchmark procedure defined in this [notebook](https://colab.research.google.com/github/google-research/nasbench/blob/master/NASBench.ipynb).\n",
        "\n",
        "We restrict the search for Regularized Evolutionary and Random Search upto 1000 graph samples.  We use the sample size for MCGRAN."
      ],
      "metadata": {
        "id": "KmrpUdTBCu83"
      }
    },
    {
      "cell_type": "code",
      "execution_count": 2,
      "metadata": {
        "colab": {
          "base_uri": "https://localhost:8080/"
        },
        "id": "xhRxOd1qivxo",
        "outputId": "640e6c89-d55b-4575-f1db-3a60538b4e19"
      },
      "outputs": [
        {
          "output_type": "stream",
          "name": "stdout",
          "text": [
            "Mounted at /content/drive\n"
          ]
        }
      ],
      "source": [
        "from google.colab import drive\n",
        "drive.mount('/content/drive', force_remount=True)"
      ]
    },
    {
      "cell_type": "code",
      "execution_count": 3,
      "metadata": {
        "id": "w9MZa_zMF4o3",
        "colab": {
          "base_uri": "https://localhost:8080/"
        },
        "outputId": "9953e804-832e-4c90-cc38-59d4201147a4"
      },
      "outputs": [
        {
          "output_type": "stream",
          "name": "stdout",
          "text": [
            "  % Total    % Received % Xferd  Average Speed   Time    Time     Time  Current\n",
            "                                 Dload  Upload   Total   Spent    Left  Speed\n",
            "100  498M  100  498M    0     0  58.4M      0  0:00:08  0:00:08 --:--:-- 71.7M\n"
          ]
        }
      ],
      "source": [
        "!curl -O https://storage.googleapis.com/nasbench/nasbench_only108.tfrecord"
      ]
    },
    {
      "cell_type": "code",
      "source": [
        "!pip install tensorboardX"
      ],
      "metadata": {
        "colab": {
          "base_uri": "https://localhost:8080/"
        },
        "id": "LMrW-uSE_6j9",
        "outputId": "7520d604-d5e5-4ad3-ea7a-e5a05df2e437"
      },
      "execution_count": 4,
      "outputs": [
        {
          "output_type": "stream",
          "name": "stdout",
          "text": [
            "Looking in indexes: https://pypi.org/simple, https://us-python.pkg.dev/colab-wheels/public/simple/\n",
            "Collecting tensorboardX\n",
            "  Downloading tensorboardX-2.6-py2.py3-none-any.whl (114 kB)\n",
            "\u001b[2K     \u001b[90m━━━━━━━━━━━━━━━━━━━━━━━━━━━━━━━━━━━━━━━\u001b[0m \u001b[32m114.5/114.5 KB\u001b[0m \u001b[31m5.0 MB/s\u001b[0m eta \u001b[36m0:00:00\u001b[0m\n",
            "\u001b[?25hRequirement already satisfied: packaging in /usr/local/lib/python3.8/dist-packages (from tensorboardX) (23.0)\n",
            "Requirement already satisfied: numpy in /usr/local/lib/python3.8/dist-packages (from tensorboardX) (1.21.6)\n",
            "Requirement already satisfied: protobuf<4,>=3.8.0 in /usr/local/lib/python3.8/dist-packages (from tensorboardX) (3.19.6)\n",
            "Installing collected packages: tensorboardX\n",
            "Successfully installed tensorboardX-2.6\n"
          ]
        }
      ]
    },
    {
      "cell_type": "code",
      "source": [
        "!pip install scipy==1.6.2"
      ],
      "metadata": {
        "id": "9dGIIAcTBnKI",
        "colab": {
          "base_uri": "https://localhost:8080/"
        },
        "outputId": "2c7f42f6-4eed-4983-f3c3-c3dcfe101d9f"
      },
      "execution_count": 5,
      "outputs": [
        {
          "output_type": "stream",
          "name": "stdout",
          "text": [
            "Looking in indexes: https://pypi.org/simple, https://us-python.pkg.dev/colab-wheels/public/simple/\n",
            "Collecting scipy==1.6.2\n",
            "  Downloading scipy-1.6.2-cp38-cp38-manylinux1_x86_64.whl (27.2 MB)\n",
            "\u001b[2K     \u001b[90m━━━━━━━━━━━━━━━━━━━━━━━━━━━━━━━━━━━━━━━━\u001b[0m \u001b[32m27.2/27.2 MB\u001b[0m \u001b[31m56.5 MB/s\u001b[0m eta \u001b[36m0:00:00\u001b[0m\n",
            "\u001b[?25hRequirement already satisfied: numpy<1.23.0,>=1.16.5 in /usr/local/lib/python3.8/dist-packages (from scipy==1.6.2) (1.21.6)\n",
            "Installing collected packages: scipy\n",
            "  Attempting uninstall: scipy\n",
            "    Found existing installation: scipy 1.7.3\n",
            "    Uninstalling scipy-1.7.3:\n",
            "      Successfully uninstalled scipy-1.7.3\n",
            "Successfully installed scipy-1.6.2\n"
          ]
        }
      ]
    },
    {
      "cell_type": "code",
      "source": [
        "!pip install networkx==2.6.3"
      ],
      "metadata": {
        "id": "4AB1ME_qCY_O",
        "colab": {
          "base_uri": "https://localhost:8080/"
        },
        "outputId": "fae0b5dc-c1cb-47b0-8cb4-eb7c942d094a"
      },
      "execution_count": 6,
      "outputs": [
        {
          "output_type": "stream",
          "name": "stdout",
          "text": [
            "Looking in indexes: https://pypi.org/simple, https://us-python.pkg.dev/colab-wheels/public/simple/\n",
            "Collecting networkx==2.6.3\n",
            "  Downloading networkx-2.6.3-py3-none-any.whl (1.9 MB)\n",
            "\u001b[2K     \u001b[90m━━━━━━━━━━━━━━━━━━━━━━━━━━━━━━━━━━━━━━━━\u001b[0m \u001b[32m1.9/1.9 MB\u001b[0m \u001b[31m33.6 MB/s\u001b[0m eta \u001b[36m0:00:00\u001b[0m\n",
            "\u001b[?25hInstalling collected packages: networkx\n",
            "  Attempting uninstall: networkx\n",
            "    Found existing installation: networkx 3.0\n",
            "    Uninstalling networkx-3.0:\n",
            "      Successfully uninstalled networkx-3.0\n",
            "Successfully installed networkx-2.6.3\n"
          ]
        }
      ]
    },
    {
      "cell_type": "code",
      "source": [
        "!python drive/MyDrive/Research-NAS/MCGRAN/run_exp.py -c drive/MyDrive/Research-NAS/MCGRAN/config/mcgran.yaml -b"
      ],
      "metadata": {
        "id": "t-DDi_G0Unyn",
        "colab": {
          "base_uri": "https://localhost:8080/"
        },
        "outputId": "dea1d906-2f56-4a11-c8df-ceff9a47843b"
      },
      "execution_count": 7,
      "outputs": [
        {
          "output_type": "stream",
          "name": "stdout",
          "text": [
            "2023-02-22 12:10:39.428358: I tensorflow/core/platform/cpu_feature_guard.cc:193] This TensorFlow binary is optimized with oneAPI Deep Neural Network Library (oneDNN) to use the following CPU instructions in performance-critical operations:  AVX2 FMA\n",
            "To enable them in other operations, rebuild TensorFlow with the appropriate compiler flags.\n",
            "2023-02-22 12:10:40.275902: W tensorflow/compiler/xla/stream_executor/platform/default/dso_loader.cc:64] Could not load dynamic library 'libnvinfer.so.7'; dlerror: libnvinfer.so.7: cannot open shared object file: No such file or directory; LD_LIBRARY_PATH: /usr/lib64-nvidia\n",
            "2023-02-22 12:10:40.276012: W tensorflow/compiler/xla/stream_executor/platform/default/dso_loader.cc:64] Could not load dynamic library 'libnvinfer_plugin.so.7'; dlerror: libnvinfer_plugin.so.7: cannot open shared object file: No such file or directory; LD_LIBRARY_PATH: /usr/lib64-nvidia\n",
            "2023-02-22 12:10:40.276030: W tensorflow/compiler/tf2tensorrt/utils/py_utils.cc:38] TF-TRT Warning: Cannot dlopen some TensorRT libraries. If you would like to use Nvidia GPU with TensorRT, please make sure the missing libraries mentioned above are installed properly.\n",
            "Loading dataset from file... This may take a few minutes...\n",
            "WARNING:tensorflow:From /content/drive/MyDrive/Research-NAS/MCGRAN/nasbench/api.py:146: tf_record_iterator (from tensorflow.python.lib.io.tf_record) is deprecated and will be removed in a future version.\n",
            "Instructions for updating:\n",
            "Use eager execution and: \n",
            "`tf.data.TFRecordDataset(path)`\n",
            "WARNING:tensorflow:From /content/drive/MyDrive/Research-NAS/MCGRAN/nasbench/api.py:146: tf_record_iterator (from tensorflow.python.lib.io.tf_record) is deprecated and will be removed in a future version.\n",
            "Instructions for updating:\n",
            "Use eager execution and: \n",
            "`tf.data.TFRecordDataset(path)`\n",
            "Loaded dataset in 45 seconds\n",
            "INFO  | 2023-02-22 12:11:38,514 | run_exp.py                | line 31   : Writing log file to /content/drive/MyDrive/Research-NAS/MCGRAN/exp/MCGRAN/1562/log_exp_1562.txt\n",
            "INFO  | 2023-02-22 12:11:38,515 | run_exp.py                | line 32   : Exp instance id = 1562\n",
            "INFO  | 2023-02-22 12:11:38,515 | run_exp.py                | line 33   : Exp comment = None\n",
            "INFO  | 2023-02-22 12:11:38,515 | run_exp.py                | line 34   : Config =\n",
            ">>>>>>>>>>>>>>>>>>>>>>>>>>>>>>>>>>>>>>>>>>>>>>>>>>>>>>>>>>>>>>>>>>>>>>>>>>>>>>>>\n",
            "{'dataset': {'data_path': './',\n",
            "             'dev_ratio': 0.2,\n",
            "             'has_node_feat': False,\n",
            "             'is_overwrite_precompute': False,\n",
            "             'is_sample_subgraph': True,\n",
            "             'is_save_split': True,\n",
            "             'loader_name': 'GRANData_Targeted_Search',\n",
            "             'max_num_samples': 1000,\n",
            "             'max_test_accuracy': 100,\n",
            "             'min_test_accuracy': 80,\n",
            "             'name': 'nas',\n",
            "             'node_order': 'none',\n",
            "             'num_fwd_pass': 2,\n",
            "             'num_subgraph_batch': 2,\n",
            "             'train_ratio': 0.8},\n",
            " 'device': 'cuda:0',\n",
            " 'exp_dir': '/content/drive/MyDrive/Research-NAS/MCGRAN/exp/MCGRAN/',\n",
            " 'exp_name': '1562',\n",
            " 'free_cache': False,\n",
            " 'gpus': [0],\n",
            " 'model': {'block_size': 1,\n",
            "           'dimension_reduce': True,\n",
            "           'display_detailed_model': False,\n",
            "           'edge_weight': 1.0,\n",
            "           'embedding_dim': 256,\n",
            "           'has_attention': True,\n",
            "           'hidden_dim': 256,\n",
            "           'is_sym': False,\n",
            "           'max_num_nodes': 7,\n",
            "           'name': 'MCGRAN',\n",
            "           'node_categories': 3,\n",
            "           'num_GNN_layers': 7,\n",
            "           'num_GNN_prop': 1,\n",
            "           'num_canonical_order': 1,\n",
            "           'num_mix_component': 64,\n",
            "           'sample_stride': 1},\n",
            " 'run_id': '1562',\n",
            " 'runner': 'GranRunner_Evaluation',\n",
            " 'save_dir': '/content/drive/MyDrive/Research-NAS/MCGRAN/exp/MCGRAN/1562',\n",
            " 'seed': 67812345,\n",
            " 'test': {'batch_size': 100,\n",
            "          'better_vis': True,\n",
            "          'generated_graph_data_dir': 'generated_data',\n",
            "          'is_single_plot': False,\n",
            "          'is_test_ER': False,\n",
            "          'is_vis': True,\n",
            "          'num_test_gen': 100,\n",
            "          'num_vis': 10,\n",
            "          'num_workers': 0,\n",
            "          'test_model_dir': '/content/drive/MyDrive/Research-NAS/MCGRAN/exp/MCGRAN/1538',\n",
            "          'test_model_name': 'model_snapshot_0000034.pth',\n",
            "          'vis_num_row': 1},\n",
            " 'train': {'batch_size': 20,\n",
            "           'display_iter': 10,\n",
            "           'is_resume': False,\n",
            "           'lr': 0.0001,\n",
            "           'lr_decay': 0.1,\n",
            "           'lr_decay_epoch': [100000000],\n",
            "           'max_epoch': 34,\n",
            "           'momentum': 0.9,\n",
            "           'num_workers': 0,\n",
            "           'optimizer': 'Adam',\n",
            "           'resume_dir': None,\n",
            "           'resume_epoch': 100,\n",
            "           'resume_model': None,\n",
            "           'shuffle': True,\n",
            "           'snapshot_epoch': 34,\n",
            "           'valid_epoch': 50,\n",
            "           'wd': 0.0},\n",
            " 'use_gpu': True,\n",
            " 'use_horovod': False}\n",
            "<<<<<<<<<<<<<<<<<<<<<<<<<<<<<<<<<<<<<<<<<<<<<<<<<<<<<<<<<<<<<<<<<<<<<<<<<<<<<<<<\n",
            "INFO  | 2023-02-22 12:11:38,910 | gran_runner_evaluation.py | line 115  : Train/val/test = 800/200/200\n",
            "800\n",
            "INFO  | 2023-02-22 12:11:38,914 | gran_runner_evaluation.py | line 156  : No Edges vs. Edges in training set = 4.5721393034825875\n",
            "Running iteration 1\n",
            "Running iteration 2\n",
            "Running iteration 3\n",
            "Running iteration 4\n",
            "Running iteration 5\n",
            "Running iteration 6\n",
            "Running iteration 7\n",
            "Running iteration 8\n",
            "Random Search\n",
            "Test Set - Test Accuracy Statistics\n",
            "Mean  0.9140299489100774\n",
            "Standard Deviation  0.008345914962013791\n",
            "Number of valid graphs  2.5\n",
            "Number of graphs searched  1508.125\n",
            "Best Test Accuracy  0.9357972741127014\n",
            "Worst Test Accuracy  0.8715945482254028\n",
            "Evolutionary Search\n",
            "Test Set - Test Accuracy Statistics\n",
            "Mean  0.9219455206896733\n",
            "Standard Deviation  0.0021907872760796804\n",
            "Number of valid graphs  112.625\n",
            "Number of graphs searched  1004.375\n",
            "Best Test Accuracy  0.9404046535491943\n",
            "Worst Test Accuracy  0.3714943826198578\n"
          ]
        }
      ]
    },
    {
      "cell_type": "markdown",
      "source": [
        "# Evaluation"
      ],
      "metadata": {
        "id": "sPnRNrYOCG6Z"
      }
    },
    {
      "cell_type": "markdown",
      "source": [
        "Evolutionary search and random search results are logged under the save dir folder mentioned in the mcgran.yml file."
      ],
      "metadata": {
        "id": "69XYTG1KRF71"
      }
    },
    {
      "cell_type": "code",
      "source": [
        "import os\n",
        "import pickle\n",
        "import numpy as np\n",
        "\n",
        "base_path = \"/content/drive/MyDrive/Research-NAS/MCGRAN/exp/MCGRAN/1562\""
      ],
      "metadata": {
        "id": "cCtzaMKPfxb5"
      },
      "execution_count": 32,
      "outputs": []
    },
    {
      "cell_type": "code",
      "source": [
        "file_name = os.path.join(base_path, 'evolutionary_search.p')\n",
        "if os.path.exists(file_name):\n",
        "   evolutionary_search = pickle.load(open(file_name, 'rb'))"
      ],
      "metadata": {
        "id": "prG2bhRLjEwc"
      },
      "execution_count": 33,
      "outputs": []
    },
    {
      "cell_type": "code",
      "source": [
        "file_name = os.path.join(base_path, 'random_search.p')\n",
        "if os.path.exists(file_name):\n",
        "   random_search = pickle.load(open(file_name, 'rb'))"
      ],
      "metadata": {
        "id": "MOJPJqZgkAz2"
      },
      "execution_count": 34,
      "outputs": []
    },
    {
      "cell_type": "code",
      "source": [
        "test_accuracy_list = list()\n",
        "#We use the experiment results of MCGRAN collected under the notebook_results folder.\n",
        "base_path = \"drive/MyDrive/Research-NAS/MCGRAN/exp/notebook_results\"\n",
        "experiment_folder_list = os.listdir(base_path)\n",
        "for folder_name in experiment_folder_list:\n",
        "    folder_name = os.path.join(base_path, folder_name)\n",
        "    file_name = os.path.join(folder_name, 'generated_graph_test_accuracy_list.p')\n",
        "    if os.path.exists(file_name):\n",
        "        generated_graph_test_accuracy_list = pickle.load(open(file_name, 'rb'))\n",
        "        test_accuracy_list.append(sum(generated_graph_test_accuracy_list)/len(generated_graph_test_accuracy_list))\n",
        "test_accuracy_list = np.array(test_accuracy_list)"
      ],
      "metadata": {
        "id": "_80Qz7x9J3Jn"
      },
      "execution_count": 14,
      "outputs": []
    },
    {
      "cell_type": "code",
      "source": [
        "#vizualization for research paper\n",
        "import seaborn as sns\n",
        "import matplotlib as mpl\n",
        "import matplotlib.pyplot as plt\n",
        "import pandas as pd\n",
        "\n",
        "df = pd.DataFrame({'MCGRAN': np.round(test_accuracy_list, 4), \n",
        "                   'Random Search': np.round(random_search['valid_graphs_test_accuracy'][:4],4), \n",
        "                   'Evolutionary Search': np.round(evolutionary_search['valid_graphs_test_accuracy'][:4], 4)})"
      ],
      "metadata": {
        "id": "H1B-TRA9pwhK"
      },
      "execution_count": 58,
      "outputs": []
    },
    {
      "cell_type": "code",
      "source": [
        "benchmarks_context = {\n",
        "'axes.titlesize' : 24,\n",
        "'axes.labelsize': 20,\n",
        "'lines.linewidth' : 3,\n",
        "'lines.markersize' : 10,\n",
        "'xtick.labelsize' : 16,\n",
        "'ytick.labelsize' : 16,\n",
        "#'figure.figsize': (10, 12),\n",
        "'savefig.bbox': 'tight'\n",
        "}\n",
        "plt.figure(figsize=(10, 12))\n",
        "with mpl.rc_context(benchmarks_context):\n",
        "  benchmarks_plot = sns.boxplot(data=df[['MCGRAN', 'Random Search', 'Evolutionary Search']], orient='h');\n",
        "  plt.xlabel('Test Accuracy')\n",
        "  plt.savefig('drive/MyDrive/Research-NAS/MCGRAN/exp/notebook_results/benchmarks.png')"
      ],
      "metadata": {
        "colab": {
          "base_uri": "https://localhost:8080/",
          "height": 728
        },
        "id": "Dgd8KXdqqVMI",
        "outputId": "4256aac2-f692-499b-b3de-92b4b5808577"
      },
      "execution_count": 60,
      "outputs": [
        {
          "output_type": "display_data",
          "data": {
            "text/plain": [
              "<Figure size 720x864 with 1 Axes>"
            ],
            "image/png": "[encoded data removed]"
          },
          "metadata": {
            "needs_background": "light"
          }
        }
      ]
    }
  ],
  "metadata": {
    "colab": {
      "provenance": []
    },
    "kernelspec": {
      "display_name": "Python 3",
      "name": "python3"
    },
    "gpuClass": "standard",
    "accelerator": "GPU"
  },
  "nbformat": 4,
  "nbformat_minor": 0
}