{
  "cells": [
    {
      "cell_type": "markdown",
      "metadata": {
        "id": "Fl3U1tgPxTtq"
      },
      "source": [
        "<center><h1> Conditional Graph Generative Model for Neural Architecture Search </h1></center>"
      ],
      "id": "Fl3U1tgPxTtq"
    },
    {
      "cell_type": "markdown",
      "metadata": {
        "id": "zuospBOIxTtv"
      },
      "source": [
        "<p><i><b>Goal</b>: In this notebook, we will explain the problem of Neural Architecture Search using the NAS-Bench-101 dataset.</i></p>"
      ],
      "id": "zuospBOIxTtv"
    },
    {
      "cell_type": "markdown",
      "metadata": {
        "id": "u1qtCRDhxTtw"
      },
      "source": [
        "<h2>Introduction</h2>"
      ],
      "id": "u1qtCRDhxTtw"
    },
    {
      "cell_type": "markdown",
      "metadata": {
        "id": "VA1DltFpxTty"
      },
      "source": [
        "<p><a href='https://www.jmlr.org/papers/volume20/18-598/18-598.pdf?ref=https://githubhelp.com'>Neural Architecture Search(NAS)</a> is the process of searching for neural network models\n",
        "in an automated way. NAS is hard to perform due to the various combination of choices for neural\n",
        "network architecture. For instance, the first layer of the neural network can be a convolution layer,\n",
        "or Dense layer, or an Embedding layer, etc. This first layer can be connected to the next layer as\n",
        "well to any other subsequent layers. Since there are no restrictions on the number of layers and their\n",
        "connectivity, there are many possible neural network architectures.</p>"
      ],
      "id": "VA1DltFpxTty"
    },
    {
      "cell_type": "markdown",
      "metadata": {
        "id": "3NRmxNwRxTt2"
      },
      "source": [
        "<h3>Dataset Analysis</h3>"
      ],
      "id": "3NRmxNwRxTt2"
    },
    {
      "cell_type": "markdown",
      "metadata": {
        "id": "FGAOpFmVxTt3"
      },
      "source": [
        "<p><a href='https://arxiv.org/abs/1902.09635'>NAS-101</a> Benchmark dataset provides 423624 unique models. Each model trained for epochs 4, 12,\n",
        "36, and 108. The model performance included in the dataset is training accuracy, validation accuracy,\n",
        "testing accuracy, number of parameters, and training time. We will use the NAS-101 benchmarks to\n",
        "create a new dataset.</p>"
      ],
      "id": "FGAOpFmVxTt3"
    },
    {
      "cell_type": "markdown",
      "metadata": {
        "id": "eEOZYGcjxTt3"
      },
      "source": [
        "<p>We will now use the nas-101 benchmarks to create a new dataset.</p>\n",
        "\n",
        "<ul>\n",
        "    <li>Only benchmarks with 108 epochs</li>\n",
        "    <li>Only include architectures with test accuracy greater than 80 percent accuracy.  The intention is\n",
        "to learn high-performing architecture to generate networks with similar characteristics.</li>\n",
        "    <li>Restrict the number of architectures to maximum of 1000</li>\n",
        "</ul>"
      ],
      "id": "eEOZYGcjxTt3"
    },
    {
      "cell_type": "markdown",
      "metadata": {
        "id": "Y2vKWIFaxTt4"
      },
      "source": [
        "<p>We will select features in the dataset like adjacency matrices, layer names as part of training. We\n",
        "will perform sanity checks related to the graph structure and neural network architecture.</p>"
      ],
      "id": "Y2vKWIFaxTt4"
    },
    {
      "cell_type": "code",
      "execution_count": null,
      "metadata": {
        "colab": {
          "base_uri": "https://localhost:8080/"
        },
        "id": "87xssu96zmDs",
        "outputId": "3a2d1359-c29e-4b1f-aaa8-4fd33172348e"
      },
      "outputs": [
        {
          "name": "stdout",
          "output_type": "stream",
          "text": [
            "Mounted at /content/drive\n"
          ]
        }
      ],
      "source": [
        "from google.colab import drive\n",
        "drive.mount('/content/drive', force_remount=True)"
      ],
      "id": "87xssu96zmDs"
    },
    {
      "cell_type": "code",
      "execution_count": null,
      "metadata": {
        "colab": {
          "base_uri": "https://localhost:8080/"
        },
        "id": "Rek2YFizxTt4",
        "outputId": "f6f138e9-3bb1-4673-e3f1-31a4d9267300"
      },
      "outputs": [
        {
          "name": "stdout",
          "output_type": "stream",
          "text": [
            "Cloning into 'nasbench'...\n",
            "remote: Enumerating objects: 96, done.\u001b[K\n",
            "remote: Total 96 (delta 0), reused 0 (delta 0), pack-reused 96\u001b[K\n",
            "Unpacking objects: 100% (96/96), done.\n",
            "Looking in indexes: https://pypi.org/simple, https://us-python.pkg.dev/colab-wheels/public/simple/\n",
            "Processing ./nasbench\n",
            "\u001b[33m  DEPRECATION: A future pip version will change local packages to be built in-place without first copying to a temporary directory. We recommend you use --use-feature=in-tree-build to test your packages with this new behavior before it becomes the default.\n",
            "   pip 21.3 will remove support for this functionality. You can find discussion regarding this at https://github.com/pypa/pip/issues/7555.\u001b[0m\n",
            "Requirement already satisfied: tensorflow>=1.12.0 in /usr/local/lib/python3.7/dist-packages (from nasbench==1.0) (2.9.2)\n",
            "Requirement already satisfied: keras-preprocessing>=1.1.1 in /usr/local/lib/python3.7/dist-packages (from tensorflow>=1.12.0->nasbench==1.0) (1.1.2)\n",
            "Requirement already satisfied: opt-einsum>=2.3.2 in /usr/local/lib/python3.7/dist-packages (from tensorflow>=1.12.0->nasbench==1.0) (3.3.0)\n",
            "Requirement already satisfied: packaging in /usr/local/lib/python3.7/dist-packages (from tensorflow>=1.12.0->nasbench==1.0) (21.3)\n",
            "Requirement already satisfied: flatbuffers<2,>=1.12 in /usr/local/lib/python3.7/dist-packages (from tensorflow>=1.12.0->nasbench==1.0) (1.12)\n",
            "Requirement already satisfied: libclang>=13.0.0 in /usr/local/lib/python3.7/dist-packages (from tensorflow>=1.12.0->nasbench==1.0) (14.0.6)\n",
            "Requirement already satisfied: typing-extensions>=3.6.6 in /usr/local/lib/python3.7/dist-packages (from tensorflow>=1.12.0->nasbench==1.0) (4.1.1)\n",
            "Requirement already satisfied: h5py>=2.9.0 in /usr/local/lib/python3.7/dist-packages (from tensorflow>=1.12.0->nasbench==1.0) (3.1.0)\n",
            "Requirement already satisfied: absl-py>=1.0.0 in /usr/local/lib/python3.7/dist-packages (from tensorflow>=1.12.0->nasbench==1.0) (1.3.0)\n",
            "Requirement already satisfied: tensorflow-estimator<2.10.0,>=2.9.0rc0 in /usr/local/lib/python3.7/dist-packages (from tensorflow>=1.12.0->nasbench==1.0) (2.9.0)\n",
            "Requirement already satisfied: google-pasta>=0.1.1 in /usr/local/lib/python3.7/dist-packages (from tensorflow>=1.12.0->nasbench==1.0) (0.2.0)\n",
            "Requirement already satisfied: keras<2.10.0,>=2.9.0rc0 in /usr/local/lib/python3.7/dist-packages (from tensorflow>=1.12.0->nasbench==1.0) (2.9.0)\n",
            "Requirement already satisfied: wrapt>=1.11.0 in /usr/local/lib/python3.7/dist-packages (from tensorflow>=1.12.0->nasbench==1.0) (1.14.1)\n",
            "Requirement already satisfied: gast<=0.4.0,>=0.2.1 in /usr/local/lib/python3.7/dist-packages (from tensorflow>=1.12.0->nasbench==1.0) (0.4.0)\n",
            "Requirement already satisfied: astunparse>=1.6.0 in /usr/local/lib/python3.7/dist-packages (from tensorflow>=1.12.0->nasbench==1.0) (1.6.3)\n",
            "Requirement already satisfied: tensorboard<2.10,>=2.9 in /usr/local/lib/python3.7/dist-packages (from tensorflow>=1.12.0->nasbench==1.0) (2.9.1)\n",
            "Requirement already satisfied: six>=1.12.0 in /usr/local/lib/python3.7/dist-packages (from tensorflow>=1.12.0->nasbench==1.0) (1.15.0)\n",
            "Requirement already satisfied: setuptools in /usr/local/lib/python3.7/dist-packages (from tensorflow>=1.12.0->nasbench==1.0) (57.4.0)\n",
            "Requirement already satisfied: numpy>=1.20 in /usr/local/lib/python3.7/dist-packages (from tensorflow>=1.12.0->nasbench==1.0) (1.21.6)\n",
            "Requirement already satisfied: grpcio<2.0,>=1.24.3 in /usr/local/lib/python3.7/dist-packages (from tensorflow>=1.12.0->nasbench==1.0) (1.50.0)\n",
            "Requirement already satisfied: protobuf<3.20,>=3.9.2 in /usr/local/lib/python3.7/dist-packages (from tensorflow>=1.12.0->nasbench==1.0) (3.19.6)\n",
            "Requirement already satisfied: termcolor>=1.1.0 in /usr/local/lib/python3.7/dist-packages (from tensorflow>=1.12.0->nasbench==1.0) (2.1.0)\n",
            "Requirement already satisfied: tensorflow-io-gcs-filesystem>=0.23.1 in /usr/local/lib/python3.7/dist-packages (from tensorflow>=1.12.0->nasbench==1.0) (0.27.0)\n",
            "Requirement already satisfied: wheel<1.0,>=0.23.0 in /usr/local/lib/python3.7/dist-packages (from astunparse>=1.6.0->tensorflow>=1.12.0->nasbench==1.0) (0.38.4)\n",
            "Requirement already satisfied: cached-property in /usr/local/lib/python3.7/dist-packages (from h5py>=2.9.0->tensorflow>=1.12.0->nasbench==1.0) (1.5.2)\n",
            "Requirement already satisfied: tensorboard-data-server<0.7.0,>=0.6.0 in /usr/local/lib/python3.7/dist-packages (from tensorboard<2.10,>=2.9->tensorflow>=1.12.0->nasbench==1.0) (0.6.1)\n",
            "Requirement already satisfied: google-auth<3,>=1.6.3 in /usr/local/lib/python3.7/dist-packages (from tensorboard<2.10,>=2.9->tensorflow>=1.12.0->nasbench==1.0) (2.14.1)\n",
            "Requirement already satisfied: requests<3,>=2.21.0 in /usr/local/lib/python3.7/dist-packages (from tensorboard<2.10,>=2.9->tensorflow>=1.12.0->nasbench==1.0) (2.23.0)\n",
            "Requirement already satisfied: google-auth-oauthlib<0.5,>=0.4.1 in /usr/local/lib/python3.7/dist-packages (from tensorboard<2.10,>=2.9->tensorflow>=1.12.0->nasbench==1.0) (0.4.6)\n",
            "Requirement already satisfied: werkzeug>=1.0.1 in /usr/local/lib/python3.7/dist-packages (from tensorboard<2.10,>=2.9->tensorflow>=1.12.0->nasbench==1.0) (1.0.1)\n",
            "Requirement already satisfied: markdown>=2.6.8 in /usr/local/lib/python3.7/dist-packages (from tensorboard<2.10,>=2.9->tensorflow>=1.12.0->nasbench==1.0) (3.4.1)\n",
            "Requirement already satisfied: tensorboard-plugin-wit>=1.6.0 in /usr/local/lib/python3.7/dist-packages (from tensorboard<2.10,>=2.9->tensorflow>=1.12.0->nasbench==1.0) (1.8.1)\n",
            "Requirement already satisfied: rsa<5,>=3.1.4 in /usr/local/lib/python3.7/dist-packages (from google-auth<3,>=1.6.3->tensorboard<2.10,>=2.9->tensorflow>=1.12.0->nasbench==1.0) (4.9)\n",
            "Requirement already satisfied: pyasn1-modules>=0.2.1 in /usr/local/lib/python3.7/dist-packages (from google-auth<3,>=1.6.3->tensorboard<2.10,>=2.9->tensorflow>=1.12.0->nasbench==1.0) (0.2.8)\n",
            "Requirement already satisfied: cachetools<6.0,>=2.0.0 in /usr/local/lib/python3.7/dist-packages (from google-auth<3,>=1.6.3->tensorboard<2.10,>=2.9->tensorflow>=1.12.0->nasbench==1.0) (5.2.0)\n",
            "Requirement already satisfied: requests-oauthlib>=0.7.0 in /usr/local/lib/python3.7/dist-packages (from google-auth-oauthlib<0.5,>=0.4.1->tensorboard<2.10,>=2.9->tensorflow>=1.12.0->nasbench==1.0) (1.3.1)\n",
            "Requirement already satisfied: importlib-metadata>=4.4 in /usr/local/lib/python3.7/dist-packages (from markdown>=2.6.8->tensorboard<2.10,>=2.9->tensorflow>=1.12.0->nasbench==1.0) (4.13.0)\n",
            "Requirement already satisfied: zipp>=0.5 in /usr/local/lib/python3.7/dist-packages (from importlib-metadata>=4.4->markdown>=2.6.8->tensorboard<2.10,>=2.9->tensorflow>=1.12.0->nasbench==1.0) (3.10.0)\n",
            "Requirement already satisfied: pyasn1<0.5.0,>=0.4.6 in /usr/local/lib/python3.7/dist-packages (from pyasn1-modules>=0.2.1->google-auth<3,>=1.6.3->tensorboard<2.10,>=2.9->tensorflow>=1.12.0->nasbench==1.0) (0.4.8)\n",
            "Requirement already satisfied: idna<3,>=2.5 in /usr/local/lib/python3.7/dist-packages (from requests<3,>=2.21.0->tensorboard<2.10,>=2.9->tensorflow>=1.12.0->nasbench==1.0) (2.10)\n",
            "Requirement already satisfied: urllib3!=1.25.0,!=1.25.1,<1.26,>=1.21.1 in /usr/local/lib/python3.7/dist-packages (from requests<3,>=2.21.0->tensorboard<2.10,>=2.9->tensorflow>=1.12.0->nasbench==1.0) (1.24.3)\n",
            "Requirement already satisfied: chardet<4,>=3.0.2 in /usr/local/lib/python3.7/dist-packages (from requests<3,>=2.21.0->tensorboard<2.10,>=2.9->tensorflow>=1.12.0->nasbench==1.0) (3.0.4)\n",
            "Requirement already satisfied: certifi>=2017.4.17 in /usr/local/lib/python3.7/dist-packages (from requests<3,>=2.21.0->tensorboard<2.10,>=2.9->tensorflow>=1.12.0->nasbench==1.0) (2022.9.24)\n",
            "Requirement already satisfied: oauthlib>=3.0.0 in /usr/local/lib/python3.7/dist-packages (from requests-oauthlib>=0.7.0->google-auth-oauthlib<0.5,>=0.4.1->tensorboard<2.10,>=2.9->tensorflow>=1.12.0->nasbench==1.0) (3.2.2)\n",
            "Requirement already satisfied: pyparsing!=3.0.5,>=2.0.2 in /usr/local/lib/python3.7/dist-packages (from packaging->tensorflow>=1.12.0->nasbench==1.0) (3.0.9)\n",
            "Building wheels for collected packages: nasbench\n",
            "  Building wheel for nasbench (setup.py) ... \u001b[?25l\u001b[?25hdone\n",
            "  Created wheel for nasbench: filename=nasbench-1.0-py3-none-any.whl size=46788 sha256=9ace01a00a7fda21772b86b0f3928461368ab95a9001f91a639acb0b3c6cfa51\n",
            "  Stored in directory: /tmp/pip-ephem-wheel-cache-g0a1173l/wheels/64/e0/f5/7eabfceccbb11fce1ab5888a8d31f59fcb43f2b5cfc53ba6d7\n",
            "Successfully built nasbench\n",
            "Installing collected packages: nasbench\n",
            "Successfully installed nasbench-1.0\n"
          ]
        }
      ],
      "source": [
        "!git clone https://github.com/google-research/nasbench\n",
        "!pip install ./nasbench"
      ],
      "id": "Rek2YFizxTt4"
    },
    {
      "cell_type": "code",
      "execution_count": null,
      "metadata": {
        "id": "iY9wvyM0xTt5"
      },
      "outputs": [],
      "source": [
        "import base64\n",
        "from nasbench.lib import model_metrics_pb2\n",
        "import tensorflow as tf\n",
        "import networkx as nx\n",
        "import os\n",
        "import json\n",
        "import numpy as np\n",
        "tf.compat.v1.enable_eager_execution()"
      ],
      "id": "iY9wvyM0xTt5"
    },
    {
      "cell_type": "code",
      "execution_count": null,
      "metadata": {
        "colab": {
          "base_uri": "https://localhost:8080/"
        },
        "id": "VC2Xobjh54zq",
        "outputId": "242b4385-ffc3-44ea-99f8-1eeedb61e265"
      },
      "outputs": [
        {
          "name": "stdout",
          "output_type": "stream",
          "text": [
            "  % Total    % Received % Xferd  Average Speed   Time    Time     Time  Current\n",
            "                                 Dload  Upload   Total   Spent    Left  Speed\n",
            "100  498M  100  498M    0     0  54.5M      0  0:00:09  0:00:09 --:--:-- 65.3M\n"
          ]
        }
      ],
      "source": [
        "!curl -O https://storage.googleapis.com/nasbench/nasbench_only108.tfrecord"
      ],
      "id": "VC2Xobjh54zq"
    },
    {
      "cell_type": "code",
      "execution_count": null,
      "metadata": {
        "colab": {
          "base_uri": "https://localhost:8080/",
          "height": 35
        },
        "id": "CijVwG9v6VzB",
        "outputId": "4789937f-628d-43c7-bd2f-a7c7be24b6ab"
      },
      "outputs": [
        {
          "data": {
            "application/vnd.google.colaboratory.intrinsic+json": {
              "type": "string"
            },
            "text/plain": [
              "'.'"
            ]
          },
          "execution_count": 11,
          "metadata": {},
          "output_type": "execute_result"
        }
      ],
      "source": [
        "import os\n",
        "os.path.curdir"
      ],
      "id": "CijVwG9v6VzB"
    },
    {
      "cell_type": "code",
      "execution_count": null,
      "metadata": {
        "id": "osrVl_jExTt6"
      },
      "outputs": [],
      "source": [
        "#download the dataset https://storage.googleapis.com/nasbench/nasbench_only108.tfrecord\n",
        "#include the downloaded file path in data_dir\n",
        "#data_dir = '/content/drive/MyDrive/GRAN-NEW/GRAN-NAS-Pipeline/data/NAS-101'\n",
        "data_dir = os.path.curdir\n",
        "nas_101_filepath = os.path.join(data_dir, 'nasbench_only108.tfrecord')\n",
        "nas_101_hp_filepath = os.path.join(data_dir, 'nasbench_1000_80_7.tfrecord')"
      ],
      "id": "osrVl_jExTt6"
    },
    {
      "cell_type": "code",
      "execution_count": null,
      "metadata": {
        "id": "BFcWTbci7wiX"
      },
      "outputs": [],
      "source": [
        "from scipy.sparse import csr_matrix"
      ],
      "id": "BFcWTbci7wiX"
    },
    {
      "cell_type": "code",
      "execution_count": null,
      "metadata": {
        "id": "Vp7XG5Rr7352"
      },
      "outputs": [],
      "source": [
        "graphs = list()"
      ],
      "id": "Vp7XG5Rr7352"
    },
    {
      "cell_type": "code",
      "execution_count": null,
      "metadata": {
        "id": "Q6I-JvONxTt6"
      },
      "outputs": [],
      "source": [
        "#first time users please uncomment the below code to create the dataset from scratch.\n",
        "count = 0\n",
        "dataset = tf.compat.v1.python_io.tf_record_iterator(nas_101_filepath)\n",
        "maxlength = 1000\n",
        "with tf.io.TFRecordWriter(nas_101_hp_filepath) as writer:\n",
        "  for serialized_row in dataset:\n",
        "      module_hash, epochs, raw_adjacency, raw_operations, raw_metrics = json.loads(serialized_row.decode('utf-8'))\n",
        "      metrics = model_metrics_pb2.ModelMetrics.FromString(base64.b64decode(raw_metrics))\n",
        "      if metrics.evaluation_data[2].test_accuracy > 0.80:\n",
        "          writer.write(serialized_row)\n",
        "          dim = int(np.sqrt(len(raw_adjacency)))\n",
        "          adjacency = np.array([int(e) for e in list(raw_adjacency)], dtype=np.int8)\n",
        "          adjacency = np.reshape(adjacency, (dim, dim))\n",
        "          graph = csr_matrix(adjacency)\n",
        "          graphs.append(nx.Graph(graph))\n",
        "          count += 1\n",
        "          if count > maxlength:\n",
        "              break"
      ],
      "id": "Q6I-JvONxTt6"
    },
    {
      "cell_type": "markdown",
      "metadata": {
        "id": "4oSEOiNpxTt6"
      },
      "source": [
        "<p>Now, we have the dataset 'nasbench_hp.tfrecord'. We're ready to explore the dataset.</p>"
      ],
      "id": "4oSEOiNpxTt6"
    },
    {
      "cell_type": "markdown",
      "metadata": {
        "id": "sZdugyQkxTt7"
      },
      "source": [
        "<h3>NAS-101 benchmark details.</h3>"
      ],
      "id": "sZdugyQkxTt7"
    },
    {
      "cell_type": "markdown",
      "metadata": {
        "id": "DCOEKCcOxTt7"
      },
      "source": [
        "<p>Deep neural network architecture is represented as a directed acyclic graph in the dataset as shown below.</p>"
      ],
      "id": "DCOEKCcOxTt7"
    },
    {
      "cell_type": "markdown",
      "metadata": {
        "id": "UAOlNy-QxTt8"
      },
      "source": [
        "<p>Let us look in detail at a single data point from the datasets.</p>"
      ],
      "id": "UAOlNy-QxTt8"
    },
    {
      "cell_type": "code",
      "execution_count": null,
      "metadata": {
        "id": "hHSelzSKxTt8"
      },
      "outputs": [],
      "source": [
        "dataset = tf.compat.v1.python_io.tf_record_iterator(nas_101_hp_filepath)\n",
        "for serialized_row in dataset:\n",
        "    module_hash, epochs, raw_adjacency, raw_operations, raw_metrics = json.loads(serialized_row.decode('utf-8'))\n",
        "    dim = int(np.sqrt(len(raw_adjacency)))\n",
        "    adjacency = np.array([int(e) for e in list(raw_adjacency)], dtype=np.int8)\n",
        "    adjacency = np.reshape(adjacency, (dim, dim))\n",
        "    operations = raw_operations.split(',')\n",
        "    metrics = model_metrics_pb2.ModelMetrics.FromString(\n",
        "      base64.b64decode(raw_metrics))\n",
        "    graph = nx.Graph(adjacency)\n",
        "    break"
      ],
      "id": "hHSelzSKxTt8"
    },
    {
      "cell_type": "code",
      "execution_count": null,
      "metadata": {
        "colab": {
          "base_uri": "https://localhost:8080/"
        },
        "id": "ywTZjA07xTt9",
        "outputId": "862b175e-83bb-4663-e6c5-0fc1489b37f4"
      },
      "outputs": [
        {
          "name": "stdout",
          "output_type": "stream",
          "text": [
            "The number of layers in the network are  7\n"
          ]
        }
      ],
      "source": [
        "print(\"The number of layers in the network are \", dim)"
      ],
      "id": "ywTZjA07xTt9"
    },
    {
      "cell_type": "code",
      "execution_count": null,
      "metadata": {
        "colab": {
          "base_uri": "https://localhost:8080/"
        },
        "id": "GIKa3pOZxTt9",
        "outputId": "db4c1f5f-f1b9-460f-9f37-c8db11aa061c"
      },
      "outputs": [
        {
          "name": "stdout",
          "output_type": "stream",
          "text": [
            "The sequence of operations are \n"
          ]
        },
        {
          "data": {
            "text/plain": [
              "['input',\n",
              " 'conv3x3-bn-relu',\n",
              " 'maxpool3x3',\n",
              " 'conv3x3-bn-relu',\n",
              " 'conv3x3-bn-relu',\n",
              " 'conv1x1-bn-relu',\n",
              " 'output']"
            ]
          },
          "execution_count": 25,
          "metadata": {},
          "output_type": "execute_result"
        }
      ],
      "source": [
        "print(\"The sequence of operations are \")\n",
        "operations"
      ],
      "id": "GIKa3pOZxTt9"
    },
    {
      "cell_type": "markdown",
      "metadata": {
        "id": "FBnDsgNixTt-"
      },
      "source": [
        "<p>The evaluation metrics contain details of the neural network at the beginning, halfway through, and at epoch 108.  At each stage of training, the benchmark dataset contains the below details:</p>\n",
        "\n",
        "<ul>\n",
        "    <li>Epoch number</li>\n",
        "    <li>Training time</li>\n",
        "    <li>Training accuracy</li>\n",
        "    <li>Validation accuracy</li>\n",
        "    <li>Test accuracy</li>\n",
        "</ul>"
      ],
      "id": "FBnDsgNixTt-"
    },
    {
      "cell_type": "code",
      "execution_count": null,
      "metadata": {
        "colab": {
          "base_uri": "https://localhost:8080/"
        },
        "id": "93_Zp10nxTt-",
        "outputId": "3ae931be-7c52-496f-caca-805ebedcee30"
      },
      "outputs": [
        {
          "name": "stdout",
          "output_type": "stream",
          "text": [
            "Evaluation data at the begining of the training\n"
          ]
        },
        {
          "data": {
            "text/plain": [
              "current_epoch: 0.0\n",
              "training_time: 0.0\n",
              "train_accuracy: 0.10166265815496445\n",
              "validation_accuracy: 0.10176282376050949\n",
              "test_accuracy: 0.09985977411270142"
            ]
          },
          "execution_count": 26,
          "metadata": {},
          "output_type": "execute_result"
        }
      ],
      "source": [
        "print(\"Evaluation data at the begining of the training\")\n",
        "metrics.evaluation_data[0]"
      ],
      "id": "93_Zp10nxTt-"
    },
    {
      "cell_type": "code",
      "execution_count": null,
      "metadata": {
        "colab": {
          "base_uri": "https://localhost:8080/"
        },
        "id": "eJtK_ka6xTt-",
        "outputId": "959b9de2-c4be-4ce0-af2d-0dbc46187e62"
      },
      "outputs": [
        {
          "name": "stdout",
          "output_type": "stream",
          "text": [
            "Evaluation data halfway through the training\n"
          ]
        },
        {
          "data": {
            "text/plain": [
              "current_epoch: 54.0\n",
              "training_time: 883.4580078125\n",
              "train_accuracy: 0.8282251358032227\n",
              "validation_accuracy: 0.7776442170143127\n",
              "test_accuracy: 0.7740384340286255"
            ]
          },
          "execution_count": 27,
          "metadata": {},
          "output_type": "execute_result"
        }
      ],
      "source": [
        "print(\"Evaluation data halfway through the training\")\n",
        "metrics.evaluation_data[1]"
      ],
      "id": "eJtK_ka6xTt-"
    },
    {
      "cell_type": "code",
      "execution_count": null,
      "metadata": {
        "colab": {
          "base_uri": "https://localhost:8080/"
        },
        "id": "33VZpEacxTt_",
        "outputId": "8262791f-9917-401b-9121-08c3f1124932"
      },
      "outputs": [
        {
          "name": "stdout",
          "output_type": "stream",
          "text": [
            "Evaluation data at epoch 108 of the training\n"
          ]
        },
        {
          "data": {
            "text/plain": [
              "current_epoch: 108.0\n",
              "training_time: 1769.1279296875\n",
              "train_accuracy: 1.0\n",
              "validation_accuracy: 0.9241786599159241\n",
              "test_accuracy: 0.9211738705635071"
            ]
          },
          "execution_count": 28,
          "metadata": {},
          "output_type": "execute_result"
        }
      ],
      "source": [
        "print(\"Evaluation data at epoch 108 of the training\")\n",
        "metrics.evaluation_data[2]"
      ],
      "id": "33VZpEacxTt_"
    },
    {
      "cell_type": "markdown",
      "metadata": {
        "id": "dO2iFW16xTt_"
      },
      "source": [
        "<h3>General graph properties</h3>"
      ],
      "id": "dO2iFW16xTt_"
    },
    {
      "cell_type": "markdown",
      "metadata": {
        "id": "K_Cd36i5xTt_"
      },
      "source": [
        "<p>We will now look at this data in terms of directed acyclic graph</p>"
      ],
      "id": "K_Cd36i5xTt_"
    },
    {
      "cell_type": "code",
      "execution_count": null,
      "metadata": {
        "colab": {
          "base_uri": "https://localhost:8080/"
        },
        "id": "_XtrSORqxTt_",
        "outputId": "8d9bf65e-c062-44b0-e856-506b58c51030"
      },
      "outputs": [
        {
          "name": "stdout",
          "output_type": "stream",
          "text": [
            "Number of nodes in the graph\n"
          ]
        },
        {
          "data": {
            "text/plain": [
              "7"
            ]
          },
          "execution_count": 29,
          "metadata": {},
          "output_type": "execute_result"
        }
      ],
      "source": [
        "print(\"Number of nodes in the graph\")\n",
        "graph.number_of_nodes()"
      ],
      "id": "_XtrSORqxTt_"
    },
    {
      "cell_type": "code",
      "execution_count": null,
      "metadata": {
        "colab": {
          "base_uri": "https://localhost:8080/"
        },
        "id": "2Q_zdzBFxTuA",
        "outputId": "b5d2eb57-d78e-413c-d521-3526fbda2403"
      },
      "outputs": [
        {
          "name": "stdout",
          "output_type": "stream",
          "text": [
            "Number of edges in the graph\n"
          ]
        },
        {
          "data": {
            "text/plain": [
              "9"
            ]
          },
          "execution_count": 30,
          "metadata": {},
          "output_type": "execute_result"
        }
      ],
      "source": [
        "print(\"Number of edges in the graph\")\n",
        "graph.number_of_edges()"
      ],
      "id": "2Q_zdzBFxTuA"
    },
    {
      "cell_type": "code",
      "execution_count": null,
      "metadata": {
        "colab": {
          "base_uri": "https://localhost:8080/"
        },
        "id": "dTT8ewpXxTuA",
        "outputId": "bb6ff458-c7bc-4f9d-8243-92615684ba03"
      },
      "outputs": [
        {
          "name": "stdout",
          "output_type": "stream",
          "text": [
            "There should not be isolated nodes in an architecture.\n",
            "Number of connected components in the graph.\n"
          ]
        },
        {
          "data": {
            "text/plain": [
              "[{0, 1, 2, 3, 4, 5, 6}]"
            ]
          },
          "execution_count": 31,
          "metadata": {},
          "output_type": "execute_result"
        }
      ],
      "source": [
        "print(\"There should not be isolated nodes in an architecture.\")\n",
        "print(\"Number of connected components in the graph.\")\n",
        "list(nx.connected_components(graph))"
      ],
      "id": "dTT8ewpXxTuA"
    },
    {
      "cell_type": "markdown",
      "metadata": {
        "id": "QhrjuQDAxTuA"
      },
      "source": [
        "<p>We need to add labels to the graph before we can clearly visualize the neural network architecture</p>"
      ],
      "id": "QhrjuQDAxTuA"
    },
    {
      "cell_type": "code",
      "execution_count": null,
      "metadata": {
        "colab": {
          "background_save": true
        },
        "id": "qRrxLLSvxTuB"
      },
      "outputs": [],
      "source": [
        "import matplotlib.pyplot as plt"
      ],
      "id": "qRrxLLSvxTuB"
    },
    {
      "cell_type": "code",
      "execution_count": null,
      "metadata": {
        "id": "SCWagWfGxTuB",
        "outputId": "a3078b3d-7929-4c9e-b6ab-4ac397bd2f03"
      },
      "outputs": [
        {
          "data": {
            "text/plain": [
              "{0: 'input',\n",
              " 1: 'conv3x3-bn-relu',\n",
              " 2: 'maxpool3x3',\n",
              " 3: 'conv3x3-bn-relu',\n",
              " 4: 'conv3x3-bn-relu',\n",
              " 5: 'conv1x1-bn-relu',\n",
              " 6: 'output'}"
            ]
          },
          "execution_count": 20,
          "metadata": {},
          "output_type": "execute_result"
        }
      ],
      "source": [
        "labels = {i: operations[i] for i in range(dim)}\n",
        "labels"
      ],
      "id": "SCWagWfGxTuB"
    },
    {
      "cell_type": "code",
      "execution_count": null,
      "metadata": {
        "id": "lwdrNWM7xTuB"
      },
      "outputs": [],
      "source": [
        "edge_list = list(graph.edges)"
      ],
      "id": "lwdrNWM7xTuB"
    },
    {
      "cell_type": "code",
      "execution_count": null,
      "metadata": {
        "id": "VsKk6BqbxTuB",
        "outputId": "9e416c8d-8259-4740-8227-cf71692b71ca"
      },
      "outputs": [
        {
          "data": {
            "text/plain": [
              "{0: Text(-1.0, -8.742277657347586e-08, 'input'),\n",
              " 1: Text(-0.6234896183013916, -0.7818316221237183, 'conv3x3-bn-relu'),\n",
              " 2: Text(0.9009689092636108, 0.4338836371898651, 'maxpool3x3'),\n",
              " 3: Text(0.22252069413661957, 0.9749279618263245, 'conv3x3-bn-relu'),\n",
              " 4: Text(0.22252103686332703, -0.9749279022216797, 'conv3x3-bn-relu'),\n",
              " 5: Text(0.9009688496589661, -0.43388375639915466, 'conv1x1-bn-relu'),\n",
              " 6: Text(-0.6234895586967468, 0.781831681728363, 'output')}"
            ]
          },
          "execution_count": 22,
          "metadata": {},
          "output_type": "execute_result"
        },
        {
          "data": {
            "image/png": "[encoded data removed]",
            "text/plain": [
              "<Figure size 1080x720 with 1 Axes>"
            ]
          },
          "metadata": {},
          "output_type": "display_data"
        }
      ],
      "source": [
        "graph = nx.DiGraph()\n",
        "graph.add_edges_from(edge_list)\n",
        "pos = nx.shell_layout(graph)\n",
        "plt.figure(figsize=(15,10))\n",
        "nx.draw_networkx_nodes(\n",
        "          graph,\n",
        "          pos,\n",
        "          node_size=1000,\n",
        "          node_color='green',\n",
        "          alpha=1,\n",
        "          linewidths=0)\n",
        "nx.draw_networkx_edges(graph, pos, alpha=1, width=1.3, edge_color=\"brown\", arrows=True, arrowsize=10, arrowstyle='wedge')\n",
        "nx.draw_networkx_labels(graph, pos, labels=labels, \n",
        "                        font_size=12, font_family='sans-serif')"
      ],
      "id": "VsKk6BqbxTuB"
    },
    {
      "cell_type": "markdown",
      "metadata": {
        "id": "3m7WTtcCxTuC"
      },
      "source": [
        "<p>The visualization from Networkx lacks the structure of the data flow in the neural network architecture.  So, we now visualize with another tool called <a href=\"https://pypi.org/project/pydot/\">pydot</a>.  This library implements the general graph visualization language from <a href=\"https://www.graphviz.org/\">Graphviz</a></p>"
      ],
      "id": "3m7WTtcCxTuC"
    },
    {
      "cell_type": "code",
      "execution_count": null,
      "metadata": {
        "id": "6l7J0RrbxTuC"
      },
      "outputs": [],
      "source": [
        "import networkx as nx\n",
        "from scipy.sparse import csr_matrix\n",
        "import matplotlib.pyplot as plt\n",
        "import matplotlib.image as mpimg\n",
        "from io import StringIO\n",
        "from IPython.display import SVG\n",
        "import pydot"
      ],
      "id": "6l7J0RrbxTuC"
    },
    {
      "cell_type": "markdown",
      "metadata": {
        "id": "a5zk4KbPxTuC"
      },
      "source": [
        "<p>The visualization proceduce is adapted from kaggle tutorial: <a href=\"https://www.kaggle.com/kmader/flowcharts-pydot\">Flowcharts PyDot</a></p>"
      ],
      "id": "a5zk4KbPxTuC"
    },
    {
      "cell_type": "code",
      "execution_count": null,
      "metadata": {
        "id": "qkcSIVN7xTuC"
      },
      "outputs": [],
      "source": [
        "dot_graph = pydot.Dot(graph_type='digraph')"
      ],
      "id": "qkcSIVN7xTuC"
    },
    {
      "cell_type": "code",
      "execution_count": null,
      "metadata": {
        "id": "PqIhOPc4xTuD"
      },
      "outputs": [],
      "source": [
        "def make_node(name):\n",
        "    cur_node = pydot.Node(name)\n",
        "    cur_node.set_shape('box')\n",
        "    dot_graph.add_node(cur_node)\n",
        "    return cur_node"
      ],
      "id": "PqIhOPc4xTuD"
    },
    {
      "cell_type": "code",
      "execution_count": null,
      "metadata": {
        "id": "0_JXQXSTxTuD"
      },
      "outputs": [],
      "source": [
        "def make_link(a_node, b_node, label = None, width = 1, style='vee'):\n",
        "    cur_edge = pydot.Edge(a_node,b_node)\n",
        "    cur_edge.set_penwidth(width)\n",
        "    cur_edge.set_style(style)\n",
        "    if label is not None: cur_edge.set_label(label)\n",
        "    dot_graph.add_edge(cur_edge)\n",
        "    return cur_edge"
      ],
      "id": "0_JXQXSTxTuD"
    },
    {
      "cell_type": "code",
      "execution_count": null,
      "metadata": {
        "id": "x9z-J-n2xTuD"
      },
      "outputs": [],
      "source": [
        "nodes = dict()\n",
        "for i in range(dim):\n",
        "    nodes[i] = make_node(f\"Layer {i} {labels[i]}\")"
      ],
      "id": "x9z-J-n2xTuD"
    },
    {
      "cell_type": "code",
      "execution_count": null,
      "metadata": {
        "id": "JA8Yhef-xTuD"
      },
      "outputs": [],
      "source": [
        "edges = dict()\n",
        "for edge in edge_list:\n",
        "    make_link(nodes[edge[0]], nodes[edge[1]])"
      ],
      "id": "JA8Yhef-xTuD"
    },
    {
      "cell_type": "code",
      "execution_count": null,
      "metadata": {
        "id": "PyR3IXqoxTuD"
      },
      "outputs": [],
      "source": [
        "viz_dir = 'graphviz'\n",
        "architecture_filepath = os.path.join(viz_dir, 'architecture.svg')"
      ],
      "id": "PyR3IXqoxTuD"
    },
    {
      "cell_type": "code",
      "execution_count": null,
      "metadata": {
        "id": "bzqIxs2lxTuD",
        "outputId": "a0b2312a-cd3b-4120-d830-5a2dabdfe97e"
      },
      "outputs": [
        {
          "data": {
            "image/svg+xml": [
              "<svg xmlns=\"http://www.w3.org/2000/svg\" xmlns:xlink=\"http://www.w3.org/1999/xlink\" width=\"395pt\" height=\"404pt\" viewBox=\"0.00 0.00 394.95 404.00\">\n",
              "<g id=\"graph0\" class=\"graph\" transform=\"scale(1 1) rotate(0) translate(4 400)\">\n",
              "<title>G</title>\n",
              "<polygon fill=\"#ffffff\" stroke=\"transparent\" points=\"-4,4 -4,-400 390.9463,-400 390.9463,4 -4,4\"/>\n",
              "<!-- Layer 0 input -->\n",
              "<g id=\"node1\" class=\"node\">\n",
              "<title>Layer 0 input</title>\n",
              "<polygon fill=\"none\" stroke=\"#000000\" points=\"332.5,-396 219.5,-396 219.5,-360 332.5,-360 332.5,-396\"/>\n",
              "<text text-anchor=\"middle\" x=\"276\" y=\"-374.3\" font-family=\"Times,serif\" font-size=\"14.00\" fill=\"#000000\">Layer 0 input</text>\n",
              "</g>\n",
              "<!-- Layer 1 conv3x3&#45;bn&#45;relu -->\n",
              "<g id=\"node2\" class=\"node\">\n",
              "<title>Layer 1 conv3x3-bn-relu</title>\n",
              "<polygon fill=\"none\" stroke=\"#000000\" points=\"212.5,-324 21.5,-324 21.5,-288 212.5,-288 212.5,-324\"/>\n",
              "<text text-anchor=\"middle\" x=\"117\" y=\"-302.3\" font-family=\"Times,serif\" font-size=\"14.00\" fill=\"#000000\">Layer 1 conv3x3-bn-relu</text>\n",
              "</g>\n",
              "<!-- Layer 0 input&#45;&gt;Layer 1 conv3x3&#45;bn&#45;relu -->\n",
              "<g id=\"edge1\" class=\"edge\">\n",
              "<title>Layer 0 input-&gt;Layer 1 conv3x3-bn-relu</title>\n",
              "<path fill=\"none\" stroke=\"#000000\" d=\"M235.8776,-359.8314C214.7068,-350.2446 188.5517,-338.4008 166.1697,-328.2655\"/>\n",
              "<polygon fill=\"#000000\" stroke=\"#000000\" points=\"167.3872,-324.9748 156.8339,-324.038 164.4997,-331.3515 167.3872,-324.9748\"/>\n",
              "</g>\n",
              "<!-- Layer 4 conv3x3&#45;bn&#45;relu -->\n",
              "<g id=\"node5\" class=\"node\">\n",
              "<title>Layer 4 conv3x3-bn-relu</title>\n",
              "<polygon fill=\"none\" stroke=\"#000000\" points=\"371.5,-252 180.5,-252 180.5,-216 371.5,-216 371.5,-252\"/>\n",
              "<text text-anchor=\"middle\" x=\"276\" y=\"-230.3\" font-family=\"Times,serif\" font-size=\"14.00\" fill=\"#000000\">Layer 4 conv3x3-bn-relu</text>\n",
              "</g>\n",
              "<!-- Layer 0 input&#45;&gt;Layer 4 conv3x3&#45;bn&#45;relu -->\n",
              "<g id=\"edge2\" class=\"edge\">\n",
              "<title>Layer 0 input-&gt;Layer 4 conv3x3-bn-relu</title>\n",
              "<path fill=\"none\" stroke=\"#000000\" d=\"M276,-359.7623C276,-335.201 276,-291.2474 276,-262.3541\"/>\n",
              "<polygon fill=\"#000000\" stroke=\"#000000\" points=\"279.5001,-262.0896 276,-252.0896 272.5001,-262.0897 279.5001,-262.0896\"/>\n",
              "</g>\n",
              "<!-- Layer 5 conv1x1&#45;bn&#45;relu -->\n",
              "<g id=\"node6\" class=\"node\">\n",
              "<title>Layer 5 conv1x1-bn-relu</title>\n",
              "<polygon fill=\"none\" stroke=\"#000000\" points=\"336.5,-108 145.5,-108 145.5,-72 336.5,-72 336.5,-108\"/>\n",
              "<text text-anchor=\"middle\" x=\"241\" y=\"-86.3\" font-family=\"Times,serif\" font-size=\"14.00\" fill=\"#000000\">Layer 5 conv1x1-bn-relu</text>\n",
              "</g>\n",
              "<!-- Layer 0 input&#45;&gt;Layer 5 conv1x1&#45;bn&#45;relu -->\n",
              "<g id=\"edge3\" class=\"edge\">\n",
              "<title>Layer 0 input-&gt;Layer 5 conv1x1-bn-relu</title>\n",
              "<path fill=\"none\" stroke=\"#000000\" d=\"M302.5147,-359.8982C341.2234,-331.057 406.0213,-272.1819 381,-216 360.9719,-171.0298 316.0835,-135.3765 282.5005,-113.6341\"/>\n",
              "<polygon fill=\"#000000\" stroke=\"#000000\" points=\"284.1193,-110.5171 273.7941,-108.1419 280.3845,-116.4375 284.1193,-110.5171\"/>\n",
              "</g>\n",
              "<!-- Layer 2 maxpool3x3 -->\n",
              "<g id=\"node3\" class=\"node\">\n",
              "<title>Layer 2 maxpool3x3</title>\n",
              "<polygon fill=\"none\" stroke=\"#000000\" points=\"162,-252 0,-252 0,-216 162,-216 162,-252\"/>\n",
              "<text text-anchor=\"middle\" x=\"81\" y=\"-230.3\" font-family=\"Times,serif\" font-size=\"14.00\" fill=\"#000000\">Layer 2 maxpool3x3</text>\n",
              "</g>\n",
              "<!-- Layer 1 conv3x3&#45;bn&#45;relu&#45;&gt;Layer 2 maxpool3x3 -->\n",
              "<g id=\"edge4\" class=\"edge\">\n",
              "<title>Layer 1 conv3x3-bn-relu-&gt;Layer 2 maxpool3x3</title>\n",
              "<path fill=\"none\" stroke=\"#000000\" d=\"M107.9157,-287.8314C103.9385,-279.8771 99.1845,-270.369 94.7861,-261.5723\"/>\n",
              "<polygon fill=\"#000000\" stroke=\"#000000\" points=\"97.8093,-259.7923 90.2066,-252.4133 91.5483,-262.9228 97.8093,-259.7923\"/>\n",
              "</g>\n",
              "<!-- Layer 3 conv3x3&#45;bn&#45;relu -->\n",
              "<g id=\"node4\" class=\"node\">\n",
              "<title>Layer 3 conv3x3-bn-relu</title>\n",
              "<polygon fill=\"none\" stroke=\"#000000\" points=\"274.5,-180 83.5,-180 83.5,-144 274.5,-144 274.5,-180\"/>\n",
              "<text text-anchor=\"middle\" x=\"179\" y=\"-158.3\" font-family=\"Times,serif\" font-size=\"14.00\" fill=\"#000000\">Layer 3 conv3x3-bn-relu</text>\n",
              "</g>\n",
              "<!-- Layer 2 maxpool3x3&#45;&gt;Layer 3 conv3x3&#45;bn&#45;relu -->\n",
              "<g id=\"edge5\" class=\"edge\">\n",
              "<title>Layer 2 maxpool3x3-&gt;Layer 3 conv3x3-bn-relu</title>\n",
              "<path fill=\"none\" stroke=\"#000000\" d=\"M105.7295,-215.8314C117.9162,-206.8779 132.7823,-195.9558 145.9312,-186.2955\"/>\n",
              "<polygon fill=\"#000000\" stroke=\"#000000\" points=\"148.2918,-188.9042 154.2784,-180.1628 144.1473,-183.263 148.2918,-188.9042\"/>\n",
              "</g>\n",
              "<!-- Layer 6 output -->\n",
              "<g id=\"node7\" class=\"node\">\n",
              "<title>Layer 6 output</title>\n",
              "<polygon fill=\"none\" stroke=\"#000000\" points=\"178.5,-36 55.5,-36 55.5,0 178.5,0 178.5,-36\"/>\n",
              "<text text-anchor=\"middle\" x=\"117\" y=\"-14.3\" font-family=\"Times,serif\" font-size=\"14.00\" fill=\"#000000\">Layer 6 output</text>\n",
              "</g>\n",
              "<!-- Layer 2 maxpool3x3&#45;&gt;Layer 6 output -->\n",
              "<g id=\"edge6\" class=\"edge\">\n",
              "<title>Layer 2 maxpool3x3-&gt;Layer 6 output</title>\n",
              "<path fill=\"none\" stroke=\"#000000\" d=\"M78.0115,-215.563C76.4749,-205.1537 74.7672,-191.8866 74,-180 72.9694,-164.0332 71.3808,-159.7842 74,-144 79.8121,-108.974 94.1311,-70.6163 104.6556,-45.536\"/>\n",
              "<polygon fill=\"#000000\" stroke=\"#000000\" points=\"107.8963,-46.8593 108.6173,-36.289 101.4619,-44.1025 107.8963,-46.8593\"/>\n",
              "</g>\n",
              "<!-- Layer 3 conv3x3&#45;bn&#45;relu&#45;&gt;Layer 5 conv1x1&#45;bn&#45;relu -->\n",
              "<g id=\"edge7\" class=\"edge\">\n",
              "<title>Layer 3 conv3x3-bn-relu-&gt;Layer 5 conv1x1-bn-relu</title>\n",
              "<path fill=\"none\" stroke=\"#000000\" d=\"M194.6452,-143.8314C201.8591,-135.454 210.557,-125.3531 218.4605,-116.1749\"/>\n",
              "<polygon fill=\"#000000\" stroke=\"#000000\" points=\"221.2711,-118.2748 225.1441,-108.4133 215.9667,-113.7071 221.2711,-118.2748\"/>\n",
              "</g>\n",
              "<!-- Layer 4 conv3x3&#45;bn&#45;relu&#45;&gt;Layer 5 conv1x1&#45;bn&#45;relu -->\n",
              "<g id=\"edge8\" class=\"edge\">\n",
              "<title>Layer 4 conv3x3-bn-relu-&gt;Layer 5 conv1x1-bn-relu</title>\n",
              "<path fill=\"none\" stroke=\"#000000\" d=\"M281.5595,-215.8768C286.3089,-197.3105 291.1888,-167.8665 283,-144 279.531,-133.8894 273.3101,-124.2137 266.701,-115.9166\"/>\n",
              "<polygon fill=\"#000000\" stroke=\"#000000\" points=\"269.2008,-113.4539 260.05,-108.1141 263.8735,-117.9949 269.2008,-113.4539\"/>\n",
              "</g>\n",
              "<!-- Layer 5 conv1x1&#45;bn&#45;relu&#45;&gt;Layer 6 output -->\n",
              "<g id=\"edge9\" class=\"edge\">\n",
              "<title>Layer 5 conv1x1-bn-relu-&gt;Layer 6 output</title>\n",
              "<path fill=\"none\" stroke=\"#000000\" d=\"M209.7096,-71.8314C193.7023,-62.5368 174.0414,-51.1208 156.9506,-41.1971\"/>\n",
              "<polygon fill=\"#000000\" stroke=\"#000000\" points=\"158.6858,-38.1575 148.2804,-36.1628 155.1708,-44.211 158.6858,-38.1575\"/>\n",
              "</g>\n",
              "</g>\n",
              "</svg>"
            ],
            "text/plain": [
              "<IPython.core.display.SVG object>"
            ]
          },
          "execution_count": 30,
          "metadata": {},
          "output_type": "execute_result"
        }
      ],
      "source": [
        "dot_graph.write_svg(architecture_filepath, prog = 'dot')\n",
        "SVG(architecture_filepath)"
      ],
      "id": "bzqIxs2lxTuD"
    },
    {
      "cell_type": "markdown",
      "metadata": {
        "id": "MyHakVk8xTuE"
      },
      "source": [
        "<h3>Dataset Analysis</h3>"
      ],
      "id": "MyHakVk8xTuE"
    },
    {
      "cell_type": "markdown",
      "metadata": {
        "id": "FiQMgvXjxTuE"
      },
      "source": [
        "<p>We are ready to begin analysis on the dataset used for training and evaluation of the model.</p>"
      ],
      "id": "FiQMgvXjxTuE"
    },
    {
      "cell_type": "markdown",
      "metadata": {
        "id": "uRztRO9mxTuE"
      },
      "source": [
        "<p>Initially, we will be using only the graph adjacency and layer types for the training and evaluation. We will collect all the details from the NAS-101 benchmark except for the module_hash.</p>"
      ],
      "id": "uRztRO9mxTuE"
    },
    {
      "cell_type": "code",
      "execution_count": null,
      "metadata": {
        "id": "AFqLRJFnxTuE"
      },
      "outputs": [],
      "source": [
        "graphs_nas=list()\n",
        "dataset = tf.compat.v1.python_io.tf_record_iterator(nas_101_hp_filepath)\n",
        "index = 0\n",
        "operations = {'input':0, 'conv3x3-bn-relu':1, 'conv1x1-bn-relu':2, 'maxpool3x3':3, 'output':4}\n",
        "for serialized_row in dataset:\n",
        "    module_hash, epochs, raw_adjacency, raw_operations, raw_metrics = json.loads(serialized_row.decode('utf-8'))\n",
        "    dim = int(np.sqrt(len(raw_adjacency)))\n",
        "    adjacency = np.array([int(e) for e in list(raw_adjacency)], dtype=np.int8)\n",
        "    adjacency = np.reshape(adjacency, (dim, dim))\n",
        "    graph_ops = raw_operations.split(',')\n",
        "    metrics = model_metrics_pb2.ModelMetrics.FromString(\n",
        "      base64.b64decode(raw_metrics))\n",
        "    graph = nx.Graph(csr_matrix(adjacency))\n",
        "    graph_ops = raw_operations.split(',')\n",
        "    for node_idx in range(graph.number_of_nodes()):\n",
        "        graph.add_node(node_idx, label=operations[graph_ops[node_idx]])\n",
        "    nasitem = [index, graph, graph_ops, metrics.evaluation_data[2]]\n",
        "    graphs_nas.append(nasitem)\n",
        "    index += 1"
      ],
      "id": "AFqLRJFnxTuE"
    },
    {
      "cell_type": "code",
      "execution_count": null,
      "metadata": {
        "id": "_2abmQeMxTuE",
        "outputId": "dcb7f234-3122-499b-a531-db4da69e8449"
      },
      "outputs": [
        {
          "name": "stdout",
          "output_type": "stream",
          "text": [
            "[(0, {'label': 0}), (1, {'label': 1}), (2, {'label': 3}), (3, {'label': 1}), (4, {'label': 1}), (5, {'label': 2}), (6, {'label': 4})]\n",
            "[0, 1, 3, 1, 1, 2, 4]\n",
            "[0 1 3 1 1 2 4]\n",
            "['input', 'conv3x3-bn-relu', 'maxpool3x3', 'conv3x3-bn-relu', 'conv3x3-bn-relu', 'conv1x1-bn-relu', 'output']\n"
          ]
        }
      ],
      "source": [
        "for nas_item in graphs_nas:\n",
        "    print(nas_item[1].nodes.data())\n",
        "    print([node['label'] for idx, node in nas_item[1].nodes.data()])\n",
        "    print(np.array([node['label'] for idx, node in nas_item[1].nodes.data()]).astype(np.uint8))\n",
        "    print(nas_item[2])\n",
        "    break"
      ],
      "id": "_2abmQeMxTuE"
    },
    {
      "cell_type": "markdown",
      "metadata": {
        "id": "k8CvFZS0xTuF"
      },
      "source": [
        "<p>We will split the training and validation into 80% and 20% of the total graphs. The remaining data will serve as the test dataset.</p>"
      ],
      "id": "k8CvFZS0xTuF"
    },
    {
      "cell_type": "code",
      "execution_count": null,
      "metadata": {
        "id": "IsgrPJKKxTuF"
      },
      "outputs": [],
      "source": [
        "seed = 1234\n",
        "train_ratio = 0.8\n",
        "dev_ratio = 0.2"
      ],
      "id": "IsgrPJKKxTuF"
    },
    {
      "cell_type": "code",
      "execution_count": null,
      "metadata": {
        "id": "i3mMNxEWxTuF"
      },
      "outputs": [],
      "source": [
        "num_graphs = len(graphs_nas)\n",
        "num_train = int(float(num_graphs) * train_ratio)\n",
        "num_dev = int(float(num_graphs) * dev_ratio)\n",
        "num_test_gt = num_graphs - num_train"
      ],
      "id": "i3mMNxEWxTuF"
    },
    {
      "cell_type": "code",
      "execution_count": null,
      "metadata": {
        "id": "-wG4ThW7xTuF"
      },
      "outputs": [],
      "source": [
        "npr = np.random.RandomState(seed)\n",
        "npr.shuffle(graphs_nas)"
      ],
      "id": "-wG4ThW7xTuF"
    },
    {
      "cell_type": "code",
      "execution_count": null,
      "metadata": {
        "id": "wmeoPcaFxTuG"
      },
      "outputs": [],
      "source": [
        "num_train = int(float(num_graphs) * train_ratio)\n",
        "num_dev = int(float(num_graphs) * dev_ratio)\n",
        "num_test_gt = num_graphs - num_train"
      ],
      "id": "wmeoPcaFxTuG"
    },
    {
      "cell_type": "code",
      "execution_count": null,
      "metadata": {
        "id": "hbMgrva4xTuG"
      },
      "outputs": [],
      "source": [
        "graphs_ds = [graph for index, graph, operations, evaluation_data in graphs_nas]"
      ],
      "id": "hbMgrva4xTuG"
    },
    {
      "cell_type": "code",
      "execution_count": null,
      "metadata": {
        "id": "f1OmmG76xTuG"
      },
      "outputs": [],
      "source": [
        "graphs_train = graphs_ds[:num_train]\n",
        "graphs_dev = graphs_ds[:num_dev]\n",
        "graphs_test = graphs_ds[num_train:]"
      ],
      "id": "f1OmmG76xTuG"
    },
    {
      "cell_type": "markdown",
      "metadata": {
        "id": "Zto2oQ7dxTuG"
      },
      "source": [
        "<p>Before we begin the training, let us closely look at the performance statistics of the architectures in the train, dev, and test datasets.</p>"
      ],
      "id": "Zto2oQ7dxTuG"
    },
    {
      "cell_type": "code",
      "execution_count": null,
      "metadata": {
        "id": "bwR5bU3vxTuG"
      },
      "outputs": [],
      "source": [
        "training_ds_perf_stats = [evaluation_data for index, graph, operations, evaluation_data in graphs_nas[:num_train]]\n",
        "dev_ds_perf_stats = [evaluation_data for index, graph, operations, evaluation_data in graphs_nas[:num_dev]]\n",
        "test_ds_perf_stats = [evaluation_data for index, graph, operations, evaluation_data in graphs_nas[num_train:]]"
      ],
      "id": "bwR5bU3vxTuG"
    },
    {
      "cell_type": "code",
      "execution_count": null,
      "metadata": {
        "id": "arik8EAHxTuH"
      },
      "outputs": [],
      "source": [
        "training_ds_architecture_training_time = [evaluation_data.training_time for evaluation_data in training_ds_perf_stats]\n",
        "dev_ds_architecture_training_time = [evaluation_data.training_time for evaluation_data in dev_ds_perf_stats]\n",
        "test_ds_architecture_training_time = [evaluation_data.training_time for evaluation_data in test_ds_perf_stats]"
      ],
      "id": "arik8EAHxTuH"
    },
    {
      "cell_type": "code",
      "execution_count": null,
      "metadata": {
        "colab": {
          "base_uri": "https://localhost:8080/",
          "height": 1000
        },
        "id": "qMFDiZLnxTuH",
        "outputId": "6ec8633d-ddd8-4144-b780-9ffe2b60f959"
      },
      "outputs": [
        {
          "name": "stdout",
          "output_type": "stream",
          "text": [
            "955\n",
            "238\n",
            "239\n"
          ]
        },
        {
          "name": "stderr",
          "output_type": "stream",
          "text": [
            "/usr/local/lib/python3.7/dist-packages/matplotlib/cbook/__init__.py:1376: VisibleDeprecationWarning: Creating an ndarray from ragged nested sequences (which is a list-or-tuple of lists-or-tuples-or ndarrays with different lengths or shapes) is deprecated. If you meant to do this, you must specify 'dtype=object' when creating the ndarray.\n",
            "  X = np.atleast_1d(X.T if isinstance(X, np.ndarray) else np.asarray(X))\n"
          ]
        },
        {
          "data": {
            "text/plain": [
              "{'boxes': [<matplotlib.lines.Line2D at 0x7f1da8ef9190>,\n",
              "  <matplotlib.lines.Line2D at 0x7f1da8f05790>,\n",
              "  <matplotlib.lines.Line2D at 0x7f1da8f16c90>],\n",
              " 'caps': [<matplotlib.lines.Line2D at 0x7f1da8eff210>,\n",
              "  <matplotlib.lines.Line2D at 0x7f1da8eff750>,\n",
              "  <matplotlib.lines.Line2D at 0x7f1da8f0d750>,\n",
              "  <matplotlib.lines.Line2D at 0x7f1da8f0dc90>,\n",
              "  <matplotlib.lines.Line2D at 0x7f1da8f20cd0>,\n",
              "  <matplotlib.lines.Line2D at 0x7f1da8f27290>],\n",
              " 'fliers': [<matplotlib.lines.Line2D at 0x7f1da8f05250>,\n",
              "  <matplotlib.lines.Line2D at 0x7f1da8f16750>,\n",
              "  <matplotlib.lines.Line2D at 0x7f1da8f27d10>],\n",
              " 'means': [],\n",
              " 'medians': [<matplotlib.lines.Line2D at 0x7f1da8effcd0>,\n",
              "  <matplotlib.lines.Line2D at 0x7f1da8f16210>,\n",
              "  <matplotlib.lines.Line2D at 0x7f1da8f277d0>],\n",
              " 'whiskers': [<matplotlib.lines.Line2D at 0x7f1da8ef9750>,\n",
              "  <matplotlib.lines.Line2D at 0x7f1da8ef9c90>,\n",
              "  <matplotlib.lines.Line2D at 0x7f1da8f05cd0>,\n",
              "  <matplotlib.lines.Line2D at 0x7f1da8f0d210>,\n",
              "  <matplotlib.lines.Line2D at 0x7f1da8f20210>,\n",
              "  <matplotlib.lines.Line2D at 0x7f1da8f20790>]}"
            ]
          },
          "execution_count": 24,
          "metadata": {},
          "output_type": "execute_result"
        },
        {
          "data": {
            "image/png": "[encoded data removed]",
            "text/plain": [
              "<Figure size 1440x720 with 1 Axes>"
            ]
          },
          "metadata": {},
          "output_type": "display_data"
        }
      ],
      "source": [
        "%matplotlib inline\n",
        "plt.figure(figsize=(20,10))\n",
        "plt.rcParams[\"figure.figsize\"] = (20,10)\n",
        "plt.rcParams[\"axes.labelsize\"] = 30\n",
        "plt.rcParams[\"axes.titlesize\"] = 30\n",
        "plt.rcParams[\"figure.titlesize\"] = 30\n",
        "plt.rcParams[\"xtick.labelsize\"] = 30\n",
        "plt.rcParams[\"ytick.labelsize\"] = 30\n",
        "plt.rcParams[\"legend.fontsize\"] = 30\n",
        "#plt.rcParams[\"legend.loc\"] = 'upper left'\n",
        "plt.rcParams[\"legend.loc\"] = 'best'\n",
        "plt.ylabel('Training Time')\n",
        "plt.boxplot([training_ds_architecture_training_time, dev_ds_architecture_training_time, test_ds_architecture_training_time], labels=['Training Dataset', 'Validation Dataset', 'Test Dataset'])"
      ],
      "id": "qMFDiZLnxTuH"
    },
    {
      "cell_type": "code",
      "execution_count": null,
      "metadata": {
        "id": "5Mt2lMfJxTuH"
      },
      "outputs": [],
      "source": [
        "training_ds_architecture_training_accuracy = [evaluation_data.train_accuracy for evaluation_data in training_ds_perf_stats]\n",
        "dev_ds_architecture_training_accuracy = [evaluation_data.train_accuracy for evaluation_data in dev_ds_perf_stats]\n",
        "test_ds_architecture_training_accuracy = [evaluation_data.train_accuracy for evaluation_data in test_ds_perf_stats]"
      ],
      "id": "5Mt2lMfJxTuH"
    },
    {
      "cell_type": "code",
      "execution_count": null,
      "metadata": {
        "id": "CH6Ru4gbxTuH",
        "outputId": "aa749be6-403f-4165-8fd9-20c6e5f2fd3f"
      },
      "outputs": [
        {
          "data": {
            "text/plain": [
              "{'whiskers': [<matplotlib.lines.Line2D at 0x7fde4e058280>,\n",
              "  <matplotlib.lines.Line2D at 0x7fde4e058610>,\n",
              "  <matplotlib.lines.Line2D at 0x7fde4e063bb0>,\n",
              "  <matplotlib.lines.Line2D at 0x7fde4e063f40>,\n",
              "  <matplotlib.lines.Line2D at 0x7fde4e078520>,\n",
              "  <matplotlib.lines.Line2D at 0x7fde4e0788b0>],\n",
              " 'caps': [<matplotlib.lines.Line2D at 0x7fde4e0589a0>,\n",
              "  <matplotlib.lines.Line2D at 0x7fde4e058d30>,\n",
              "  <matplotlib.lines.Line2D at 0x7fde4e06d310>,\n",
              "  <matplotlib.lines.Line2D at 0x7fde4e06d6a0>,\n",
              "  <matplotlib.lines.Line2D at 0x7fde4e078c40>,\n",
              "  <matplotlib.lines.Line2D at 0x7fde4e078fd0>],\n",
              " 'boxes': [<matplotlib.lines.Line2D at 0x7fde4e04beb0>,\n",
              "  <matplotlib.lines.Line2D at 0x7fde4e063820>,\n",
              "  <matplotlib.lines.Line2D at 0x7fde4e078190>],\n",
              " 'medians': [<matplotlib.lines.Line2D at 0x7fde4e063100>,\n",
              "  <matplotlib.lines.Line2D at 0x7fde4e06da30>,\n",
              "  <matplotlib.lines.Line2D at 0x7fde4e0053a0>],\n",
              " 'fliers': [<matplotlib.lines.Line2D at 0x7fde4e063490>,\n",
              "  <matplotlib.lines.Line2D at 0x7fde4e06ddc0>,\n",
              "  <matplotlib.lines.Line2D at 0x7fde4e005760>],\n",
              " 'means': []}"
            ]
          },
          "execution_count": 43,
          "metadata": {},
          "output_type": "execute_result"
        },
        {
          "data": {
            "image/png": "[encoded data removed]",
            "text/plain": [
              "<Figure size 1080x720 with 1 Axes>"
            ]
          },
          "metadata": {},
          "output_type": "display_data"
        }
      ],
      "source": [
        "%matplotlib inline\n",
        "plt.figure(figsize=(15,10))\n",
        "plt.boxplot([training_ds_architecture_training_accuracy, dev_ds_architecture_training_accuracy, test_ds_architecture_training_accuracy],\n",
        "           labels=['Training dataset', 'Validation dataset', 'Test dataset'])"
      ],
      "id": "CH6Ru4gbxTuH"
    },
    {
      "cell_type": "code",
      "execution_count": null,
      "metadata": {
        "id": "CrHx6kGqxTuH"
      },
      "outputs": [],
      "source": [
        "training_ds_architecture_validation_accuracy = [evaluation_data.validation_accuracy for evaluation_data in training_ds_perf_stats]\n",
        "dev_ds_architecture_validation_accuracy = [evaluation_data.validation_accuracy for evaluation_data in dev_ds_perf_stats]\n",
        "test_ds_architecture_validation_accuracy = [evaluation_data.validation_accuracy for evaluation_data in test_ds_perf_stats]"
      ],
      "id": "CrHx6kGqxTuH"
    },
    {
      "cell_type": "code",
      "execution_count": null,
      "metadata": {
        "colab": {
          "base_uri": "https://localhost:8080/",
          "height": 1000
        },
        "id": "Ace0T1lAxTuI",
        "outputId": "e23a331e-8517-4ad6-c3ce-aeecae990ff6"
      },
      "outputs": [
        {
          "name": "stderr",
          "output_type": "stream",
          "text": [
            "/usr/local/lib/python3.7/dist-packages/matplotlib/cbook/__init__.py:1376: VisibleDeprecationWarning: Creating an ndarray from ragged nested sequences (which is a list-or-tuple of lists-or-tuples-or ndarrays with different lengths or shapes) is deprecated. If you meant to do this, you must specify 'dtype=object' when creating the ndarray.\n",
            "  X = np.atleast_1d(X.T if isinstance(X, np.ndarray) else np.asarray(X))\n"
          ]
        },
        {
          "data": {
            "text/plain": [
              "{'boxes': [<matplotlib.lines.Line2D at 0x7f1da8d7ea50>,\n",
              "  <matplotlib.lines.Line2D at 0x7f1da8d91090>,\n",
              "  <matplotlib.lines.Line2D at 0x7f1da8da3590>],\n",
              " 'caps': [<matplotlib.lines.Line2D at 0x7f1da8d82ad0>,\n",
              "  <matplotlib.lines.Line2D at 0x7f1da8d89050>,\n",
              "  <matplotlib.lines.Line2D at 0x7f1da8d99050>,\n",
              "  <matplotlib.lines.Line2D at 0x7f1da8d99590>,\n",
              "  <matplotlib.lines.Line2D at 0x7f1da8dac5d0>,\n",
              "  <matplotlib.lines.Line2D at 0x7f1da8dacb50>],\n",
              " 'fliers': [<matplotlib.lines.Line2D at 0x7f1da8d89b10>,\n",
              "  <matplotlib.lines.Line2D at 0x7f1da8da3050>,\n",
              "  <matplotlib.lines.Line2D at 0x7f1da8db4610>],\n",
              " 'means': [],\n",
              " 'medians': [<matplotlib.lines.Line2D at 0x7f1da8d895d0>,\n",
              "  <matplotlib.lines.Line2D at 0x7f1da8d99ad0>,\n",
              "  <matplotlib.lines.Line2D at 0x7f1da8db40d0>],\n",
              " 'whiskers': [<matplotlib.lines.Line2D at 0x7f1da8d82050>,\n",
              "  <matplotlib.lines.Line2D at 0x7f1da8d82590>,\n",
              "  <matplotlib.lines.Line2D at 0x7f1da8d915d0>,\n",
              "  <matplotlib.lines.Line2D at 0x7f1da8d91ad0>,\n",
              "  <matplotlib.lines.Line2D at 0x7f1da8da3ad0>,\n",
              "  <matplotlib.lines.Line2D at 0x7f1da8dac090>]}"
            ]
          },
          "execution_count": 28,
          "metadata": {},
          "output_type": "execute_result"
        },
        {
          "data": {
            "image/png": "[encoded data removed]",
            "text/plain": [
              "<Figure size 1440x720 with 1 Axes>"
            ]
          },
          "metadata": {},
          "output_type": "display_data"
        }
      ],
      "source": [
        "%matplotlib inline\n",
        "plt.figure(figsize=(20,10))\n",
        "plt.rcParams[\"figure.figsize\"] = (20,10)\n",
        "plt.rcParams[\"axes.labelsize\"] = 30\n",
        "plt.rcParams[\"axes.titlesize\"] = 30\n",
        "plt.rcParams[\"figure.titlesize\"] = 30\n",
        "plt.rcParams[\"xtick.labelsize\"] = 30\n",
        "plt.rcParams[\"ytick.labelsize\"] = 30\n",
        "plt.rcParams[\"legend.fontsize\"] = 30\n",
        "#plt.rcParams[\"legend.loc\"] = 'upper left'\n",
        "plt.rcParams[\"legend.loc\"] = 'best'\n",
        "plt.ylabel('Validation Accuracy')\n",
        "plt.boxplot([training_ds_architecture_validation_accuracy, dev_ds_architecture_validation_accuracy, test_ds_architecture_validation_accuracy], labels=['Training Dataset', 'Validation Dataset', 'Test Dataset'])"
      ],
      "id": "Ace0T1lAxTuI"
    },
    {
      "cell_type": "code",
      "execution_count": null,
      "metadata": {
        "id": "iVzKP_nwxTuI"
      },
      "outputs": [],
      "source": [
        "training_ds_architecture_test_accuracy = [evaluation_data.test_accuracy for evaluation_data in training_ds_perf_stats]\n",
        "dev_ds_architecture_test_accuracy = [evaluation_data.test_accuracy for evaluation_data in dev_ds_perf_stats]\n",
        "test_ds_architecture_test_accuracy = [evaluation_data.test_accuracy for evaluation_data in test_ds_perf_stats]"
      ],
      "id": "iVzKP_nwxTuI"
    },
    {
      "cell_type": "code",
      "execution_count": null,
      "metadata": {
        "id": "1HtZBCBlxTuI",
        "outputId": "74c0d498-0248-47d1-e3aa-4f7c6e87d2da"
      },
      "outputs": [
        {
          "data": {
            "text/plain": [
              "{'whiskers': [<matplotlib.lines.Line2D at 0x7fde4df0aa90>,\n",
              "  <matplotlib.lines.Line2D at 0x7fde4df0ae20>,\n",
              "  <matplotlib.lines.Line2D at 0x7fde4df25430>,\n",
              "  <matplotlib.lines.Line2D at 0x7fde4df257c0>,\n",
              "  <matplotlib.lines.Line2D at 0x7fde4df2fd60>,\n",
              "  <matplotlib.lines.Line2D at 0x7fde4df3a130>],\n",
              " 'caps': [<matplotlib.lines.Line2D at 0x7fde4df171f0>,\n",
              "  <matplotlib.lines.Line2D at 0x7fde4df17580>,\n",
              "  <matplotlib.lines.Line2D at 0x7fde4df25b50>,\n",
              "  <matplotlib.lines.Line2D at 0x7fde4df25ee0>,\n",
              "  <matplotlib.lines.Line2D at 0x7fde4df3a4c0>,\n",
              "  <matplotlib.lines.Line2D at 0x7fde4df3a850>],\n",
              " 'boxes': [<matplotlib.lines.Line2D at 0x7fde4df0a700>,\n",
              "  <matplotlib.lines.Line2D at 0x7fde4df250a0>,\n",
              "  <matplotlib.lines.Line2D at 0x7fde4df2f9d0>],\n",
              " 'medians': [<matplotlib.lines.Line2D at 0x7fde4df17940>,\n",
              "  <matplotlib.lines.Line2D at 0x7fde4df2f2b0>,\n",
              "  <matplotlib.lines.Line2D at 0x7fde4df3abe0>],\n",
              " 'fliers': [<matplotlib.lines.Line2D at 0x7fde4df17cd0>,\n",
              "  <matplotlib.lines.Line2D at 0x7fde4df2f640>,\n",
              "  <matplotlib.lines.Line2D at 0x7fde4df3af70>],\n",
              " 'means': []}"
            ]
          },
          "execution_count": 47,
          "metadata": {},
          "output_type": "execute_result"
        },
        {
          "data": {
            "image/png": "[encoded data removed]",
            "text/plain": [
              "<Figure size 1080x720 with 1 Axes>"
            ]
          },
          "metadata": {},
          "output_type": "display_data"
        }
      ],
      "source": [
        "%matplotlib inline\n",
        "plt.figure(figsize=(15,10))\n",
        "plt.boxplot([training_ds_architecture_test_accuracy, dev_ds_architecture_test_accuracy, test_ds_architecture_test_accuracy],\n",
        "           labels=['Training dataset', 'Validation dataset', 'Test dataset'])"
      ],
      "id": "1HtZBCBlxTuI"
    },
    {
      "cell_type": "markdown",
      "metadata": {
        "id": "5JaXSXkixTuJ"
      },
      "source": [
        "<h3>Layer distribution analysis</h3>"
      ],
      "id": "5JaXSXkixTuJ"
    },
    {
      "cell_type": "markdown",
      "metadata": {
        "id": "a_oPZqEzxTuJ"
      },
      "source": [
        "<p>Let us know about the distribution of various layers in the dataset. The layer-wise distribution will allow us to determine the impact of imbalanced features set in the training, validation, and testing datasets.</p>"
      ],
      "id": "a_oPZqEzxTuJ"
    },
    {
      "cell_type": "code",
      "execution_count": null,
      "metadata": {
        "id": "bwBvkpN-xTuJ"
      },
      "outputs": [],
      "source": [
        "training_ds_operations = [operations for index, graph, operations, evaluation_data in graphs_nas[:num_train]]\n",
        "dev_ds_operations = [operations for index, graph, operations, evaluation_data in graphs_nas[:num_dev]]\n",
        "test_ds_operations = [operations for index, graph, operations, evaluation_data in graphs_nas[num_train:]]"
      ],
      "id": "bwBvkpN-xTuJ"
    },
    {
      "cell_type": "code",
      "execution_count": null,
      "metadata": {
        "colab": {
          "base_uri": "https://localhost:8080/"
        },
        "id": "TPhEY8B-xTuJ",
        "outputId": "41fc4a68-96b5-4832-d191-b8edb23eb4f3"
      },
      "outputs": [
        {
          "data": {
            "text/plain": [
              "[0.1463377260190009,\n",
              " 0.24655225252834814,\n",
              " 0.22724486668709776,\n",
              " 0.1463377260190009,\n",
              " 0.23352742874655225]"
            ]
          },
          "execution_count": 30,
          "metadata": {},
          "output_type": "execute_result"
        }
      ],
      "source": [
        "training_ds_operations_freq = dict()\n",
        "for operations in training_ds_operations:\n",
        "    for layer in operations:\n",
        "        if layer in training_ds_operations_freq.keys():\n",
        "            training_ds_operations_freq[layer] +=1\n",
        "        else:\n",
        "            training_ds_operations_freq[layer] = 1\n",
        "training_freq = [val/sum(training_ds_operations_freq.values()) for val in training_ds_operations_freq.values()]\n",
        "training_freq"
      ],
      "id": "TPhEY8B-xTuJ"
    },
    {
      "cell_type": "code",
      "execution_count": null,
      "metadata": {
        "colab": {
          "base_uri": "https://localhost:8080/"
        },
        "id": "qQsdDizgxTuK",
        "outputId": "f11f6621-8271-44b6-c595-8f023606d38d"
      },
      "outputs": [
        {
          "data": {
            "text/plain": [
              "[0.14655172413793102,\n",
              " 0.2512315270935961,\n",
              " 0.2210591133004926,\n",
              " 0.14655172413793102,\n",
              " 0.23460591133004927]"
            ]
          },
          "execution_count": 31,
          "metadata": {},
          "output_type": "execute_result"
        }
      ],
      "source": [
        "dev_ds_operations_freq = dict()\n",
        "for operations in dev_ds_operations:\n",
        "    for layer in operations:\n",
        "        if layer in dev_ds_operations_freq.keys():\n",
        "            dev_ds_operations_freq[layer] +=1\n",
        "        else:\n",
        "            dev_ds_operations_freq[layer] = 1\n",
        "dev_freq = [val/sum(dev_ds_operations_freq.values()) for val in dev_ds_operations_freq.values()]\n",
        "dev_freq"
      ],
      "id": "qQsdDizgxTuK"
    },
    {
      "cell_type": "code",
      "execution_count": null,
      "metadata": {
        "colab": {
          "base_uri": "https://localhost:8080/"
        },
        "id": "Ay6nVEyqxTuK",
        "outputId": "c6ccd104-58ba-4909-af99-e348a0d09620"
      },
      "outputs": [
        {
          "data": {
            "text/plain": [
              "[0.14671577655003068,\n",
              " 0.24923265807243708,\n",
              " 0.23756906077348067,\n",
              " 0.14671577655003068,\n",
              " 0.21976672805402087]"
            ]
          },
          "execution_count": 32,
          "metadata": {},
          "output_type": "execute_result"
        }
      ],
      "source": [
        "test_ds_operations_freq = dict()\n",
        "for operations in test_ds_operations:\n",
        "    for layer in operations:\n",
        "        if layer in test_ds_operations_freq.keys():\n",
        "            test_ds_operations_freq[layer] +=1\n",
        "        else:\n",
        "            test_ds_operations_freq[layer] = 1\n",
        "test_freq = [val/sum(test_ds_operations_freq.values()) for val in test_ds_operations_freq.values()]\n",
        "test_freq"
      ],
      "id": "Ay6nVEyqxTuK"
    },
    {
      "cell_type": "code",
      "execution_count": null,
      "metadata": {
        "colab": {
          "base_uri": "https://localhost:8080/",
          "height": 656
        },
        "id": "1Ts51jzExTuK",
        "outputId": "870fd4b2-d77b-4517-ba9c-df09f4fe0cdc"
      },
      "outputs": [
        {
          "data": {
            "text/plain": [
              "<Figure size 1440x720 with 0 Axes>"
            ]
          },
          "metadata": {},
          "output_type": "display_data"
        },
        {
          "data": {
            "image/png": "[encoded data removed]",
            "text/plain": [
              "<Figure size 1440x720 with 1 Axes>"
            ]
          },
          "metadata": {},
          "output_type": "display_data"
        }
      ],
      "source": [
        "operations = training_ds_operations_freq.keys()\n",
        "\n",
        "x = np.arange(len(operations))  # the label locations\n",
        "width = 0.25  # the width of the bars\n",
        "\n",
        "plt.figure(figsize=(20,10))\n",
        "plt.rcParams[\"figure.figsize\"] = (20,10)\n",
        "plt.rcParams[\"axes.labelsize\"] = 30\n",
        "plt.rcParams[\"axes.titlesize\"] = 30\n",
        "plt.rcParams[\"figure.titlesize\"] = 30\n",
        "plt.rcParams[\"xtick.labelsize\"] = 30\n",
        "plt.rcParams[\"ytick.labelsize\"] = 30\n",
        "plt.rcParams[\"legend.fontsize\"] = 30\n",
        "#plt.rcParams[\"legend.loc\"] = 'upper left'\n",
        "plt.rcParams[\"legend.loc\"] = 'best'\n",
        "fig, ax = plt.subplots()\n",
        "rects1 = ax.bar(x - width, training_freq, width, label='Training')\n",
        "rects2 = ax.bar(x, dev_freq, width, label='Validation')\n",
        "rects3 = ax.bar(x + width, test_freq, width, label='Test')\n",
        "\n",
        "# Add some text for labels, title and custom x-axis tick labels, etc.\n",
        "ax.set_ylabel('Frequency')\n",
        "ax.set_title('Frequency of Layers in the dataset')\n",
        "ax.set_xticks(x)\n",
        "ax.set_xticklabels(operations)\n",
        "ax.legend()\n",
        "\n",
        "#\n",
        "# fig.tight_layout()\n",
        "\n",
        "plt.show()"
      ],
      "id": "1Ts51jzExTuK"
    },
    {
      "cell_type": "markdown",
      "metadata": {
        "id": "d-KKbOktxTuK"
      },
      "source": [
        "<h3>Graph structure validation</h3>"
      ],
      "id": "d-KKbOktxTuK"
    },
    {
      "cell_type": "markdown",
      "metadata": {
        "id": "2ZzRJRxFxTuL"
      },
      "source": [
        "<p>The NAS-101 represents the neural network architectures as directed acyclic graphs.  Though this dataset has been used extensively in research. We now carry out the below graph validations as sanity checks.  Later we'll perform the same validation check on the graphs generated using the GRAN model.</p>\n",
        "\n",
        "<ul>\n",
        "    <li>Self loops</li>\n",
        "    <li>Isolate nodes</li>\n",
        "    <li>Graph is directed or undirected</li>\n",
        "<ul>"
      ],
      "id": "2ZzRJRxFxTuL"
    },
    {
      "cell_type": "markdown",
      "metadata": {
        "id": "cVSYp2iPxTuL"
      },
      "source": [
        "<h4>Self loops</h4>"
      ],
      "id": "cVSYp2iPxTuL"
    },
    {
      "cell_type": "markdown",
      "metadata": {
        "id": "KBd_8UXgxTuL"
      },
      "source": [
        "<p>A self-loop check determines if the node connects to itself. For neural architecture, we don't expect the layers to connect to themselves. We will count the graphs which have self-loops.</p>"
      ],
      "id": "KBd_8UXgxTuL"
    },
    {
      "cell_type": "code",
      "execution_count": null,
      "metadata": {
        "id": "OZjLesR0xTuL",
        "outputId": "42770a28-ba25-4609-955f-8078b09e5b71"
      },
      "outputs": [
        {
          "name": "stdout",
          "output_type": "stream",
          "text": [
            "Number of graphs with self loops  0\n"
          ]
        }
      ],
      "source": [
        "num_graphs_with_self_loops = 0\n",
        "for _, graph, _, _ in graphs_nas:\n",
        "    num_graphs_with_self_loops += 1 if nx.number_of_selfloops(graph) > 0 else 0\n",
        "print(\"Number of graphs with self loops \", num_graphs_with_self_loops)"
      ],
      "id": "OZjLesR0xTuL"
    },
    {
      "cell_type": "markdown",
      "metadata": {
        "id": "k3-sMmkZxTuL"
      },
      "source": [
        "<h3>Isolated nodes</h3>"
      ],
      "id": "k3-sMmkZxTuL"
    },
    {
      "cell_type": "markdown",
      "metadata": {
        "id": "DYv_bBWqxTuL"
      },
      "source": [
        "<p>Isolated nodes check will identify nodes not connected to any other in the graph.  In a neural network, we expect the layers to form connections with another layer. We will count the graphs with isolated nodes.<p>"
      ],
      "id": "DYv_bBWqxTuL"
    },
    {
      "cell_type": "code",
      "execution_count": null,
      "metadata": {
        "id": "g-Ezl7NsxTuM",
        "outputId": "b6fccf51-0210-4721-9bde-109a506cf84b"
      },
      "outputs": [
        {
          "name": "stdout",
          "output_type": "stream",
          "text": [
            "Number of graphs with isolated nodes  0\n"
          ]
        }
      ],
      "source": [
        "num_graphs_with_isolates = 0\n",
        "for _, graph, _, _ in graphs_nas:\n",
        "    num_graphs_with_isolates += 1 if nx.number_of_isolates(graph) > 0 else 0\n",
        "print(\"Number of graphs with isolated nodes \", num_graphs_with_isolates)"
      ],
      "id": "g-Ezl7NsxTuM"
    },
    {
      "cell_type": "markdown",
      "metadata": {
        "id": "Qu5wCC2WxTuO"
      },
      "source": [
        "<h3>Evaluation of the GRAN generated neural network architecture graphs</h3>"
      ],
      "id": "Qu5wCC2WxTuO"
    },
    {
      "cell_type": "markdown",
      "metadata": {
        "id": "crGO2wTQxTuO"
      },
      "source": [
        "<p>One can evaluate the graph generation process using several metrics.  We consider the reconstruction accuracy of neural network architectures, validity, uniqueness, and novelty. We will look at each metric in detail in the coming sections.</p>"
      ],
      "id": "crGO2wTQxTuO"
    },
    {
      "cell_type": "code",
      "execution_count": null,
      "metadata": {
        "id": "hSbJROQyxTuO",
        "outputId": "3eb6019b-0137-4178-d9ab-e452606866fd"
      },
      "outputs": [
        {
          "name": "stdout",
          "output_type": "stream",
          "text": [
            "Loading dataset from file... This may take a few minutes...\n",
            "WARNING:tensorflow:From /home/matrix/.conda/envs/ai/lib/python3.9/site-packages/tensorflow/python/compat/v2_compat.py:96: disable_resource_variables (from tensorflow.python.ops.variable_scope) is deprecated and will be removed in a future version.\n",
            "Instructions for updating:\n",
            "non-resource variables are not supported in the long term\n",
            "Loaded dataset in 52 seconds\n"
          ]
        }
      ],
      "source": [
        "# Initialize the NASBench object which parses the raw data into memory (this\n",
        "# should only be run once as it takes up to a few minutes).\n",
        "from nasbench import api\n",
        "\n",
        "# Use nasbench_full.tfrecord for full dataset (run download command above).\n",
        "nasbench = api.NASBench(nas_101_filepath)"
      ],
      "id": "hSbJROQyxTuO"
    },
    {
      "cell_type": "markdown",
      "metadata": {
        "id": "2Zs8TfNSxTuP"
      },
      "source": [
        "</p>Let us query the dataset using a simple example.</p>"
      ],
      "id": "2Zs8TfNSxTuP"
    },
    {
      "cell_type": "code",
      "execution_count": null,
      "metadata": {
        "id": "X1_28LlJxTuP",
        "outputId": "3a08fbac-fdac-455d-addf-f80bd7eb6040"
      },
      "outputs": [
        {
          "name": "stdout",
          "output_type": "stream",
          "text": [
            "module_adjacency: [[0 1 1 1 1 0 0]\n",
            " [0 0 0 0 0 0 1]\n",
            " [0 0 0 0 0 0 1]\n",
            " [0 0 0 0 0 0 1]\n",
            " [0 0 0 0 0 1 0]\n",
            " [0 0 0 0 0 0 1]\n",
            " [0 0 0 0 0 0 0]]\n",
            "module_operations: ['input', 'conv3x3-bn-relu', 'conv1x1-bn-relu', 'maxpool3x3', 'conv3x3-bn-relu', 'conv3x3-bn-relu', 'output']\n",
            "trainable_parameters: 2694282\n",
            "training_time: 1157.675048828125\n",
            "train_accuracy: 1.0\n",
            "validation_accuracy: 0.9378004670143127\n",
            "test_accuracy: 0.932692289352417\n"
          ]
        }
      ],
      "source": [
        "# Useful constants\n",
        "INPUT = 'input'\n",
        "OUTPUT = 'output'\n",
        "CONV3X3 = 'conv3x3-bn-relu'\n",
        "CONV1X1 = 'conv1x1-bn-relu'\n",
        "MAXPOOL3X3 = 'maxpool3x3'\n",
        "\n",
        "# GRAN output adjacecy matrix and label is used as input to the api\n",
        "cell = api.ModelSpec(\n",
        "  matrix=[[0, 1, 1, 1, 0, 1, 0],    # input layer\n",
        "          [0, 0, 0, 0, 0, 0, 1],    # 1x1 conv\n",
        "          [0, 0, 0, 0, 0, 0, 1],    # 3x3 conv\n",
        "          [0, 0, 0, 0, 1, 0, 0],    # 5x5 conv (replaced by two 3x3's)\n",
        "          [0, 0, 0, 0, 0, 0, 1],    # 5x5 conv (replaced by two 3x3's)\n",
        "          [0, 0, 0, 0, 0, 0, 1],    # 3x3 max-pool\n",
        "          [0, 0, 0, 0, 0, 0, 0]],   # output layer\n",
        "  # Operations at the vertices of the module, matches order of matrix.\n",
        "  ops=[INPUT, CONV1X1, CONV3X3, CONV3X3, CONV3X3, MAXPOOL3X3, OUTPUT])\n",
        "\n",
        "# Querying multiple times may yield different results. Each cell is evaluated 3\n",
        "# times at each epoch budget and querying will sample one randomly.\n",
        "data = nasbench.query(cell)\n",
        "for k, v in data.items():\n",
        "  print('%s: %s' % (k, str(v)))"
      ],
      "id": "X1_28LlJxTuP"
    },
    {
      "cell_type": "markdown",
      "metadata": {
        "id": "haqo8G4yxTuP"
      },
      "source": [
        "<p>We require the adjacency matrix and the corresponding node label (layer name) to query the NAS-101 benchmark dataset. Let us now check a failure case.</p>"
      ],
      "id": "haqo8G4yxTuP"
    },
    {
      "cell_type": "code",
      "execution_count": null,
      "metadata": {
        "id": "FRFxtXMjxTuP"
      },
      "outputs": [],
      "source": [
        "# #the below adjacency matrix has a selfloop in the input node\n",
        "# cell = api.ModelSpec(\n",
        "#   matrix=[[1, 1, 1, 1, 0, 1, 0],    # input layer\n",
        "#           [0, 0, 0, 0, 0, 0, 1],    # 1x1 conv\n",
        "#           [0, 0, 0, 0, 0, 0, 1],    # 3x3 conv\n",
        "#           [0, 0, 0, 0, 1, 0, 0],    # 5x5 conv (replaced by two 3x3's)\n",
        "#           [0, 0, 0, 0, 0, 0, 1],    # 5x5 conv (replaced by two 3x3's)\n",
        "#           [0, 0, 0, 0, 0, 0, 1],    # 3x3 max-pool\n",
        "#           [0, 0, 0, 0, 0, 0, 0]],   # output layer\n",
        "#   # Operations at the vertices of the module, matches order of matrix.\n",
        "#   ops=[INPUT, CONV1X1, CONV3X3, CONV3X3, CONV3X3, MAXPOOL3X3, OUTPUT])\n",
        "\n",
        "# # Querying multiple times may yield different results. Each cell is evaluated 3\n",
        "# # times at each epoch budget and querying will sample one randomly.\n",
        "# data = nasbench.query(cell)\n",
        "# for k, v in data.items():\n",
        "#   print('%s: %s' % (k, str(v)))"
      ],
      "id": "FRFxtXMjxTuP"
    },
    {
      "cell_type": "markdown",
      "metadata": {
        "id": "MmWH5BjFxTuQ"
      },
      "source": [
        "<p>The NAS-101 benchmark errors are not helpful but, it rejects samples not valid in the dataset. Thus, we have enough information to validate the graphs generated from the GRAN model.</p>"
      ],
      "id": "MmWH5BjFxTuQ"
    },
    {
      "cell_type": "markdown",
      "metadata": {
        "id": "PGcEZM2cxTuQ"
      },
      "source": [
        "<h3>Validity</h3>"
      ],
      "id": "PGcEZM2cxTuQ"
    },
    {
      "cell_type": "markdown",
      "metadata": {
        "id": "2xpn-qKNxTuQ"
      },
      "source": [
        "</p>Validity measures the number of validly generated graphs. Specifically, it has to satisfy the constraints of Directed Acyclic Graph and Neural Networks.</p>\n",
        "\n",
        "<ul>\n",
        "    <li>Only the input node is at the start.</li>\n",
        "    <li>Only the output node is at the end.</li>\n",
        "    <li>Except for the output node, there should not be any node without a successor.</li>\n",
        "    <li>Except for the input node, there should not be any node without a predecessor.</li>\n",
        "</ul>"
      ],
      "id": "2xpn-qKNxTuQ"
    },
    {
      "cell_type": "markdown",
      "metadata": {
        "id": "Au701CsfxTuQ"
      },
      "source": [
        "<p>Fortunately, the NAS-101 benchmark API also provides a method to validate the generated graph. Like the previous test, we need to pass the adjacency matrix and its corresponding node label. The API will provide the validated result.</p>"
      ],
      "id": "Au701CsfxTuQ"
    },
    {
      "cell_type": "code",
      "execution_count": null,
      "metadata": {
        "id": "z3NPJtXjxTuQ",
        "outputId": "5392b84e-53b5-40c7-bcc5-8cf143fdd2cc"
      },
      "outputs": [
        {
          "name": "stdout",
          "output_type": "stream",
          "text": [
            "Is the generated graph valid?  True\n"
          ]
        }
      ],
      "source": [
        "# GRAN output adjacecy matrix and label is used as input to the api\n",
        "cell = api.ModelSpec(\n",
        "  matrix=[[0, 1, 1, 1, 0, 1, 0],    # input layer\n",
        "          [0, 0, 0, 0, 0, 0, 1],    # 1x1 conv\n",
        "          [0, 0, 0, 0, 0, 0, 1],    # 3x3 conv\n",
        "          [0, 0, 0, 0, 1, 0, 0],    # 5x5 conv (replaced by two 3x3's)\n",
        "          [0, 0, 0, 0, 0, 0, 1],    # 5x5 conv (replaced by two 3x3's)\n",
        "          [0, 0, 0, 0, 0, 0, 1],    # 3x3 max-pool\n",
        "          [0, 0, 0, 0, 0, 0, 0]],   # output layer\n",
        "  # Operations at the vertices of the module, matches order of matrix.\n",
        "  ops=[INPUT, CONV1X1, CONV3X3, CONV3X3, CONV3X3, MAXPOOL3X3, OUTPUT])\n",
        "\n",
        "print(\"Is the generated graph valid? \", nasbench.is_valid(cell))"
      ],
      "id": "z3NPJtXjxTuQ"
    },
    {
      "cell_type": "markdown",
      "metadata": {
        "id": "krUHwiWZxTuR"
      },
      "source": [
        "<p>Let us now test a failure case as usual.</p>"
      ],
      "id": "krUHwiWZxTuR"
    },
    {
      "cell_type": "code",
      "execution_count": null,
      "metadata": {
        "id": "1v8mclv2xTuR",
        "outputId": "765b250e-4274-4d84-c677-bd90a5cc9bb6"
      },
      "outputs": [
        {
          "name": "stdout",
          "output_type": "stream",
          "text": [
            "Is the generated graph valid?  False\n"
          ]
        }
      ],
      "source": [
        "# GRAN output adjacecy matrix and label is used as input to the api\n",
        "cell = api.ModelSpec(\n",
        "  matrix=[[0, 1, 0, 0, 0, 0, 0],    # input layer\n",
        "          [0, 0, 1, 0, 1, 0, 1],    # 3x3 max-pool\n",
        "          [0, 0, 0, 1, 0, 1, 0],    # 3x3 max-pool\n",
        "          [0, 0, 0, 0, 1, 0, 1],    # 3x3 max-pool\n",
        "          [0, 0, 0, 0, 0, 1, 0],    # 3x3 max-pool\n",
        "          [0, 0, 0, 0, 0, 0, 1],    # 3x3 max-pool\n",
        "          [0, 0, 0, 0, 0, 0, 0]],   # output layer\n",
        "  # Operations at the vertices of the module, matches order of matrix.\n",
        "  ops=[INPUT, MAXPOOL3X3, MAXPOOL3X3, MAXPOOL3X3, MAXPOOL3X3, MAXPOOL3X3, OUTPUT])\n",
        "\n",
        "print(\"Is the generated graph valid? \", nasbench.is_valid(cell))"
      ],
      "id": "1v8mclv2xTuR"
    },
    {
      "cell_type": "markdown",
      "metadata": {
        "id": "shaGXeD3xTuR"
      },
      "source": [
        "<p>Let us look at few more failure example.</p>"
      ],
      "id": "shaGXeD3xTuR"
    },
    {
      "cell_type": "code",
      "execution_count": null,
      "metadata": {
        "id": "KKfLxz66xTuR",
        "outputId": "c930300b-94b1-4ded-bbdc-e77b10b162a7"
      },
      "outputs": [
        {
          "name": "stdout",
          "output_type": "stream",
          "text": [
            "Is the generated graph valid?  False\n"
          ]
        }
      ],
      "source": [
        "# GRAN output adjacecy matrix and label is used as input to the api\n",
        "cell = api.ModelSpec(\n",
        "  matrix=[[0, 1, 1, 1, 0, 1, 0],    # input layer\n",
        "          [0, 0, 0, 0, 0, 0, 1],    # 1x1 conv\n",
        "          [0, 0, 0, 0, 0, 0, 1],    # 3x3 conv\n",
        "          [0, 0, 0, 0, 1, 0, 0],    # 5x5 conv (replaced by two 3x3's)\n",
        "          [0, 0, 0, 0, 0, 0, 1],    # 5x5 conv (replaced by two 3x3's)\n",
        "          [0, 0, 0, 0, 0, 0, 1],    # 3x3 max-pool\n",
        "          [0, 0, 0, 0, 0, 0, 0]],   # output layer\n",
        "  # Operations at the vertices of the module, matches order of matrix.\n",
        "  ops=[MAXPOOL3X3, INPUT, MAXPOOL3X3, MAXPOOL3X3, MAXPOOL3X3, MAXPOOL3X3, OUTPUT])\n",
        "\n",
        "print(\"Is the generated graph valid? \", nasbench.is_valid(cell))"
      ],
      "id": "KKfLxz66xTuR"
    },
    {
      "cell_type": "code",
      "execution_count": null,
      "metadata": {
        "id": "MtH6Bko-xTuR",
        "outputId": "6aa9821e-6dfe-4d82-fc3b-590c9ef7f4f5"
      },
      "outputs": [
        {
          "name": "stdout",
          "output_type": "stream",
          "text": [
            "Is the generated graph valid?  False\n"
          ]
        }
      ],
      "source": [
        "# GRAN output adjacecy matrix and label is used as input to the api\n",
        "cell = api.ModelSpec(\n",
        "  matrix=[[0, 1, 1, 1, 0, 1, 0],    # input layer\n",
        "          [0, 0, 0, 0, 0, 0, 1],    # 1x1 conv\n",
        "          [0, 0, 0, 0, 0, 0, 1],    # 3x3 conv\n",
        "          [0, 0, 0, 0, 1, 0, 0],    # 5x5 conv (replaced by two 3x3's)\n",
        "          [0, 0, 0, 0, 0, 0, 1],    # 5x5 conv (replaced by two 3x3's)\n",
        "          [0, 0, 0, 0, 0, 0, 1],    # 3x3 max-pool\n",
        "          [0, 0, 0, 0, 0, 0, 0]],   # output layer\n",
        "  # Operations at the vertices of the module, matches order of matrix.\n",
        "  ops=[INPUT, MAXPOOL3X3, MAXPOOL3X3, MAXPOOL3X3, MAXPOOL3X3, OUTPUT, MAXPOOL3X3])\n",
        "\n",
        "print(\"Is the generated graph valid? \", nasbench.is_valid(cell))"
      ],
      "id": "MtH6Bko-xTuR"
    },
    {
      "cell_type": "markdown",
      "metadata": {
        "id": "7Hly9m51xTuS"
      },
      "source": [
        "<h3>Uniqueness</h3>"
      ],
      "id": "7Hly9m51xTuS"
    },
    {
      "cell_type": "markdown",
      "metadata": {
        "id": "sSImDydQxTuS"
      },
      "source": [
        "<p>Uniqueness measures the unique share of the generated graphs. Simply put, we calculate the graph similarity.  If the generated graphs are diverse among the generated graphs, then the generative model produces unique graphs.</p>"
      ],
      "id": "sSImDydQxTuS"
    },
    {
      "cell_type": "markdown",
      "metadata": {
        "id": "HNBR4Zq1xTuS"
      },
      "source": [
        "<p>We will randomly pick ten graphs from our sample NAS dataset. Then we will use the networkx library for measuring graph similarity.</p>"
      ],
      "id": "HNBR4Zq1xTuS"
    },
    {
      "cell_type": "code",
      "execution_count": null,
      "metadata": {
        "id": "WJg1naHExTuS",
        "outputId": "631ae058-b85a-4c33-b60d-51f1f3917c1e"
      },
      "outputs": [
        {
          "data": {
            "text/plain": [
              "array([1166,  358,   66,  279,  703,  196,  925,  568,  872,  596])"
            ]
          },
          "execution_count": 71,
          "metadata": {},
          "output_type": "execute_result"
        }
      ],
      "source": [
        "random_indexes = np.random.randint(0, len(graphs_nas), (10), dtype=np.int64)\n",
        "random_indexes"
      ],
      "id": "WJg1naHExTuS"
    },
    {
      "cell_type": "code",
      "execution_count": null,
      "metadata": {
        "id": "9qQUieGkxTuS",
        "outputId": "f75624c2-a8a1-46a4-e947-3a2318fe4123"
      },
      "outputs": [
        {
          "data": {
            "text/plain": [
              "10"
            ]
          },
          "execution_count": 72,
          "metadata": {},
          "output_type": "execute_result"
        }
      ],
      "source": [
        "sampled_graphs = list()\n",
        "for index in range(len(random_indexes)):\n",
        "    sampled_graphs.append(graphs_nas[index][1])\n",
        "len(sampled_graphs)"
      ],
      "id": "9qQUieGkxTuS"
    },
    {
      "cell_type": "markdown",
      "metadata": {
        "id": "c5iDtbjvxTuT"
      },
      "source": [
        "<p>Graph edit distance measure tells us the minimum of edits in nodes and edges required in a graph to produce a corresponding isomorphic graph.</p>"
      ],
      "id": "c5iDtbjvxTuT"
    },
    {
      "cell_type": "markdown",
      "metadata": {
        "id": "UbaqQgI_xTuT"
      },
      "source": [
        "<p>For our purpose, we will use a fast graph edit distance algorithm available in networkx. We will sum up the graph edit distance of all the generated graphs.  The higher the value of the sum of the graph edit distance, the more diverse the graphs in the sampled_graphs.</p>"
      ],
      "id": "UbaqQgI_xTuT"
    },
    {
      "cell_type": "code",
      "execution_count": null,
      "metadata": {
        "id": "x3z5g8N4xTuT"
      },
      "outputs": [],
      "source": [
        "sum_minimum_graph_edit_distance = list()\n",
        "for i in range(10):\n",
        "    for j in range(i+1, 9):\n",
        "        sum_minimum_graph_edit_distance.append(int(min(nx.optimize_graph_edit_distance(sampled_graphs[i], sampled_graphs[j]))))"
      ],
      "id": "x3z5g8N4xTuT"
    },
    {
      "cell_type": "markdown",
      "metadata": {
        "id": "IN4Y0GXnxTuT"
      },
      "source": [
        "<p>Let us display the mean, variation, and standard deviation of graph edit distance.</p>"
      ],
      "id": "IN4Y0GXnxTuT"
    },
    {
      "cell_type": "code",
      "execution_count": null,
      "metadata": {
        "id": "9KkfTcaxxTuT",
        "outputId": "bbd94073-6b95-4eeb-d87e-23cb2d632b94"
      },
      "outputs": [
        {
          "name": "stdout",
          "output_type": "stream",
          "text": [
            "Mean graph edit distance 3.111111111111111\n",
            "Variations of the graph edit distance 1.6543209876543215\n",
            "Standard deviation of the graph edit distance 1.2862041003100253\n"
          ]
        }
      ],
      "source": [
        "print(\"Mean graph edit distance\", np.mean(sum_minimum_graph_edit_distance))\n",
        "print(\"Variations of the graph edit distance\", np.var(sum_minimum_graph_edit_distance))\n",
        "print(\"Standard deviation of the graph edit distance\", np.std(sum_minimum_graph_edit_distance))"
      ],
      "id": "9KkfTcaxxTuT"
    },
    {
      "cell_type": "markdown",
      "metadata": {
        "id": "ZiQSJAuqxTuU"
      },
      "source": [
        "<p>If the value of the minimum graph edit distance between two graphs is zero, then we have created the same graph. Now, let us check if there is zero edit distance in the sampled graphs.</p>"
      ],
      "id": "ZiQSJAuqxTuU"
    },
    {
      "cell_type": "code",
      "execution_count": null,
      "metadata": {
        "id": "lhC1qpi1xTuU",
        "outputId": "68b818f9-93c4-4821-9541-951758e8dfbf"
      },
      "outputs": [
        {
          "name": "stdout",
          "output_type": "stream",
          "text": [
            "Does any of the graphs generated are the same?  True\n"
          ]
        }
      ],
      "source": [
        "print(\"Does any of the graphs generated are the same? \",  min(sum_minimum_graph_edit_distance)== 0)"
      ],
      "id": "lhC1qpi1xTuU"
    },
    {
      "cell_type": "markdown",
      "metadata": {
        "id": "348uJ553xTuU"
      },
      "source": [
        "<p>As it turns out, we have an isomorphic graph in the sampled graphs. The frequency of the minimum graph edit distance will give us more information.</p>"
      ],
      "id": "348uJ553xTuU"
    },
    {
      "cell_type": "code",
      "execution_count": null,
      "metadata": {
        "id": "94DWdbZVxTuV",
        "outputId": "53555e94-0129-48c8-e067-487a62a9e08e"
      },
      "outputs": [
        {
          "data": {
            "text/plain": [
              "{2: 16, 5: 6, 4: 11, 0: 1, 3: 2}"
            ]
          },
          "execution_count": 76,
          "metadata": {},
          "output_type": "execute_result"
        }
      ],
      "source": [
        "freq_distribution = dict()\n",
        "for item in sum_minimum_graph_edit_distance:\n",
        "    if item in freq_distribution.keys():\n",
        "        freq_distribution[item] += 1\n",
        "    else:\n",
        "        freq_distribution[item] = 1\n",
        "freq_distribution"
      ],
      "id": "94DWdbZVxTuV"
    },
    {
      "cell_type": "markdown",
      "metadata": {
        "id": "O2ZzwkQSxTuV"
      },
      "source": [
        "<p>We will now look at the distribution of the sum_minimum_graph_edit_distance.</p>"
      ],
      "id": "O2ZzwkQSxTuV"
    },
    {
      "cell_type": "code",
      "execution_count": null,
      "metadata": {
        "id": "ZBQrkeS_xTuV",
        "outputId": "8a4ce0a5-4e88-4769-a8cb-8a38097c9a32"
      },
      "outputs": [
        {
          "data": {
            "text/plain": [
              "{2: 44.44444444444444,\n",
              " 5: 16.666666666666664,\n",
              " 4: 30.555555555555557,\n",
              " 0: 2.7777777777777777,\n",
              " 3: 5.555555555555555}"
            ]
          },
          "execution_count": 77,
          "metadata": {},
          "output_type": "execute_result"
        }
      ],
      "source": [
        "total_min_graph_edit_distance = sum(freq_distribution.values())\n",
        "normalized_freq_distribution = dict()\n",
        "for key in freq_distribution:\n",
        "    normalized_freq_distribution[key] = freq_distribution[key]/total_min_graph_edit_distance*100\n",
        "normalized_freq_distribution"
      ],
      "id": "ZBQrkeS_xTuV"
    },
    {
      "cell_type": "markdown",
      "metadata": {
        "id": "2m11lL5LxTuV"
      },
      "source": [
        "<p>The above distribution clearly shows that greater than 75% of the graphs require a minimum of three edits in nodes or edges to create a corresponding isomorphic graph. The results indicate a diverse set of graphs.</p>"
      ],
      "id": "2m11lL5LxTuV"
    },
    {
      "cell_type": "markdown",
      "metadata": {
        "id": "51Ba8XI3xTuV"
      },
      "source": [
        "<h3>Novelty</h3>"
      ],
      "id": "51Ba8XI3xTuV"
    },
    {
      "cell_type": "markdown",
      "metadata": {
        "id": "2KJiABVUxTuW"
      },
      "source": [
        "<p>We measure novelty as the number of validly generated graphs not available in the training dataset. We believe there are many ways to measure novelty by describing node, edge, or graph properties. Here, we consider two types of measurement for describing novelty metrics.</p>\n",
        "\n",
        "<ul>\n",
        "    <li>Graph isomorphism test</li>\n",
        "    <li>Graph edit distance similarity</li>\n",
        "<ul>"
      ],
      "id": "2KJiABVUxTuW"
    },
    {
      "cell_type": "markdown",
      "metadata": {
        "id": "wuhcwpZYxTuW"
      },
      "source": [
        "<h3>Graph isomorphism test</h3>"
      ],
      "id": "wuhcwpZYxTuW"
    },
    {
      "cell_type": "markdown",
      "metadata": {
        "id": "ikwbHOGGxTuW"
      },
      "source": [
        "<p>Here we will just measure the number of generated graphs that are isomorphic to the training dataset.</p>"
      ],
      "id": "ikwbHOGGxTuW"
    },
    {
      "cell_type": "markdown",
      "metadata": {
        "id": "BgxHd0uhxTuW"
      },
      "source": [
        "<p>We will create a randomly picked training set.  This training set will be utilized to evaluate the effectiveness of the novelty tests.</p>"
      ],
      "id": "BgxHd0uhxTuW"
    },
    {
      "cell_type": "code",
      "execution_count": null,
      "metadata": {
        "id": "vVx1_w52xTuW",
        "outputId": "f3816fcd-1b33-4a50-f3b6-2bb51e439ef1"
      },
      "outputs": [
        {
          "data": {
            "text/plain": [
              "10"
            ]
          },
          "execution_count": 78,
          "metadata": {},
          "output_type": "execute_result"
        }
      ],
      "source": [
        "random_indexes = np.random.randint(0, len(graphs_nas), (10), dtype=np.int64)\n",
        "training_graphs = list()\n",
        "for index in range(len(random_indexes)):\n",
        "    training_graphs.append(graphs_nas[index][1])\n",
        "len(training_graphs)"
      ],
      "id": "vVx1_w52xTuW"
    },
    {
      "cell_type": "markdown",
      "metadata": {
        "id": "uyZt61scxTuW"
      },
      "source": [
        "<p>Here we will compare each graph from the training set with each graph from the generated graphs. This process is not scalable to a large number of graphs. For large dataset comparison, please consider methods like clustered membership of generated graph with the training graphs. Therefore, the clustering approach will significantly reduce the computational workload.\n",
        "</p>"
      ],
      "id": "uyZt61scxTuW"
    },
    {
      "cell_type": "code",
      "execution_count": null,
      "metadata": {
        "id": "xPpp-fxDxTuX",
        "outputId": "828adbe7-41fd-48ea-c4e8-c3558fee7480"
      },
      "outputs": [
        {
          "name": "stdout",
          "output_type": "stream",
          "text": [
            "Total number of graphs similar to the training set are  10\n"
          ]
        }
      ],
      "source": [
        "num_isomorphic_graphs = 0\n",
        "for train_index in range(10):\n",
        "    for gen_index in range(10):\n",
        "        if nx.is_isomorphic(training_graphs[train_index], sampled_graphs[gen_index]):\n",
        "            num_isomorphic_graphs += 1\n",
        "            break\n",
        "print(\"Total number of graphs similar to the training set are \", num_isomorphic_graphs)"
      ],
      "id": "xPpp-fxDxTuX"
    },
    {
      "cell_type": "markdown",
      "metadata": {
        "id": "NOv7-SM3xTuX"
      },
      "source": [
        "<p>The results indicate there is at least one graph is similar to the graphs in the training set.</p>\n"
      ],
      "id": "NOv7-SM3xTuX"
    },
    {
      "cell_type": "markdown",
      "metadata": {
        "id": "gxsLHQ8YxTuX"
      },
      "source": [
        "<h3>Graph edit distance measure</h3>"
      ],
      "id": "gxsLHQ8YxTuX"
    },
    {
      "cell_type": "markdown",
      "metadata": {
        "id": "qZ0OryeixTuX"
      },
      "source": [
        "<p>As defined earlier, graph edit distance measure the number of changes required to make one graph isomorphic to another graph. The graph edit distance metric will measure the novelty as the number of changes in the generated graphs to create the same graph in the training set. Therefore, the more the graph edit distance, the more the novelty of the graph generation model.</p>"
      ],
      "id": "qZ0OryeixTuX"
    },
    {
      "cell_type": "code",
      "execution_count": null,
      "metadata": {
        "id": "gnfGgJvoxTuX"
      },
      "outputs": [],
      "source": [
        "sum_minimum_graph_edit_distance = list()\n",
        "for i in range(10):\n",
        "    for j in range(10):\n",
        "        sum_minimum_graph_edit_distance.append(int(min(nx.optimize_graph_edit_distance(training_graphs[i], sampled_graphs[j]))))"
      ],
      "id": "gnfGgJvoxTuX"
    },
    {
      "cell_type": "code",
      "execution_count": null,
      "metadata": {
        "id": "y0p4QoZVxTuY",
        "outputId": "dcf29fdb-a58d-43fb-e4b5-f66c9b93ca13"
      },
      "outputs": [
        {
          "data": {
            "text/plain": [
              "{0: 12, 2: 42, 5: 14, 4: 28, 3: 4}"
            ]
          },
          "execution_count": 81,
          "metadata": {},
          "output_type": "execute_result"
        }
      ],
      "source": [
        "freq_distribution = dict()\n",
        "for item in sum_minimum_graph_edit_distance:\n",
        "    if item in freq_distribution.keys():\n",
        "        freq_distribution[item] += 1\n",
        "    else:\n",
        "        freq_distribution[item] = 1\n",
        "freq_distribution"
      ],
      "id": "y0p4QoZVxTuY"
    },
    {
      "cell_type": "markdown",
      "metadata": {
        "id": "hvuzms71xTuY"
      },
      "source": [
        "<p>We do the same analysis between the generated graphs and the training graphs.</p>"
      ],
      "id": "hvuzms71xTuY"
    },
    {
      "cell_type": "code",
      "execution_count": null,
      "metadata": {
        "id": "hiSJ4vTLxTuY",
        "outputId": "95530128-e030-4cc4-9178-cbcfad1a6d5b"
      },
      "outputs": [
        {
          "data": {
            "text/plain": [
              "{0: 12.0, 2: 42.0, 5: 14.000000000000002, 4: 28.000000000000004, 3: 4.0}"
            ]
          },
          "execution_count": 82,
          "metadata": {},
          "output_type": "execute_result"
        }
      ],
      "source": [
        "total_min_graph_edit_distance = sum(freq_distribution.values())\n",
        "normalized_freq_distribution = dict()\n",
        "for key in freq_distribution:\n",
        "    normalized_freq_distribution[key] = freq_distribution[key]/total_min_graph_edit_distance*100\n",
        "normalized_freq_distribution"
      ],
      "id": "hiSJ4vTLxTuY"
    },
    {
      "cell_type": "markdown",
      "metadata": {
        "id": "MGYNtDyQxTuY"
      },
      "source": [
        "<p>80% generated graphs require an edit of at least 3 in the nodes or the edges to create a corresponding isomorphic graph in the training set. We can observe that our GRAN generative model discovers novel neural network architecture.</p>"
      ],
      "id": "MGYNtDyQxTuY"
    }
  ],
  "metadata": {
    "colab": {
      "provenance": []
    },
    "kernelspec": {
      "display_name": "Python 3",
      "language": "python",
      "name": "python3"
    },
    "language_info": {
      "codemirror_mode": {
        "name": "ipython",
        "version": 3
      },
      "file_extension": ".py",
      "mimetype": "text/x-python",
      "name": "python",
      "nbconvert_exporter": "python",
      "pygments_lexer": "ipython3",
      "version": "3.6.6"
    }
  },
  "nbformat": 4,
  "nbformat_minor": 5
}